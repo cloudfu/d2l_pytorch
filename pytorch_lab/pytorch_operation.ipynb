{
 "cells": [
  {
   "cell_type": "markdown",
   "metadata": {},
   "source": [
    "### 元素相乘\n",
    "该操作又称作 \"哈达玛积\", 简单来说就是 tensor 元素逐个相乘。这个操作，是通过 * 也就是常规的乘号操作符定义的操作结果。torch.mul 是等价的。"
   ]
  },
  {
   "cell_type": "code",
   "execution_count": 1,
   "metadata": {},
   "outputs": [
    {
     "data": {
      "text/plain": [
       "(tensor([ 4, 10, 18]), tensor([ 4, 10, 18]))"
      ]
     },
     "execution_count": 1,
     "metadata": {},
     "output_type": "execute_result"
    }
   ],
   "source": [
    "import torch\n",
    "\n",
    "# mul 和 * 一致，按照元素位置进行相乘，不做降维\n",
    "def element_by_element():\n",
    "    \n",
    "    x = torch.tensor([1, 2, 3])\n",
    "    y = torch.tensor([4, 5, 6])\n",
    "    \n",
    "    return x * y, torch.mul(x, y)\n",
    "\n",
    "element_by_element()"
   ]
  },
  {
   "cell_type": "code",
   "execution_count": null,
   "metadata": {},
   "outputs": [],
   "source": [
    "# 向量和标量相乘，会进行broadcast进行广播\n",
    "def element_by_element_broadcast():\n",
    "    \n",
    "    x = torch.tensor([1, 2, 3])\n",
    "    y = 2\n",
    "    \n",
    "    return x * y\n",
    "\n",
    "element_by_element_broadcast()"
   ]
  },
  {
   "cell_type": "markdown",
   "metadata": {},
   "source": [
    "### 向量点乘\n",
    "torch.matmul: If both tensors are 1-dimensional, the dot product (scalar) is returned.\n",
    "如果都是1维的，返回的就是 dot product 结果\n"
   ]
  },
  {
   "cell_type": "code",
   "execution_count": 3,
   "metadata": {},
   "outputs": [
    {
     "data": {
      "text/plain": [
       "tensor(32)"
      ]
     },
     "execution_count": 3,
     "metadata": {},
     "output_type": "execute_result"
    }
   ],
   "source": [
    "# 向量matmul 点积按照维度相乘之后再相加，会进行降维处理\n",
    "def vec_dot_product():\n",
    "    \n",
    "    x = torch.tensor([1, 2, 3])\n",
    "    y = torch.tensor([4, 5, 6])\n",
    "    \n",
    "    return torch.matmul(x, y)\n",
    "vec_dot_product()\n",
    "# tensor(32)"
   ]
  },
  {
   "cell_type": "markdown",
   "metadata": {},
   "source": [
    "### 矩阵乘法\n",
    "torch.matmul: If both arguments are 2-dimensional, the matrix-matrix product is returned.\n",
    "<BR/>如果都是2维，那么就是矩阵乘法的结果返回。与 torch.mm 是等价的，torch.mm 仅仅能处理的是矩阵乘法。"
   ]
  },
  {
   "cell_type": "code",
   "execution_count": 4,
   "metadata": {},
   "outputs": [
    {
     "data": {
      "text/plain": [
       "(tensor([[ 58,  64],\n",
       "         [139, 154]]),\n",
       " tensor([[ 58,  64],\n",
       "         [139, 154]]))"
      ]
     },
     "execution_count": 4,
     "metadata": {},
     "output_type": "execute_result"
    }
   ],
   "source": [
    "def matrix_multiple():\n",
    "    \n",
    "    x = torch.tensor([\n",
    "        [1, 2, 3],\n",
    "        [4, 5, 6]\n",
    "    ])\n",
    "    y = torch.tensor([\n",
    "        [7, 8],\n",
    "        [9, 10],\n",
    "        [11, 12]\n",
    "    ])\n",
    "    \n",
    "    return torch.matmul(x, y), torch.mm(x, y)\n",
    "\n",
    "matrix_multiple()"
   ]
  },
  {
   "cell_type": "markdown",
   "metadata": {},
   "source": [
    "### vector 与 matrix 相乘\n",
    "torch.matmul: If the first argument is 1-dimensional and the second argument is 2-dimensional, a 1 is prepended to its dimension for the purpose of the matrix multiply. After the matrix multiply, the prepended dimension is removed.\n",
    "\n",
    "如果第一个是 vector, 第二个是 matrix, 会在 vector 中增加一个维度。也就是 vector 变成了  与 matrix  相乘之后，变成 , 在结果中将  维 再去掉。\n"
   ]
  },
  {
   "cell_type": "code",
   "execution_count": 5,
   "metadata": {},
   "outputs": [
    {
     "data": {
      "text/plain": [
       "tensor([58, 64])"
      ]
     },
     "execution_count": 5,
     "metadata": {},
     "output_type": "execute_result"
    }
   ],
   "source": [
    "def vec_matrix():\n",
    "    x = torch.tensor([1, 2, 3])\n",
    "    y = torch.tensor([\n",
    "        [7, 8],\n",
    "        [9, 10],\n",
    "        [11, 12]\n",
    "    ])\n",
    "    \n",
    "    return torch.matmul(x, y)\n",
    "\n",
    "vec_matrix()"
   ]
  },
  {
   "cell_type": "markdown",
   "metadata": {},
   "source": [
    "### matrix 与 vector 相乘\n",
    "同样的道理， vector会被扩充一个维度。"
   ]
  },
  {
   "cell_type": "code",
   "execution_count": 6,
   "metadata": {},
   "outputs": [
    {
     "data": {
      "text/plain": [
       "tensor([ 50, 122])"
      ]
     },
     "execution_count": 6,
     "metadata": {},
     "output_type": "execute_result"
    }
   ],
   "source": [
    "def matrix_vec():\n",
    "    x = torch.tensor([\n",
    "        [1, 2, 3],\n",
    "        [4, 5, 6]\n",
    "    ])\n",
    "    y = torch.tensor([\n",
    "        7, 8, 9\n",
    "    ])\n",
    "    \n",
    "    return torch.matmul(x, y)\n",
    "\n",
    "matrix_vec()"
   ]
  },
  {
   "cell_type": "code",
   "execution_count": null,
   "metadata": {},
   "outputs": [],
   "source": []
  }
 ],
 "metadata": {
  "interpreter": {
   "hash": "ce539a29b37cbf6656fb94dad7e012f544b2b648a7f96b4739717121bbe2a2ab"
  },
  "kernelspec": {
   "display_name": "Python 3.9.7 64-bit ('pytorch': conda)",
   "language": "python",
   "name": "python3"
  },
  "language_info": {
   "codemirror_mode": {
    "name": "ipython",
    "version": 3
   },
   "file_extension": ".py",
   "mimetype": "text/x-python",
   "name": "python",
   "nbconvert_exporter": "python",
   "pygments_lexer": "ipython3",
   "version": "3.9.7"
  },
  "orig_nbformat": 4
 },
 "nbformat": 4,
 "nbformat_minor": 2
}
