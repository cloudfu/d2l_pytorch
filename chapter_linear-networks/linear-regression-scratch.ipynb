{
 "cells": [
  {
   "cell_type": "markdown",
   "metadata": {
    "origin_pos": 0
   },
   "source": [
    "# 线性回归的从零开始实现\n",
    ":label:`sec_linear_scratch`\n",
    "\n",
    "在了解线性回归的关键思想之后，我们可以开始通过代码来动手实现线性回归了。\n",
    "在这一节中，(**我们将从零开始实现整个方法，\n",
    "包括数据流水线、模型、损失函数和小批量随机梯度下降优化器**)。\n",
    "虽然现代的深度学习框架几乎可以自动化地进行所有这些工作，但从零开始实现可以确保你真正知道自己在做什么。\n",
    "同时，了解更细致的工作原理将方便我们自定义模型、自定义层或自定义损失函数。\n",
    "在这一节中，我们将只使用张量和自动求导。\n",
    "在之后的章节中，我们会充分利用深度学习框架的优势，介绍更简洁的实现方式。\n"
   ]
  },
  {
   "cell_type": "code",
   "execution_count": 100,
   "metadata": {
    "origin_pos": 2,
    "tab": [
     "pytorch"
    ]
   },
   "outputs": [],
   "source": [
    "%matplotlib inline\n",
    "import random\n",
    "import torch\n",
    "from d2l import torch as d2l"
   ]
  },
  {
   "cell_type": "markdown",
   "metadata": {
    "origin_pos": 4
   },
   "source": [
    "## 生成数据集\n",
    "\n",
    "为了简单起见，我们将[**根据带有噪声的线性模型构造一个人造数据集。**]\n",
    "我们的任务是使用这个有限样本的数据集来恢复这个模型的参数。\n",
    "我们将使用低维数据，这样可以很容易地将其可视化。\n",
    "在下面的代码中，我们生成一个包含1000个样本的数据集，\n",
    "每个样本包含从标准正态分布中采样的2个特征。\n",
    "我们的合成数据集是一个矩阵$\\mathbf{X}\\in \\mathbb{R}^{1000 \\times 2}$。\n",
    "\n",
    "(**我们使用线性模型参数$\\mathbf{w} = [2, -3.4]^\\top$、$b = 4.2$\n",
    "和噪声项$\\epsilon$生成数据集及其标签：\n",
    "\n",
    "$$\\mathbf{y}= \\mathbf{X} \\mathbf{w} + b + \\mathbf\\epsilon.$$\n",
    "**)\n",
    "\n",
    "你可以将$\\epsilon$视为模型预测和标签时的潜在观测误差。\n",
    "在这里我们认为标准假设成立，即$\\epsilon$服从均值为0的正态分布。\n",
    "为了简化问题，我们将标准差设为0.01。\n",
    "下面的代码生成合成数据集。\n"
   ]
  },
  {
   "cell_type": "code",
   "execution_count": 101,
   "metadata": {
    "origin_pos": 5,
    "tab": [
     "pytorch"
    ]
   },
   "outputs": [],
   "source": [
    "def synthetic_data(w, b, num_examples):  #@save\n",
    "    \"\"\"生成y=Xw+b+噪声\"\"\"\n",
    "\n",
    "    # w为权重 w = torch.tensor([2, -3.4])\n",
    "    # b为偏移量 b = true_b = 4.2\n",
    "    # num_examples = 1000\n",
    "\n",
    "    # torch.normal(means, std, out=None)\n",
    "    #   means (Tensor) – 均值，可以接收一个向量，或者一个标量\n",
    "    #   std (Tensor) – 标准差，可以接收一个向量，或者一个标量，means,std 会进行广播\n",
    "    #   out (Tensor) – 可选的输出张量\n",
    "\n",
    "    # 生成 平局数为0，标准差为1 (1000,2)的样例数据,\n",
    "    x = torch.normal(0, 1, (num_examples, len(w)))\n",
    "    # X = (1000,2)\n",
    "\n",
    "    # Y:(1000,2) * [2, -3.4] \n",
    "    # 降维由 (1000,2) 转变 (1000)，其中乘以 [2, -3.4] 造成 维度交叉[0]和[1]\n",
    "    y = torch.matmul(x, w) + b\n",
    "    # y:(1000)\n",
    "\n",
    "    y += torch.normal(0, 0.01, y.shape)\n",
    "    \n",
    "    # y.reshape(-1,1) = (1000,1)\n",
    "    return x, y.reshape((-1, 1))"
   ]
  },
  {
   "cell_type": "code",
   "execution_count": 102,
   "metadata": {
    "origin_pos": 7,
    "tab": [
     "pytorch"
    ]
   },
   "outputs": [
    {
     "name": "stdout",
     "output_type": "stream",
     "text": [
      "torch.Size([1000, 1])\n"
     ]
    }
   ],
   "source": [
    "# w为权重\n",
    "true_w = torch.tensor([2, -3.4])\n",
    "# b为偏移量\n",
    "true_b = 4.2\n",
    "    # y(1,1000)\n",
    "\n",
    "# 生成y=Xw+b+噪声\n",
    "# feature=(1000, 2) 每一行都包含一个二维数据样本\n",
    "# lables = (1000, 1) 每一行都包含一维标签值（一个标量）\n",
    "features, labels = synthetic_data(true_w, true_b, 1000)\n",
    "print(labels.shape)"
   ]
  },
  {
   "cell_type": "markdown",
   "metadata": {
    "origin_pos": 8
   },
   "source": [
    "注意，[**`features`中的每一行都包含一个二维数据样本，\n",
    "`labels`中的每一行都包含一维标签值（一个标量）**]。\n"
   ]
  },
  {
   "cell_type": "code",
   "execution_count": 103,
   "metadata": {
    "origin_pos": 9,
    "tab": [
     "pytorch"
    ]
   },
   "outputs": [
    {
     "name": "stdout",
     "output_type": "stream",
     "text": [
      "x: tensor([-0.2134, -1.3549]) \n",
      "label: tensor([8.3960])\n"
     ]
    }
   ],
   "source": [
    "print('x:', features[0],'\\nlabel:', labels[0])"
   ]
  },
  {
   "cell_type": "markdown",
   "metadata": {
    "origin_pos": 10
   },
   "source": [
    "通过生成第二个特征`features[:, 1]`和`labels`的散点图，\n",
    "可以直观观察到两者之间的线性关系。\n"
   ]
  },
  {
   "cell_type": "code",
   "execution_count": 104,
   "metadata": {
    "origin_pos": 11,
    "tab": [
     "pytorch"
    ]
   },
   "outputs": [
    {
     "data": {
      "image/svg+xml": "<?xml version=\"1.0\" encoding=\"utf-8\" standalone=\"no\"?>\n<!DOCTYPE svg PUBLIC \"-//W3C//DTD SVG 1.1//EN\"\n  \"http://www.w3.org/Graphics/SVG/1.1/DTD/svg11.dtd\">\n<svg xmlns:xlink=\"http://www.w3.org/1999/xlink\" width=\"231.442187pt\" height=\"166.978125pt\" viewBox=\"0 0 231.442187 166.978125\" xmlns=\"http://www.w3.org/2000/svg\" version=\"1.1\">\n <metadata>\n  <rdf:RDF xmlns:dc=\"http://purl.org/dc/elements/1.1/\" xmlns:cc=\"http://creativecommons.org/ns#\" xmlns:rdf=\"http://www.w3.org/1999/02/22-rdf-syntax-ns#\">\n   <cc:Work>\n    <dc:type rdf:resource=\"http://purl.org/dc/dcmitype/StillImage\"/>\n    <dc:date>2022-01-29T14:38:47.740717</dc:date>\n    <dc:format>image/svg+xml</dc:format>\n    <dc:creator>\n     <cc:Agent>\n      <dc:title>Matplotlib v3.5.0, https://matplotlib.org/</dc:title>\n     </cc:Agent>\n    </dc:creator>\n   </cc:Work>\n  </rdf:RDF>\n </metadata>\n <defs>\n  <style type=\"text/css\">*{stroke-linejoin: round; stroke-linecap: butt}</style>\n </defs>\n <g id=\"figure_1\">\n  <g id=\"patch_1\">\n   <path d=\"M 0 166.978125 \nL 231.442187 166.978125 \nL 231.442187 0 \nL 0 0 \nL 0 166.978125 \nz\n\" style=\"fill: none\"/>\n  </g>\n  <g id=\"axes_1\">\n   <g id=\"patch_2\">\n    <path d=\"M 28.942188 143.1 \nL 224.242188 143.1 \nL 224.242188 7.2 \nL 28.942188 7.2 \nz\n\" style=\"fill: #ffffff\"/>\n   </g>\n   <g id=\"PathCollection_1\">\n    <defs>\n     <path id=\"m951738df35\" d=\"M 0 0.866025 \nC 0.229673 0.866025 0.449969 0.774776 0.612372 0.612372 \nC 0.774776 0.449969 0.866025 0.229673 0.866025 0 \nC 0.866025 -0.229673 0.774776 -0.449969 0.612372 -0.612372 \nC 0.449969 -0.774776 0.229673 -0.866025 0 -0.866025 \nC -0.229673 -0.866025 -0.449969 -0.774776 -0.612372 -0.612372 \nC -0.774776 -0.449969 -0.866025 -0.229673 -0.866025 0 \nC -0.866025 0.229673 -0.774776 0.449969 -0.612372 0.612372 \nC -0.449969 0.774776 -0.229673 0.866025 0 0.866025 \nz\n\" style=\"stroke: #1f77b4\"/>\n    </defs>\n    <g clip-path=\"url(#p6ba253dfef)\">\n     <use xlink:href=\"#m951738df35\" x=\"85.862805\" y=\"47.005701\" style=\"fill: #1f77b4; stroke: #1f77b4\"/>\n     <use xlink:href=\"#m951738df35\" x=\"119.606713\" y=\"60.014989\" style=\"fill: #1f77b4; stroke: #1f77b4\"/>\n     <use xlink:href=\"#m951738df35\" x=\"114.197063\" y=\"59.067835\" style=\"fill: #1f77b4; stroke: #1f77b4\"/>\n     <use xlink:href=\"#m951738df35\" x=\"143.195022\" y=\"55.373642\" style=\"fill: #1f77b4; stroke: #1f77b4\"/>\n     <use xlink:href=\"#m951738df35\" x=\"151.967226\" y=\"89.708024\" style=\"fill: #1f77b4; stroke: #1f77b4\"/>\n     <use xlink:href=\"#m951738df35\" x=\"122.58274\" y=\"68.513672\" style=\"fill: #1f77b4; stroke: #1f77b4\"/>\n     <use xlink:href=\"#m951738df35\" x=\"142.393083\" y=\"76.688403\" style=\"fill: #1f77b4; stroke: #1f77b4\"/>\n     <use xlink:href=\"#m951738df35\" x=\"170.383746\" y=\"90.268036\" style=\"fill: #1f77b4; stroke: #1f77b4\"/>\n     <use xlink:href=\"#m951738df35\" x=\"164.727874\" y=\"100.989284\" style=\"fill: #1f77b4; stroke: #1f77b4\"/>\n     <use xlink:href=\"#m951738df35\" x=\"143.581432\" y=\"90.328617\" style=\"fill: #1f77b4; stroke: #1f77b4\"/>\n     <use xlink:href=\"#m951738df35\" x=\"130.37902\" y=\"65.666502\" style=\"fill: #1f77b4; stroke: #1f77b4\"/>\n     <use xlink:href=\"#m951738df35\" x=\"113.441912\" y=\"57.950132\" style=\"fill: #1f77b4; stroke: #1f77b4\"/>\n     <use xlink:href=\"#m951738df35\" x=\"115.583408\" y=\"65.907379\" style=\"fill: #1f77b4; stroke: #1f77b4\"/>\n     <use xlink:href=\"#m951738df35\" x=\"84.618646\" y=\"38.593329\" style=\"fill: #1f77b4; stroke: #1f77b4\"/>\n     <use xlink:href=\"#m951738df35\" x=\"146.477065\" y=\"90.922201\" style=\"fill: #1f77b4; stroke: #1f77b4\"/>\n     <use xlink:href=\"#m951738df35\" x=\"85.520466\" y=\"70.034393\" style=\"fill: #1f77b4; stroke: #1f77b4\"/>\n     <use xlink:href=\"#m951738df35\" x=\"155.595484\" y=\"100.468628\" style=\"fill: #1f77b4; stroke: #1f77b4\"/>\n     <use xlink:href=\"#m951738df35\" x=\"179.367971\" y=\"111.774536\" style=\"fill: #1f77b4; stroke: #1f77b4\"/>\n     <use xlink:href=\"#m951738df35\" x=\"122.287728\" y=\"59.806368\" style=\"fill: #1f77b4; stroke: #1f77b4\"/>\n     <use xlink:href=\"#m951738df35\" x=\"151.698061\" y=\"99.259882\" style=\"fill: #1f77b4; stroke: #1f77b4\"/>\n     <use xlink:href=\"#m951738df35\" x=\"128.772886\" y=\"77.971923\" style=\"fill: #1f77b4; stroke: #1f77b4\"/>\n     <use xlink:href=\"#m951738df35\" x=\"182.836964\" y=\"100.95045\" style=\"fill: #1f77b4; stroke: #1f77b4\"/>\n     <use xlink:href=\"#m951738df35\" x=\"112.566323\" y=\"60.542738\" style=\"fill: #1f77b4; stroke: #1f77b4\"/>\n     <use xlink:href=\"#m951738df35\" x=\"85.092931\" y=\"70.184286\" style=\"fill: #1f77b4; stroke: #1f77b4\"/>\n     <use xlink:href=\"#m951738df35\" x=\"126.899213\" y=\"58.177386\" style=\"fill: #1f77b4; stroke: #1f77b4\"/>\n     <use xlink:href=\"#m951738df35\" x=\"99.731858\" y=\"51.762838\" style=\"fill: #1f77b4; stroke: #1f77b4\"/>\n     <use xlink:href=\"#m951738df35\" x=\"121.603752\" y=\"74.162796\" style=\"fill: #1f77b4; stroke: #1f77b4\"/>\n     <use xlink:href=\"#m951738df35\" x=\"154.52467\" y=\"99.173955\" style=\"fill: #1f77b4; stroke: #1f77b4\"/>\n     <use xlink:href=\"#m951738df35\" x=\"154.050425\" y=\"87.350189\" style=\"fill: #1f77b4; stroke: #1f77b4\"/>\n     <use xlink:href=\"#m951738df35\" x=\"172.174137\" y=\"106.773462\" style=\"fill: #1f77b4; stroke: #1f77b4\"/>\n     <use xlink:href=\"#m951738df35\" x=\"130.925231\" y=\"72.115441\" style=\"fill: #1f77b4; stroke: #1f77b4\"/>\n     <use xlink:href=\"#m951738df35\" x=\"172.984918\" y=\"93.120141\" style=\"fill: #1f77b4; stroke: #1f77b4\"/>\n     <use xlink:href=\"#m951738df35\" x=\"100.878063\" y=\"68.521913\" style=\"fill: #1f77b4; stroke: #1f77b4\"/>\n     <use xlink:href=\"#m951738df35\" x=\"92.663295\" y=\"49.997492\" style=\"fill: #1f77b4; stroke: #1f77b4\"/>\n     <use xlink:href=\"#m951738df35\" x=\"76.155151\" y=\"52.762758\" style=\"fill: #1f77b4; stroke: #1f77b4\"/>\n     <use xlink:href=\"#m951738df35\" x=\"85.873939\" y=\"44.304218\" style=\"fill: #1f77b4; stroke: #1f77b4\"/>\n     <use xlink:href=\"#m951738df35\" x=\"124.927679\" y=\"48.858238\" style=\"fill: #1f77b4; stroke: #1f77b4\"/>\n     <use xlink:href=\"#m951738df35\" x=\"120.133859\" y=\"67.775845\" style=\"fill: #1f77b4; stroke: #1f77b4\"/>\n     <use xlink:href=\"#m951738df35\" x=\"71.407151\" y=\"53.294418\" style=\"fill: #1f77b4; stroke: #1f77b4\"/>\n     <use xlink:href=\"#m951738df35\" x=\"162.579258\" y=\"91.346035\" style=\"fill: #1f77b4; stroke: #1f77b4\"/>\n     <use xlink:href=\"#m951738df35\" x=\"146.337295\" y=\"69.886518\" style=\"fill: #1f77b4; stroke: #1f77b4\"/>\n     <use xlink:href=\"#m951738df35\" x=\"114.800979\" y=\"62.801334\" style=\"fill: #1f77b4; stroke: #1f77b4\"/>\n     <use xlink:href=\"#m951738df35\" x=\"110.148225\" y=\"68.005438\" style=\"fill: #1f77b4; stroke: #1f77b4\"/>\n     <use xlink:href=\"#m951738df35\" x=\"169.208329\" y=\"94.246693\" style=\"fill: #1f77b4; stroke: #1f77b4\"/>\n     <use xlink:href=\"#m951738df35\" x=\"101.533327\" y=\"56.105553\" style=\"fill: #1f77b4; stroke: #1f77b4\"/>\n     <use xlink:href=\"#m951738df35\" x=\"156.065689\" y=\"78.187244\" style=\"fill: #1f77b4; stroke: #1f77b4\"/>\n     <use xlink:href=\"#m951738df35\" x=\"99.59364\" y=\"43.588394\" style=\"fill: #1f77b4; stroke: #1f77b4\"/>\n     <use xlink:href=\"#m951738df35\" x=\"157.725304\" y=\"82.840184\" style=\"fill: #1f77b4; stroke: #1f77b4\"/>\n     <use xlink:href=\"#m951738df35\" x=\"130.64773\" y=\"73.619141\" style=\"fill: #1f77b4; stroke: #1f77b4\"/>\n     <use xlink:href=\"#m951738df35\" x=\"165.915985\" y=\"84.152857\" style=\"fill: #1f77b4; stroke: #1f77b4\"/>\n     <use xlink:href=\"#m951738df35\" x=\"75.844443\" y=\"48.820528\" style=\"fill: #1f77b4; stroke: #1f77b4\"/>\n     <use xlink:href=\"#m951738df35\" x=\"118.316547\" y=\"72.383851\" style=\"fill: #1f77b4; stroke: #1f77b4\"/>\n     <use xlink:href=\"#m951738df35\" x=\"161.708\" y=\"82.321214\" style=\"fill: #1f77b4; stroke: #1f77b4\"/>\n     <use xlink:href=\"#m951738df35\" x=\"115.365083\" y=\"73.092261\" style=\"fill: #1f77b4; stroke: #1f77b4\"/>\n     <use xlink:href=\"#m951738df35\" x=\"105.359833\" y=\"66.763454\" style=\"fill: #1f77b4; stroke: #1f77b4\"/>\n     <use xlink:href=\"#m951738df35\" x=\"101.188756\" y=\"45.620941\" style=\"fill: #1f77b4; stroke: #1f77b4\"/>\n     <use xlink:href=\"#m951738df35\" x=\"105.659026\" y=\"53.964145\" style=\"fill: #1f77b4; stroke: #1f77b4\"/>\n     <use xlink:href=\"#m951738df35\" x=\"152.034985\" y=\"92.910266\" style=\"fill: #1f77b4; stroke: #1f77b4\"/>\n     <use xlink:href=\"#m951738df35\" x=\"125.514511\" y=\"63.288453\" style=\"fill: #1f77b4; stroke: #1f77b4\"/>\n     <use xlink:href=\"#m951738df35\" x=\"112.584845\" y=\"54.10495\" style=\"fill: #1f77b4; stroke: #1f77b4\"/>\n     <use xlink:href=\"#m951738df35\" x=\"95.020297\" y=\"66.827355\" style=\"fill: #1f77b4; stroke: #1f77b4\"/>\n     <use xlink:href=\"#m951738df35\" x=\"115.530265\" y=\"55.715581\" style=\"fill: #1f77b4; stroke: #1f77b4\"/>\n     <use xlink:href=\"#m951738df35\" x=\"181.206557\" y=\"120.046036\" style=\"fill: #1f77b4; stroke: #1f77b4\"/>\n     <use xlink:href=\"#m951738df35\" x=\"116.939208\" y=\"82.606959\" style=\"fill: #1f77b4; stroke: #1f77b4\"/>\n     <use xlink:href=\"#m951738df35\" x=\"119.811369\" y=\"62.231669\" style=\"fill: #1f77b4; stroke: #1f77b4\"/>\n     <use xlink:href=\"#m951738df35\" x=\"115.337572\" y=\"53.682313\" style=\"fill: #1f77b4; stroke: #1f77b4\"/>\n     <use xlink:href=\"#m951738df35\" x=\"120.954584\" y=\"56.540303\" style=\"fill: #1f77b4; stroke: #1f77b4\"/>\n     <use xlink:href=\"#m951738df35\" x=\"109.299708\" y=\"58.406698\" style=\"fill: #1f77b4; stroke: #1f77b4\"/>\n     <use xlink:href=\"#m951738df35\" x=\"80.431614\" y=\"48.995105\" style=\"fill: #1f77b4; stroke: #1f77b4\"/>\n     <use xlink:href=\"#m951738df35\" x=\"145.679086\" y=\"55.166271\" style=\"fill: #1f77b4; stroke: #1f77b4\"/>\n     <use xlink:href=\"#m951738df35\" x=\"152.615369\" y=\"65.241274\" style=\"fill: #1f77b4; stroke: #1f77b4\"/>\n     <use xlink:href=\"#m951738df35\" x=\"149.17615\" y=\"86.747078\" style=\"fill: #1f77b4; stroke: #1f77b4\"/>\n     <use xlink:href=\"#m951738df35\" x=\"106.702234\" y=\"53.159877\" style=\"fill: #1f77b4; stroke: #1f77b4\"/>\n     <use xlink:href=\"#m951738df35\" x=\"164.670925\" y=\"76.492774\" style=\"fill: #1f77b4; stroke: #1f77b4\"/>\n     <use xlink:href=\"#m951738df35\" x=\"125.737558\" y=\"69.450661\" style=\"fill: #1f77b4; stroke: #1f77b4\"/>\n     <use xlink:href=\"#m951738df35\" x=\"106.779421\" y=\"57.950232\" style=\"fill: #1f77b4; stroke: #1f77b4\"/>\n     <use xlink:href=\"#m951738df35\" x=\"176.506673\" y=\"109.69345\" style=\"fill: #1f77b4; stroke: #1f77b4\"/>\n     <use xlink:href=\"#m951738df35\" x=\"136.089182\" y=\"79.815365\" style=\"fill: #1f77b4; stroke: #1f77b4\"/>\n     <use xlink:href=\"#m951738df35\" x=\"142.176098\" y=\"72.110976\" style=\"fill: #1f77b4; stroke: #1f77b4\"/>\n     <use xlink:href=\"#m951738df35\" x=\"110.332443\" y=\"60.357759\" style=\"fill: #1f77b4; stroke: #1f77b4\"/>\n     <use xlink:href=\"#m951738df35\" x=\"148.385992\" y=\"93.528268\" style=\"fill: #1f77b4; stroke: #1f77b4\"/>\n     <use xlink:href=\"#m951738df35\" x=\"96.669433\" y=\"71.094037\" style=\"fill: #1f77b4; stroke: #1f77b4\"/>\n     <use xlink:href=\"#m951738df35\" x=\"82.872465\" y=\"50.070236\" style=\"fill: #1f77b4; stroke: #1f77b4\"/>\n     <use xlink:href=\"#m951738df35\" x=\"91.608271\" y=\"34.747701\" style=\"fill: #1f77b4; stroke: #1f77b4\"/>\n     <use xlink:href=\"#m951738df35\" x=\"105.484988\" y=\"65.433118\" style=\"fill: #1f77b4; stroke: #1f77b4\"/>\n     <use xlink:href=\"#m951738df35\" x=\"145.171013\" y=\"90.226877\" style=\"fill: #1f77b4; stroke: #1f77b4\"/>\n     <use xlink:href=\"#m951738df35\" x=\"142.346563\" y=\"77.158988\" style=\"fill: #1f77b4; stroke: #1f77b4\"/>\n     <use xlink:href=\"#m951738df35\" x=\"116.607972\" y=\"57.828539\" style=\"fill: #1f77b4; stroke: #1f77b4\"/>\n     <use xlink:href=\"#m951738df35\" x=\"109.614943\" y=\"57.265743\" style=\"fill: #1f77b4; stroke: #1f77b4\"/>\n     <use xlink:href=\"#m951738df35\" x=\"146.464518\" y=\"80.109189\" style=\"fill: #1f77b4; stroke: #1f77b4\"/>\n     <use xlink:href=\"#m951738df35\" x=\"161.034345\" y=\"88.301068\" style=\"fill: #1f77b4; stroke: #1f77b4\"/>\n     <use xlink:href=\"#m951738df35\" x=\"71.842507\" y=\"34.444879\" style=\"fill: #1f77b4; stroke: #1f77b4\"/>\n     <use xlink:href=\"#m951738df35\" x=\"143.934347\" y=\"93.196368\" style=\"fill: #1f77b4; stroke: #1f77b4\"/>\n     <use xlink:href=\"#m951738df35\" x=\"139.425079\" y=\"56.78767\" style=\"fill: #1f77b4; stroke: #1f77b4\"/>\n     <use xlink:href=\"#m951738df35\" x=\"130.601465\" y=\"69.535921\" style=\"fill: #1f77b4; stroke: #1f77b4\"/>\n     <use xlink:href=\"#m951738df35\" x=\"138.133013\" y=\"77.805237\" style=\"fill: #1f77b4; stroke: #1f77b4\"/>\n     <use xlink:href=\"#m951738df35\" x=\"109.837711\" y=\"52.054872\" style=\"fill: #1f77b4; stroke: #1f77b4\"/>\n     <use xlink:href=\"#m951738df35\" x=\"104.857987\" y=\"68.689271\" style=\"fill: #1f77b4; stroke: #1f77b4\"/>\n     <use xlink:href=\"#m951738df35\" x=\"58.343033\" y=\"24.672142\" style=\"fill: #1f77b4; stroke: #1f77b4\"/>\n     <use xlink:href=\"#m951738df35\" x=\"159.210555\" y=\"106.164701\" style=\"fill: #1f77b4; stroke: #1f77b4\"/>\n     <use xlink:href=\"#m951738df35\" x=\"178.646991\" y=\"109.642453\" style=\"fill: #1f77b4; stroke: #1f77b4\"/>\n     <use xlink:href=\"#m951738df35\" x=\"103.363579\" y=\"45.394013\" style=\"fill: #1f77b4; stroke: #1f77b4\"/>\n     <use xlink:href=\"#m951738df35\" x=\"79.031929\" y=\"32.562835\" style=\"fill: #1f77b4; stroke: #1f77b4\"/>\n     <use xlink:href=\"#m951738df35\" x=\"60.123623\" y=\"14.623509\" style=\"fill: #1f77b4; stroke: #1f77b4\"/>\n     <use xlink:href=\"#m951738df35\" x=\"113.925445\" y=\"55.490542\" style=\"fill: #1f77b4; stroke: #1f77b4\"/>\n     <use xlink:href=\"#m951738df35\" x=\"209.951421\" y=\"135.702039\" style=\"fill: #1f77b4; stroke: #1f77b4\"/>\n     <use xlink:href=\"#m951738df35\" x=\"139.290448\" y=\"84.303681\" style=\"fill: #1f77b4; stroke: #1f77b4\"/>\n     <use xlink:href=\"#m951738df35\" x=\"106.909333\" y=\"63.256821\" style=\"fill: #1f77b4; stroke: #1f77b4\"/>\n     <use xlink:href=\"#m951738df35\" x=\"151.24245\" y=\"80.394329\" style=\"fill: #1f77b4; stroke: #1f77b4\"/>\n     <use xlink:href=\"#m951738df35\" x=\"131.689549\" y=\"94.658445\" style=\"fill: #1f77b4; stroke: #1f77b4\"/>\n     <use xlink:href=\"#m951738df35\" x=\"120.773008\" y=\"54.926128\" style=\"fill: #1f77b4; stroke: #1f77b4\"/>\n     <use xlink:href=\"#m951738df35\" x=\"84.427128\" y=\"35.131564\" style=\"fill: #1f77b4; stroke: #1f77b4\"/>\n     <use xlink:href=\"#m951738df35\" x=\"115.813011\" y=\"77.173569\" style=\"fill: #1f77b4; stroke: #1f77b4\"/>\n     <use xlink:href=\"#m951738df35\" x=\"130.633808\" y=\"66.131493\" style=\"fill: #1f77b4; stroke: #1f77b4\"/>\n     <use xlink:href=\"#m951738df35\" x=\"135.841195\" y=\"74.064004\" style=\"fill: #1f77b4; stroke: #1f77b4\"/>\n     <use xlink:href=\"#m951738df35\" x=\"115.954415\" y=\"56.261599\" style=\"fill: #1f77b4; stroke: #1f77b4\"/>\n     <use xlink:href=\"#m951738df35\" x=\"117.119678\" y=\"63.90513\" style=\"fill: #1f77b4; stroke: #1f77b4\"/>\n     <use xlink:href=\"#m951738df35\" x=\"147.80378\" y=\"93.024733\" style=\"fill: #1f77b4; stroke: #1f77b4\"/>\n     <use xlink:href=\"#m951738df35\" x=\"93.918211\" y=\"46.652728\" style=\"fill: #1f77b4; stroke: #1f77b4\"/>\n     <use xlink:href=\"#m951738df35\" x=\"114.54878\" y=\"57.667204\" style=\"fill: #1f77b4; stroke: #1f77b4\"/>\n     <use xlink:href=\"#m951738df35\" x=\"137.608509\" y=\"82.462417\" style=\"fill: #1f77b4; stroke: #1f77b4\"/>\n     <use xlink:href=\"#m951738df35\" x=\"106.676018\" y=\"66.229027\" style=\"fill: #1f77b4; stroke: #1f77b4\"/>\n     <use xlink:href=\"#m951738df35\" x=\"138.080198\" y=\"78.044099\" style=\"fill: #1f77b4; stroke: #1f77b4\"/>\n     <use xlink:href=\"#m951738df35\" x=\"132.88669\" y=\"77.826875\" style=\"fill: #1f77b4; stroke: #1f77b4\"/>\n     <use xlink:href=\"#m951738df35\" x=\"93.462801\" y=\"48.503959\" style=\"fill: #1f77b4; stroke: #1f77b4\"/>\n     <use xlink:href=\"#m951738df35\" x=\"57.709608\" y=\"31.746131\" style=\"fill: #1f77b4; stroke: #1f77b4\"/>\n     <use xlink:href=\"#m951738df35\" x=\"120.501116\" y=\"70.275207\" style=\"fill: #1f77b4; stroke: #1f77b4\"/>\n     <use xlink:href=\"#m951738df35\" x=\"169.248533\" y=\"81.970756\" style=\"fill: #1f77b4; stroke: #1f77b4\"/>\n     <use xlink:href=\"#m951738df35\" x=\"160.17529\" y=\"80.901051\" style=\"fill: #1f77b4; stroke: #1f77b4\"/>\n     <use xlink:href=\"#m951738df35\" x=\"166.947402\" y=\"71.007759\" style=\"fill: #1f77b4; stroke: #1f77b4\"/>\n     <use xlink:href=\"#m951738df35\" x=\"153.332072\" y=\"89.428948\" style=\"fill: #1f77b4; stroke: #1f77b4\"/>\n     <use xlink:href=\"#m951738df35\" x=\"82.651978\" y=\"57.837758\" style=\"fill: #1f77b4; stroke: #1f77b4\"/>\n     <use xlink:href=\"#m951738df35\" x=\"158.765775\" y=\"89.749048\" style=\"fill: #1f77b4; stroke: #1f77b4\"/>\n     <use xlink:href=\"#m951738df35\" x=\"165.958881\" y=\"83.718016\" style=\"fill: #1f77b4; stroke: #1f77b4\"/>\n     <use xlink:href=\"#m951738df35\" x=\"148.041562\" y=\"80.721919\" style=\"fill: #1f77b4; stroke: #1f77b4\"/>\n     <use xlink:href=\"#m951738df35\" x=\"151.087406\" y=\"88.309644\" style=\"fill: #1f77b4; stroke: #1f77b4\"/>\n     <use xlink:href=\"#m951738df35\" x=\"173.121801\" y=\"108.80253\" style=\"fill: #1f77b4; stroke: #1f77b4\"/>\n     <use xlink:href=\"#m951738df35\" x=\"89.677186\" y=\"46.529625\" style=\"fill: #1f77b4; stroke: #1f77b4\"/>\n     <use xlink:href=\"#m951738df35\" x=\"97.831137\" y=\"37.848917\" style=\"fill: #1f77b4; stroke: #1f77b4\"/>\n     <use xlink:href=\"#m951738df35\" x=\"132.149734\" y=\"53.191412\" style=\"fill: #1f77b4; stroke: #1f77b4\"/>\n     <use xlink:href=\"#m951738df35\" x=\"125.307939\" y=\"54.555177\" style=\"fill: #1f77b4; stroke: #1f77b4\"/>\n     <use xlink:href=\"#m951738df35\" x=\"99.751078\" y=\"45.867356\" style=\"fill: #1f77b4; stroke: #1f77b4\"/>\n     <use xlink:href=\"#m951738df35\" x=\"149.174402\" y=\"62.058656\" style=\"fill: #1f77b4; stroke: #1f77b4\"/>\n     <use xlink:href=\"#m951738df35\" x=\"132.671257\" y=\"53.011683\" style=\"fill: #1f77b4; stroke: #1f77b4\"/>\n     <use xlink:href=\"#m951738df35\" x=\"105.514354\" y=\"75.361467\" style=\"fill: #1f77b4; stroke: #1f77b4\"/>\n     <use xlink:href=\"#m951738df35\" x=\"148.391494\" y=\"86.441384\" style=\"fill: #1f77b4; stroke: #1f77b4\"/>\n     <use xlink:href=\"#m951738df35\" x=\"157.408318\" y=\"81.357353\" style=\"fill: #1f77b4; stroke: #1f77b4\"/>\n     <use xlink:href=\"#m951738df35\" x=\"161.342136\" y=\"94.483196\" style=\"fill: #1f77b4; stroke: #1f77b4\"/>\n     <use xlink:href=\"#m951738df35\" x=\"138.010776\" y=\"75.081146\" style=\"fill: #1f77b4; stroke: #1f77b4\"/>\n     <use xlink:href=\"#m951738df35\" x=\"137.631086\" y=\"63.595394\" style=\"fill: #1f77b4; stroke: #1f77b4\"/>\n     <use xlink:href=\"#m951738df35\" x=\"114.814256\" y=\"71.938858\" style=\"fill: #1f77b4; stroke: #1f77b4\"/>\n     <use xlink:href=\"#m951738df35\" x=\"93.402686\" y=\"55.355682\" style=\"fill: #1f77b4; stroke: #1f77b4\"/>\n     <use xlink:href=\"#m951738df35\" x=\"113.36274\" y=\"63.198542\" style=\"fill: #1f77b4; stroke: #1f77b4\"/>\n     <use xlink:href=\"#m951738df35\" x=\"94.131338\" y=\"40.541488\" style=\"fill: #1f77b4; stroke: #1f77b4\"/>\n     <use xlink:href=\"#m951738df35\" x=\"130.128776\" y=\"86.100259\" style=\"fill: #1f77b4; stroke: #1f77b4\"/>\n     <use xlink:href=\"#m951738df35\" x=\"132.24487\" y=\"77.278895\" style=\"fill: #1f77b4; stroke: #1f77b4\"/>\n     <use xlink:href=\"#m951738df35\" x=\"116.983525\" y=\"52.267577\" style=\"fill: #1f77b4; stroke: #1f77b4\"/>\n     <use xlink:href=\"#m951738df35\" x=\"135.79621\" y=\"85.964025\" style=\"fill: #1f77b4; stroke: #1f77b4\"/>\n     <use xlink:href=\"#m951738df35\" x=\"114.635232\" y=\"53.932799\" style=\"fill: #1f77b4; stroke: #1f77b4\"/>\n     <use xlink:href=\"#m951738df35\" x=\"138.066769\" y=\"69.334631\" style=\"fill: #1f77b4; stroke: #1f77b4\"/>\n     <use xlink:href=\"#m951738df35\" x=\"155.104154\" y=\"78.566383\" style=\"fill: #1f77b4; stroke: #1f77b4\"/>\n     <use xlink:href=\"#m951738df35\" x=\"101.960742\" y=\"48.393635\" style=\"fill: #1f77b4; stroke: #1f77b4\"/>\n     <use xlink:href=\"#m951738df35\" x=\"141.095071\" y=\"58.208609\" style=\"fill: #1f77b4; stroke: #1f77b4\"/>\n     <use xlink:href=\"#m951738df35\" x=\"106.913866\" y=\"47.768872\" style=\"fill: #1f77b4; stroke: #1f77b4\"/>\n     <use xlink:href=\"#m951738df35\" x=\"107.757955\" y=\"58.642311\" style=\"fill: #1f77b4; stroke: #1f77b4\"/>\n     <use xlink:href=\"#m951738df35\" x=\"118.14829\" y=\"73.742273\" style=\"fill: #1f77b4; stroke: #1f77b4\"/>\n     <use xlink:href=\"#m951738df35\" x=\"107.794087\" y=\"63.771327\" style=\"fill: #1f77b4; stroke: #1f77b4\"/>\n     <use xlink:href=\"#m951738df35\" x=\"45.95863\" y=\"32.915768\" style=\"fill: #1f77b4; stroke: #1f77b4\"/>\n     <use xlink:href=\"#m951738df35\" x=\"202.562719\" y=\"112.405157\" style=\"fill: #1f77b4; stroke: #1f77b4\"/>\n     <use xlink:href=\"#m951738df35\" x=\"109.839526\" y=\"77.14047\" style=\"fill: #1f77b4; stroke: #1f77b4\"/>\n     <use xlink:href=\"#m951738df35\" x=\"178.988431\" y=\"94.469384\" style=\"fill: #1f77b4; stroke: #1f77b4\"/>\n     <use xlink:href=\"#m951738df35\" x=\"145.893727\" y=\"71.423019\" style=\"fill: #1f77b4; stroke: #1f77b4\"/>\n     <use xlink:href=\"#m951738df35\" x=\"172.622832\" y=\"97.561116\" style=\"fill: #1f77b4; stroke: #1f77b4\"/>\n     <use xlink:href=\"#m951738df35\" x=\"141.909031\" y=\"88.090162\" style=\"fill: #1f77b4; stroke: #1f77b4\"/>\n     <use xlink:href=\"#m951738df35\" x=\"127.959686\" y=\"78.372723\" style=\"fill: #1f77b4; stroke: #1f77b4\"/>\n     <use xlink:href=\"#m951738df35\" x=\"157.722779\" y=\"93.803955\" style=\"fill: #1f77b4; stroke: #1f77b4\"/>\n     <use xlink:href=\"#m951738df35\" x=\"123.775143\" y=\"85.085528\" style=\"fill: #1f77b4; stroke: #1f77b4\"/>\n     <use xlink:href=\"#m951738df35\" x=\"154.419291\" y=\"80.059899\" style=\"fill: #1f77b4; stroke: #1f77b4\"/>\n     <use xlink:href=\"#m951738df35\" x=\"126.439932\" y=\"62.929242\" style=\"fill: #1f77b4; stroke: #1f77b4\"/>\n     <use xlink:href=\"#m951738df35\" x=\"124.066999\" y=\"72.656535\" style=\"fill: #1f77b4; stroke: #1f77b4\"/>\n     <use xlink:href=\"#m951738df35\" x=\"162.019613\" y=\"88.850467\" style=\"fill: #1f77b4; stroke: #1f77b4\"/>\n     <use xlink:href=\"#m951738df35\" x=\"155.269374\" y=\"80.334822\" style=\"fill: #1f77b4; stroke: #1f77b4\"/>\n     <use xlink:href=\"#m951738df35\" x=\"92.688783\" y=\"46.0491\" style=\"fill: #1f77b4; stroke: #1f77b4\"/>\n     <use xlink:href=\"#m951738df35\" x=\"171.032938\" y=\"94.78642\" style=\"fill: #1f77b4; stroke: #1f77b4\"/>\n     <use xlink:href=\"#m951738df35\" x=\"188.210786\" y=\"101.558003\" style=\"fill: #1f77b4; stroke: #1f77b4\"/>\n     <use xlink:href=\"#m951738df35\" x=\"106.244005\" y=\"45.476769\" style=\"fill: #1f77b4; stroke: #1f77b4\"/>\n     <use xlink:href=\"#m951738df35\" x=\"92.605343\" y=\"58.166043\" style=\"fill: #1f77b4; stroke: #1f77b4\"/>\n     <use xlink:href=\"#m951738df35\" x=\"97.266348\" y=\"35.71172\" style=\"fill: #1f77b4; stroke: #1f77b4\"/>\n     <use xlink:href=\"#m951738df35\" x=\"119.760185\" y=\"71.326611\" style=\"fill: #1f77b4; stroke: #1f77b4\"/>\n     <use xlink:href=\"#m951738df35\" x=\"199.027146\" y=\"127.102238\" style=\"fill: #1f77b4; stroke: #1f77b4\"/>\n     <use xlink:href=\"#m951738df35\" x=\"155.976238\" y=\"71.426514\" style=\"fill: #1f77b4; stroke: #1f77b4\"/>\n     <use xlink:href=\"#m951738df35\" x=\"141.925391\" y=\"56.344359\" style=\"fill: #1f77b4; stroke: #1f77b4\"/>\n     <use xlink:href=\"#m951738df35\" x=\"55.221652\" y=\"24.059234\" style=\"fill: #1f77b4; stroke: #1f77b4\"/>\n     <use xlink:href=\"#m951738df35\" x=\"97.127781\" y=\"55.153528\" style=\"fill: #1f77b4; stroke: #1f77b4\"/>\n     <use xlink:href=\"#m951738df35\" x=\"126.088416\" y=\"94.679173\" style=\"fill: #1f77b4; stroke: #1f77b4\"/>\n     <use xlink:href=\"#m951738df35\" x=\"137.139857\" y=\"75.416286\" style=\"fill: #1f77b4; stroke: #1f77b4\"/>\n     <use xlink:href=\"#m951738df35\" x=\"84.174225\" y=\"41.511032\" style=\"fill: #1f77b4; stroke: #1f77b4\"/>\n     <use xlink:href=\"#m951738df35\" x=\"140.14452\" y=\"103.325234\" style=\"fill: #1f77b4; stroke: #1f77b4\"/>\n     <use xlink:href=\"#m951738df35\" x=\"171.431374\" y=\"95.745004\" style=\"fill: #1f77b4; stroke: #1f77b4\"/>\n     <use xlink:href=\"#m951738df35\" x=\"120.773482\" y=\"52.758139\" style=\"fill: #1f77b4; stroke: #1f77b4\"/>\n     <use xlink:href=\"#m951738df35\" x=\"132.672835\" y=\"67.966851\" style=\"fill: #1f77b4; stroke: #1f77b4\"/>\n     <use xlink:href=\"#m951738df35\" x=\"76.834119\" y=\"16.125408\" style=\"fill: #1f77b4; stroke: #1f77b4\"/>\n     <use xlink:href=\"#m951738df35\" x=\"154.606038\" y=\"88.801788\" style=\"fill: #1f77b4; stroke: #1f77b4\"/>\n     <use xlink:href=\"#m951738df35\" x=\"123.18291\" y=\"79.672873\" style=\"fill: #1f77b4; stroke: #1f77b4\"/>\n     <use xlink:href=\"#m951738df35\" x=\"136.689355\" y=\"75.357186\" style=\"fill: #1f77b4; stroke: #1f77b4\"/>\n     <use xlink:href=\"#m951738df35\" x=\"135.547554\" y=\"61.905042\" style=\"fill: #1f77b4; stroke: #1f77b4\"/>\n     <use xlink:href=\"#m951738df35\" x=\"84.727734\" y=\"44.778494\" style=\"fill: #1f77b4; stroke: #1f77b4\"/>\n     <use xlink:href=\"#m951738df35\" x=\"157.423912\" y=\"90.447689\" style=\"fill: #1f77b4; stroke: #1f77b4\"/>\n     <use xlink:href=\"#m951738df35\" x=\"51.957492\" y=\"25.000879\" style=\"fill: #1f77b4; stroke: #1f77b4\"/>\n     <use xlink:href=\"#m951738df35\" x=\"181.521212\" y=\"106.31523\" style=\"fill: #1f77b4; stroke: #1f77b4\"/>\n     <use xlink:href=\"#m951738df35\" x=\"118.393515\" y=\"42.907373\" style=\"fill: #1f77b4; stroke: #1f77b4\"/>\n     <use xlink:href=\"#m951738df35\" x=\"84.726524\" y=\"35.079968\" style=\"fill: #1f77b4; stroke: #1f77b4\"/>\n     <use xlink:href=\"#m951738df35\" x=\"88.077599\" y=\"55.408725\" style=\"fill: #1f77b4; stroke: #1f77b4\"/>\n     <use xlink:href=\"#m951738df35\" x=\"122.010344\" y=\"57.307542\" style=\"fill: #1f77b4; stroke: #1f77b4\"/>\n     <use xlink:href=\"#m951738df35\" x=\"129.755616\" y=\"72.278552\" style=\"fill: #1f77b4; stroke: #1f77b4\"/>\n     <use xlink:href=\"#m951738df35\" x=\"141.828188\" y=\"89.345985\" style=\"fill: #1f77b4; stroke: #1f77b4\"/>\n     <use xlink:href=\"#m951738df35\" x=\"143.041943\" y=\"78.081573\" style=\"fill: #1f77b4; stroke: #1f77b4\"/>\n     <use xlink:href=\"#m951738df35\" x=\"114.282743\" y=\"60.200252\" style=\"fill: #1f77b4; stroke: #1f77b4\"/>\n     <use xlink:href=\"#m951738df35\" x=\"104.948745\" y=\"45.206224\" style=\"fill: #1f77b4; stroke: #1f77b4\"/>\n     <use xlink:href=\"#m951738df35\" x=\"181.664046\" y=\"89.68384\" style=\"fill: #1f77b4; stroke: #1f77b4\"/>\n     <use xlink:href=\"#m951738df35\" x=\"182.985372\" y=\"99.998042\" style=\"fill: #1f77b4; stroke: #1f77b4\"/>\n     <use xlink:href=\"#m951738df35\" x=\"109.702167\" y=\"50.073044\" style=\"fill: #1f77b4; stroke: #1f77b4\"/>\n     <use xlink:href=\"#m951738df35\" x=\"60.272322\" y=\"20.445032\" style=\"fill: #1f77b4; stroke: #1f77b4\"/>\n     <use xlink:href=\"#m951738df35\" x=\"116.994208\" y=\"71.936903\" style=\"fill: #1f77b4; stroke: #1f77b4\"/>\n     <use xlink:href=\"#m951738df35\" x=\"133.968702\" y=\"71.435908\" style=\"fill: #1f77b4; stroke: #1f77b4\"/>\n     <use xlink:href=\"#m951738df35\" x=\"131.121776\" y=\"60.540256\" style=\"fill: #1f77b4; stroke: #1f77b4\"/>\n     <use xlink:href=\"#m951738df35\" x=\"98.999358\" y=\"79.171266\" style=\"fill: #1f77b4; stroke: #1f77b4\"/>\n     <use xlink:href=\"#m951738df35\" x=\"87.48332\" y=\"47.480191\" style=\"fill: #1f77b4; stroke: #1f77b4\"/>\n     <use xlink:href=\"#m951738df35\" x=\"96.659467\" y=\"62.184784\" style=\"fill: #1f77b4; stroke: #1f77b4\"/>\n     <use xlink:href=\"#m951738df35\" x=\"172.303856\" y=\"94.320361\" style=\"fill: #1f77b4; stroke: #1f77b4\"/>\n     <use xlink:href=\"#m951738df35\" x=\"126.677617\" y=\"62.507323\" style=\"fill: #1f77b4; stroke: #1f77b4\"/>\n     <use xlink:href=\"#m951738df35\" x=\"117.769614\" y=\"67.879754\" style=\"fill: #1f77b4; stroke: #1f77b4\"/>\n     <use xlink:href=\"#m951738df35\" x=\"98.044135\" y=\"65.590154\" style=\"fill: #1f77b4; stroke: #1f77b4\"/>\n     <use xlink:href=\"#m951738df35\" x=\"106.348459\" y=\"68.120848\" style=\"fill: #1f77b4; stroke: #1f77b4\"/>\n     <use xlink:href=\"#m951738df35\" x=\"163.109354\" y=\"88.707383\" style=\"fill: #1f77b4; stroke: #1f77b4\"/>\n     <use xlink:href=\"#m951738df35\" x=\"98.969397\" y=\"65.194823\" style=\"fill: #1f77b4; stroke: #1f77b4\"/>\n     <use xlink:href=\"#m951738df35\" x=\"125.348868\" y=\"71.820026\" style=\"fill: #1f77b4; stroke: #1f77b4\"/>\n     <use xlink:href=\"#m951738df35\" x=\"175.250098\" y=\"75.803608\" style=\"fill: #1f77b4; stroke: #1f77b4\"/>\n     <use xlink:href=\"#m951738df35\" x=\"194.064695\" y=\"112.9499\" style=\"fill: #1f77b4; stroke: #1f77b4\"/>\n     <use xlink:href=\"#m951738df35\" x=\"104.446042\" y=\"62.674405\" style=\"fill: #1f77b4; stroke: #1f77b4\"/>\n     <use xlink:href=\"#m951738df35\" x=\"115.223176\" y=\"66.733514\" style=\"fill: #1f77b4; stroke: #1f77b4\"/>\n     <use xlink:href=\"#m951738df35\" x=\"133.999541\" y=\"73.861467\" style=\"fill: #1f77b4; stroke: #1f77b4\"/>\n     <use xlink:href=\"#m951738df35\" x=\"169.74543\" y=\"103.982287\" style=\"fill: #1f77b4; stroke: #1f77b4\"/>\n     <use xlink:href=\"#m951738df35\" x=\"166.38721\" y=\"97.441128\" style=\"fill: #1f77b4; stroke: #1f77b4\"/>\n     <use xlink:href=\"#m951738df35\" x=\"113.612568\" y=\"64.877023\" style=\"fill: #1f77b4; stroke: #1f77b4\"/>\n     <use xlink:href=\"#m951738df35\" x=\"119.177369\" y=\"60.853459\" style=\"fill: #1f77b4; stroke: #1f77b4\"/>\n     <use xlink:href=\"#m951738df35\" x=\"186.172004\" y=\"98.164994\" style=\"fill: #1f77b4; stroke: #1f77b4\"/>\n     <use xlink:href=\"#m951738df35\" x=\"179.534906\" y=\"99.678835\" style=\"fill: #1f77b4; stroke: #1f77b4\"/>\n     <use xlink:href=\"#m951738df35\" x=\"120.911004\" y=\"58.827042\" style=\"fill: #1f77b4; stroke: #1f77b4\"/>\n     <use xlink:href=\"#m951738df35\" x=\"94.61738\" y=\"66.198676\" style=\"fill: #1f77b4; stroke: #1f77b4\"/>\n     <use xlink:href=\"#m951738df35\" x=\"89.261704\" y=\"38.162844\" style=\"fill: #1f77b4; stroke: #1f77b4\"/>\n     <use xlink:href=\"#m951738df35\" x=\"73.744051\" y=\"50.549639\" style=\"fill: #1f77b4; stroke: #1f77b4\"/>\n     <use xlink:href=\"#m951738df35\" x=\"138.97891\" y=\"89.159362\" style=\"fill: #1f77b4; stroke: #1f77b4\"/>\n     <use xlink:href=\"#m951738df35\" x=\"102.7299\" y=\"53.191437\" style=\"fill: #1f77b4; stroke: #1f77b4\"/>\n     <use xlink:href=\"#m951738df35\" x=\"152.606014\" y=\"82.757104\" style=\"fill: #1f77b4; stroke: #1f77b4\"/>\n     <use xlink:href=\"#m951738df35\" x=\"162.948374\" y=\"94.944227\" style=\"fill: #1f77b4; stroke: #1f77b4\"/>\n     <use xlink:href=\"#m951738df35\" x=\"154.739338\" y=\"90.342828\" style=\"fill: #1f77b4; stroke: #1f77b4\"/>\n     <use xlink:href=\"#m951738df35\" x=\"128.293092\" y=\"60.58309\" style=\"fill: #1f77b4; stroke: #1f77b4\"/>\n     <use xlink:href=\"#m951738df35\" x=\"184.663938\" y=\"109.898903\" style=\"fill: #1f77b4; stroke: #1f77b4\"/>\n     <use xlink:href=\"#m951738df35\" x=\"150.881525\" y=\"91.038785\" style=\"fill: #1f77b4; stroke: #1f77b4\"/>\n     <use xlink:href=\"#m951738df35\" x=\"103.55631\" y=\"56.844635\" style=\"fill: #1f77b4; stroke: #1f77b4\"/>\n     <use xlink:href=\"#m951738df35\" x=\"109.007315\" y=\"44.082525\" style=\"fill: #1f77b4; stroke: #1f77b4\"/>\n     <use xlink:href=\"#m951738df35\" x=\"120.641599\" y=\"51.241376\" style=\"fill: #1f77b4; stroke: #1f77b4\"/>\n     <use xlink:href=\"#m951738df35\" x=\"81.046668\" y=\"37.575607\" style=\"fill: #1f77b4; stroke: #1f77b4\"/>\n     <use xlink:href=\"#m951738df35\" x=\"113.102316\" y=\"72.262445\" style=\"fill: #1f77b4; stroke: #1f77b4\"/>\n     <use xlink:href=\"#m951738df35\" x=\"184.464604\" y=\"121.090696\" style=\"fill: #1f77b4; stroke: #1f77b4\"/>\n     <use xlink:href=\"#m951738df35\" x=\"96.435284\" y=\"53.386521\" style=\"fill: #1f77b4; stroke: #1f77b4\"/>\n     <use xlink:href=\"#m951738df35\" x=\"146.126284\" y=\"58.474667\" style=\"fill: #1f77b4; stroke: #1f77b4\"/>\n     <use xlink:href=\"#m951738df35\" x=\"110.148145\" y=\"49.708077\" style=\"fill: #1f77b4; stroke: #1f77b4\"/>\n     <use xlink:href=\"#m951738df35\" x=\"110.770466\" y=\"48.364791\" style=\"fill: #1f77b4; stroke: #1f77b4\"/>\n     <use xlink:href=\"#m951738df35\" x=\"103.894387\" y=\"43.501221\" style=\"fill: #1f77b4; stroke: #1f77b4\"/>\n     <use xlink:href=\"#m951738df35\" x=\"134.446563\" y=\"82.584472\" style=\"fill: #1f77b4; stroke: #1f77b4\"/>\n     <use xlink:href=\"#m951738df35\" x=\"142.149577\" y=\"82.896125\" style=\"fill: #1f77b4; stroke: #1f77b4\"/>\n     <use xlink:href=\"#m951738df35\" x=\"185.223025\" y=\"111.234833\" style=\"fill: #1f77b4; stroke: #1f77b4\"/>\n     <use xlink:href=\"#m951738df35\" x=\"145.064993\" y=\"79.942809\" style=\"fill: #1f77b4; stroke: #1f77b4\"/>\n     <use xlink:href=\"#m951738df35\" x=\"100.342392\" y=\"38.420615\" style=\"fill: #1f77b4; stroke: #1f77b4\"/>\n     <use xlink:href=\"#m951738df35\" x=\"104.216998\" y=\"44.265753\" style=\"fill: #1f77b4; stroke: #1f77b4\"/>\n     <use xlink:href=\"#m951738df35\" x=\"164.097328\" y=\"101.567374\" style=\"fill: #1f77b4; stroke: #1f77b4\"/>\n     <use xlink:href=\"#m951738df35\" x=\"135.505882\" y=\"63.201279\" style=\"fill: #1f77b4; stroke: #1f77b4\"/>\n     <use xlink:href=\"#m951738df35\" x=\"170.634773\" y=\"101.315192\" style=\"fill: #1f77b4; stroke: #1f77b4\"/>\n     <use xlink:href=\"#m951738df35\" x=\"98.842074\" y=\"59.720487\" style=\"fill: #1f77b4; stroke: #1f77b4\"/>\n     <use xlink:href=\"#m951738df35\" x=\"133.524826\" y=\"88.94029\" style=\"fill: #1f77b4; stroke: #1f77b4\"/>\n     <use xlink:href=\"#m951738df35\" x=\"129.36317\" y=\"78.907281\" style=\"fill: #1f77b4; stroke: #1f77b4\"/>\n     <use xlink:href=\"#m951738df35\" x=\"96.895644\" y=\"59.009849\" style=\"fill: #1f77b4; stroke: #1f77b4\"/>\n     <use xlink:href=\"#m951738df35\" x=\"117.787989\" y=\"54.775537\" style=\"fill: #1f77b4; stroke: #1f77b4\"/>\n     <use xlink:href=\"#m951738df35\" x=\"159.491804\" y=\"71.54823\" style=\"fill: #1f77b4; stroke: #1f77b4\"/>\n     <use xlink:href=\"#m951738df35\" x=\"160.053499\" y=\"90.100682\" style=\"fill: #1f77b4; stroke: #1f77b4\"/>\n     <use xlink:href=\"#m951738df35\" x=\"100.07457\" y=\"56.697389\" style=\"fill: #1f77b4; stroke: #1f77b4\"/>\n     <use xlink:href=\"#m951738df35\" x=\"94.839399\" y=\"54.026589\" style=\"fill: #1f77b4; stroke: #1f77b4\"/>\n     <use xlink:href=\"#m951738df35\" x=\"176.027578\" y=\"94.302212\" style=\"fill: #1f77b4; stroke: #1f77b4\"/>\n     <use xlink:href=\"#m951738df35\" x=\"126.663098\" y=\"83.14458\" style=\"fill: #1f77b4; stroke: #1f77b4\"/>\n     <use xlink:href=\"#m951738df35\" x=\"133.471139\" y=\"69.085599\" style=\"fill: #1f77b4; stroke: #1f77b4\"/>\n     <use xlink:href=\"#m951738df35\" x=\"128.566385\" y=\"72.063488\" style=\"fill: #1f77b4; stroke: #1f77b4\"/>\n     <use xlink:href=\"#m951738df35\" x=\"105.768219\" y=\"55.928074\" style=\"fill: #1f77b4; stroke: #1f77b4\"/>\n     <use xlink:href=\"#m951738df35\" x=\"135.416028\" y=\"74.759344\" style=\"fill: #1f77b4; stroke: #1f77b4\"/>\n     <use xlink:href=\"#m951738df35\" x=\"122.006171\" y=\"63.559589\" style=\"fill: #1f77b4; stroke: #1f77b4\"/>\n     <use xlink:href=\"#m951738df35\" x=\"162.974735\" y=\"90.467953\" style=\"fill: #1f77b4; stroke: #1f77b4\"/>\n     <use xlink:href=\"#m951738df35\" x=\"139.564364\" y=\"93.891233\" style=\"fill: #1f77b4; stroke: #1f77b4\"/>\n     <use xlink:href=\"#m951738df35\" x=\"128.951251\" y=\"64.366369\" style=\"fill: #1f77b4; stroke: #1f77b4\"/>\n     <use xlink:href=\"#m951738df35\" x=\"134.830308\" y=\"83.772621\" style=\"fill: #1f77b4; stroke: #1f77b4\"/>\n     <use xlink:href=\"#m951738df35\" x=\"106.036629\" y=\"66.883473\" style=\"fill: #1f77b4; stroke: #1f77b4\"/>\n     <use xlink:href=\"#m951738df35\" x=\"128.692931\" y=\"79.498312\" style=\"fill: #1f77b4; stroke: #1f77b4\"/>\n     <use xlink:href=\"#m951738df35\" x=\"143.774739\" y=\"67.584539\" style=\"fill: #1f77b4; stroke: #1f77b4\"/>\n     <use xlink:href=\"#m951738df35\" x=\"120.747122\" y=\"51.595146\" style=\"fill: #1f77b4; stroke: #1f77b4\"/>\n     <use xlink:href=\"#m951738df35\" x=\"90.793774\" y=\"56.484603\" style=\"fill: #1f77b4; stroke: #1f77b4\"/>\n     <use xlink:href=\"#m951738df35\" x=\"67.00784\" y=\"39.566455\" style=\"fill: #1f77b4; stroke: #1f77b4\"/>\n     <use xlink:href=\"#m951738df35\" x=\"159.898796\" y=\"85.311924\" style=\"fill: #1f77b4; stroke: #1f77b4\"/>\n     <use xlink:href=\"#m951738df35\" x=\"150.450889\" y=\"63.546557\" style=\"fill: #1f77b4; stroke: #1f77b4\"/>\n     <use xlink:href=\"#m951738df35\" x=\"110.511415\" y=\"75.744231\" style=\"fill: #1f77b4; stroke: #1f77b4\"/>\n     <use xlink:href=\"#m951738df35\" x=\"131.939032\" y=\"75.409158\" style=\"fill: #1f77b4; stroke: #1f77b4\"/>\n     <use xlink:href=\"#m951738df35\" x=\"146.427728\" y=\"86.029845\" style=\"fill: #1f77b4; stroke: #1f77b4\"/>\n     <use xlink:href=\"#m951738df35\" x=\"116.84662\" y=\"49.076565\" style=\"fill: #1f77b4; stroke: #1f77b4\"/>\n     <use xlink:href=\"#m951738df35\" x=\"119.682507\" y=\"67.192993\" style=\"fill: #1f77b4; stroke: #1f77b4\"/>\n     <use xlink:href=\"#m951738df35\" x=\"107.236782\" y=\"58.597145\" style=\"fill: #1f77b4; stroke: #1f77b4\"/>\n     <use xlink:href=\"#m951738df35\" x=\"176.047991\" y=\"85.950007\" style=\"fill: #1f77b4; stroke: #1f77b4\"/>\n     <use xlink:href=\"#m951738df35\" x=\"117.491154\" y=\"41.887656\" style=\"fill: #1f77b4; stroke: #1f77b4\"/>\n     <use xlink:href=\"#m951738df35\" x=\"111.237128\" y=\"69.163871\" style=\"fill: #1f77b4; stroke: #1f77b4\"/>\n     <use xlink:href=\"#m951738df35\" x=\"145.095317\" y=\"69.658953\" style=\"fill: #1f77b4; stroke: #1f77b4\"/>\n     <use xlink:href=\"#m951738df35\" x=\"113.983101\" y=\"43.471786\" style=\"fill: #1f77b4; stroke: #1f77b4\"/>\n     <use xlink:href=\"#m951738df35\" x=\"175.654575\" y=\"116.436231\" style=\"fill: #1f77b4; stroke: #1f77b4\"/>\n     <use xlink:href=\"#m951738df35\" x=\"151.894157\" y=\"66.785821\" style=\"fill: #1f77b4; stroke: #1f77b4\"/>\n     <use xlink:href=\"#m951738df35\" x=\"143.908013\" y=\"76.111192\" style=\"fill: #1f77b4; stroke: #1f77b4\"/>\n     <use xlink:href=\"#m951738df35\" x=\"119.534514\" y=\"80.24897\" style=\"fill: #1f77b4; stroke: #1f77b4\"/>\n     <use xlink:href=\"#m951738df35\" x=\"112.683112\" y=\"66.681081\" style=\"fill: #1f77b4; stroke: #1f77b4\"/>\n     <use xlink:href=\"#m951738df35\" x=\"79.65814\" y=\"29.079041\" style=\"fill: #1f77b4; stroke: #1f77b4\"/>\n     <use xlink:href=\"#m951738df35\" x=\"151.758611\" y=\"70.353746\" style=\"fill: #1f77b4; stroke: #1f77b4\"/>\n     <use xlink:href=\"#m951738df35\" x=\"72.109493\" y=\"30.88763\" style=\"fill: #1f77b4; stroke: #1f77b4\"/>\n     <use xlink:href=\"#m951738df35\" x=\"63.837428\" y=\"33.081019\" style=\"fill: #1f77b4; stroke: #1f77b4\"/>\n     <use xlink:href=\"#m951738df35\" x=\"104.998189\" y=\"52.536894\" style=\"fill: #1f77b4; stroke: #1f77b4\"/>\n     <use xlink:href=\"#m951738df35\" x=\"141.186677\" y=\"67.971636\" style=\"fill: #1f77b4; stroke: #1f77b4\"/>\n     <use xlink:href=\"#m951738df35\" x=\"111.756731\" y=\"51.066256\" style=\"fill: #1f77b4; stroke: #1f77b4\"/>\n     <use xlink:href=\"#m951738df35\" x=\"83.809835\" y=\"34.164876\" style=\"fill: #1f77b4; stroke: #1f77b4\"/>\n     <use xlink:href=\"#m951738df35\" x=\"156.186947\" y=\"89.185661\" style=\"fill: #1f77b4; stroke: #1f77b4\"/>\n     <use xlink:href=\"#m951738df35\" x=\"138.69378\" y=\"81.681595\" style=\"fill: #1f77b4; stroke: #1f77b4\"/>\n     <use xlink:href=\"#m951738df35\" x=\"154.358106\" y=\"101.299115\" style=\"fill: #1f77b4; stroke: #1f77b4\"/>\n     <use xlink:href=\"#m951738df35\" x=\"152.440786\" y=\"80.683118\" style=\"fill: #1f77b4; stroke: #1f77b4\"/>\n     <use xlink:href=\"#m951738df35\" x=\"187.881936\" y=\"87.01508\" style=\"fill: #1f77b4; stroke: #1f77b4\"/>\n     <use xlink:href=\"#m951738df35\" x=\"93.239076\" y=\"51.744146\" style=\"fill: #1f77b4; stroke: #1f77b4\"/>\n     <use xlink:href=\"#m951738df35\" x=\"90.326418\" y=\"51.193017\" style=\"fill: #1f77b4; stroke: #1f77b4\"/>\n     <use xlink:href=\"#m951738df35\" x=\"73.323252\" y=\"47.117882\" style=\"fill: #1f77b4; stroke: #1f77b4\"/>\n     <use xlink:href=\"#m951738df35\" x=\"94.07114\" y=\"51.184406\" style=\"fill: #1f77b4; stroke: #1f77b4\"/>\n     <use xlink:href=\"#m951738df35\" x=\"181.796091\" y=\"104.435771\" style=\"fill: #1f77b4; stroke: #1f77b4\"/>\n     <use xlink:href=\"#m951738df35\" x=\"136.211785\" y=\"64.372368\" style=\"fill: #1f77b4; stroke: #1f77b4\"/>\n     <use xlink:href=\"#m951738df35\" x=\"149.576025\" y=\"85.677273\" style=\"fill: #1f77b4; stroke: #1f77b4\"/>\n     <use xlink:href=\"#m951738df35\" x=\"112.930914\" y=\"58.848215\" style=\"fill: #1f77b4; stroke: #1f77b4\"/>\n     <use xlink:href=\"#m951738df35\" x=\"147.884211\" y=\"90.320916\" style=\"fill: #1f77b4; stroke: #1f77b4\"/>\n     <use xlink:href=\"#m951738df35\" x=\"125.178705\" y=\"68.29481\" style=\"fill: #1f77b4; stroke: #1f77b4\"/>\n     <use xlink:href=\"#m951738df35\" x=\"152.944084\" y=\"87.121075\" style=\"fill: #1f77b4; stroke: #1f77b4\"/>\n     <use xlink:href=\"#m951738df35\" x=\"175.206557\" y=\"109.015774\" style=\"fill: #1f77b4; stroke: #1f77b4\"/>\n     <use xlink:href=\"#m951738df35\" x=\"166.965541\" y=\"86.994635\" style=\"fill: #1f77b4; stroke: #1f77b4\"/>\n     <use xlink:href=\"#m951738df35\" x=\"151.862919\" y=\"100.405521\" style=\"fill: #1f77b4; stroke: #1f77b4\"/>\n     <use xlink:href=\"#m951738df35\" x=\"146.936869\" y=\"92.313601\" style=\"fill: #1f77b4; stroke: #1f77b4\"/>\n     <use xlink:href=\"#m951738df35\" x=\"210.395545\" y=\"101.239033\" style=\"fill: #1f77b4; stroke: #1f77b4\"/>\n     <use xlink:href=\"#m951738df35\" x=\"138.169898\" y=\"88.012871\" style=\"fill: #1f77b4; stroke: #1f77b4\"/>\n     <use xlink:href=\"#m951738df35\" x=\"138.592818\" y=\"62.710472\" style=\"fill: #1f77b4; stroke: #1f77b4\"/>\n     <use xlink:href=\"#m951738df35\" x=\"73.725502\" y=\"36.980121\" style=\"fill: #1f77b4; stroke: #1f77b4\"/>\n     <use xlink:href=\"#m951738df35\" x=\"183.194482\" y=\"117.696368\" style=\"fill: #1f77b4; stroke: #1f77b4\"/>\n     <use xlink:href=\"#m951738df35\" x=\"94.803124\" y=\"68.342778\" style=\"fill: #1f77b4; stroke: #1f77b4\"/>\n     <use xlink:href=\"#m951738df35\" x=\"43.556994\" y=\"50.625744\" style=\"fill: #1f77b4; stroke: #1f77b4\"/>\n     <use xlink:href=\"#m951738df35\" x=\"113.684874\" y=\"63.808246\" style=\"fill: #1f77b4; stroke: #1f77b4\"/>\n     <use xlink:href=\"#m951738df35\" x=\"172.651149\" y=\"77.330075\" style=\"fill: #1f77b4; stroke: #1f77b4\"/>\n     <use xlink:href=\"#m951738df35\" x=\"135.383624\" y=\"58.363951\" style=\"fill: #1f77b4; stroke: #1f77b4\"/>\n     <use xlink:href=\"#m951738df35\" x=\"145.378837\" y=\"68.202818\" style=\"fill: #1f77b4; stroke: #1f77b4\"/>\n     <use xlink:href=\"#m951738df35\" x=\"101.763316\" y=\"44.160184\" style=\"fill: #1f77b4; stroke: #1f77b4\"/>\n     <use xlink:href=\"#m951738df35\" x=\"67.508964\" y=\"40.270841\" style=\"fill: #1f77b4; stroke: #1f77b4\"/>\n     <use xlink:href=\"#m951738df35\" x=\"138.458972\" y=\"59.901665\" style=\"fill: #1f77b4; stroke: #1f77b4\"/>\n     <use xlink:href=\"#m951738df35\" x=\"148.535132\" y=\"89.602\" style=\"fill: #1f77b4; stroke: #1f77b4\"/>\n     <use xlink:href=\"#m951738df35\" x=\"130.76568\" y=\"61.550527\" style=\"fill: #1f77b4; stroke: #1f77b4\"/>\n     <use xlink:href=\"#m951738df35\" x=\"129.129676\" y=\"71.07513\" style=\"fill: #1f77b4; stroke: #1f77b4\"/>\n     <use xlink:href=\"#m951738df35\" x=\"165.280901\" y=\"94.329793\" style=\"fill: #1f77b4; stroke: #1f77b4\"/>\n     <use xlink:href=\"#m951738df35\" x=\"108.455233\" y=\"63.610374\" style=\"fill: #1f77b4; stroke: #1f77b4\"/>\n     <use xlink:href=\"#m951738df35\" x=\"151.747915\" y=\"70.531861\" style=\"fill: #1f77b4; stroke: #1f77b4\"/>\n     <use xlink:href=\"#m951738df35\" x=\"73.085782\" y=\"24.05069\" style=\"fill: #1f77b4; stroke: #1f77b4\"/>\n     <use xlink:href=\"#m951738df35\" x=\"146.093495\" y=\"85.933017\" style=\"fill: #1f77b4; stroke: #1f77b4\"/>\n     <use xlink:href=\"#m951738df35\" x=\"124.670444\" y=\"57.607874\" style=\"fill: #1f77b4; stroke: #1f77b4\"/>\n     <use xlink:href=\"#m951738df35\" x=\"113.392625\" y=\"56.538936\" style=\"fill: #1f77b4; stroke: #1f77b4\"/>\n     <use xlink:href=\"#m951738df35\" x=\"150.69435\" y=\"85.938995\" style=\"fill: #1f77b4; stroke: #1f77b4\"/>\n     <use xlink:href=\"#m951738df35\" x=\"135.255807\" y=\"60.46954\" style=\"fill: #1f77b4; stroke: #1f77b4\"/>\n     <use xlink:href=\"#m951738df35\" x=\"106.79997\" y=\"61.484576\" style=\"fill: #1f77b4; stroke: #1f77b4\"/>\n     <use xlink:href=\"#m951738df35\" x=\"79.608768\" y=\"45.67872\" style=\"fill: #1f77b4; stroke: #1f77b4\"/>\n     <use xlink:href=\"#m951738df35\" x=\"132.884608\" y=\"73.544055\" style=\"fill: #1f77b4; stroke: #1f77b4\"/>\n     <use xlink:href=\"#m951738df35\" x=\"140.123882\" y=\"84.749485\" style=\"fill: #1f77b4; stroke: #1f77b4\"/>\n     <use xlink:href=\"#m951738df35\" x=\"122.52413\" y=\"71.162061\" style=\"fill: #1f77b4; stroke: #1f77b4\"/>\n     <use xlink:href=\"#m951738df35\" x=\"151.28147\" y=\"88.927941\" style=\"fill: #1f77b4; stroke: #1f77b4\"/>\n     <use xlink:href=\"#m951738df35\" x=\"124.653964\" y=\"80.923566\" style=\"fill: #1f77b4; stroke: #1f77b4\"/>\n     <use xlink:href=\"#m951738df35\" x=\"150.0359\" y=\"84.675259\" style=\"fill: #1f77b4; stroke: #1f77b4\"/>\n     <use xlink:href=\"#m951738df35\" x=\"78.958337\" y=\"53.5124\" style=\"fill: #1f77b4; stroke: #1f77b4\"/>\n     <use xlink:href=\"#m951738df35\" x=\"148.081357\" y=\"74.97155\" style=\"fill: #1f77b4; stroke: #1f77b4\"/>\n     <use xlink:href=\"#m951738df35\" x=\"105.64776\" y=\"55.905807\" style=\"fill: #1f77b4; stroke: #1f77b4\"/>\n     <use xlink:href=\"#m951738df35\" x=\"129.431341\" y=\"71.735357\" style=\"fill: #1f77b4; stroke: #1f77b4\"/>\n     <use xlink:href=\"#m951738df35\" x=\"119.861929\" y=\"71.878232\" style=\"fill: #1f77b4; stroke: #1f77b4\"/>\n     <use xlink:href=\"#m951738df35\" x=\"69.030841\" y=\"33.469764\" style=\"fill: #1f77b4; stroke: #1f77b4\"/>\n     <use xlink:href=\"#m951738df35\" x=\"90.344184\" y=\"56.148694\" style=\"fill: #1f77b4; stroke: #1f77b4\"/>\n     <use xlink:href=\"#m951738df35\" x=\"75.057263\" y=\"49.390377\" style=\"fill: #1f77b4; stroke: #1f77b4\"/>\n     <use xlink:href=\"#m951738df35\" x=\"86.812881\" y=\"40.91701\" style=\"fill: #1f77b4; stroke: #1f77b4\"/>\n     <use xlink:href=\"#m951738df35\" x=\"122.253559\" y=\"65.894381\" style=\"fill: #1f77b4; stroke: #1f77b4\"/>\n     <use xlink:href=\"#m951738df35\" x=\"70.548491\" y=\"30.548996\" style=\"fill: #1f77b4; stroke: #1f77b4\"/>\n     <use xlink:href=\"#m951738df35\" x=\"180.917256\" y=\"94.219439\" style=\"fill: #1f77b4; stroke: #1f77b4\"/>\n     <use xlink:href=\"#m951738df35\" x=\"171.370147\" y=\"93.186695\" style=\"fill: #1f77b4; stroke: #1f77b4\"/>\n     <use xlink:href=\"#m951738df35\" x=\"119.325306\" y=\"65.672396\" style=\"fill: #1f77b4; stroke: #1f77b4\"/>\n     <use xlink:href=\"#m951738df35\" x=\"164.914092\" y=\"97.942519\" style=\"fill: #1f77b4; stroke: #1f77b4\"/>\n     <use xlink:href=\"#m951738df35\" x=\"80.152711\" y=\"47.229129\" style=\"fill: #1f77b4; stroke: #1f77b4\"/>\n     <use xlink:href=\"#m951738df35\" x=\"115.035696\" y=\"71.438613\" style=\"fill: #1f77b4; stroke: #1f77b4\"/>\n     <use xlink:href=\"#m951738df35\" x=\"112.871059\" y=\"58.980848\" style=\"fill: #1f77b4; stroke: #1f77b4\"/>\n     <use xlink:href=\"#m951738df35\" x=\"89.646308\" y=\"51.859803\" style=\"fill: #1f77b4; stroke: #1f77b4\"/>\n     <use xlink:href=\"#m951738df35\" x=\"143.521516\" y=\"89.221279\" style=\"fill: #1f77b4; stroke: #1f77b4\"/>\n     <use xlink:href=\"#m951738df35\" x=\"150.996911\" y=\"70.505503\" style=\"fill: #1f77b4; stroke: #1f77b4\"/>\n     <use xlink:href=\"#m951738df35\" x=\"167.426377\" y=\"77.330134\" style=\"fill: #1f77b4; stroke: #1f77b4\"/>\n     <use xlink:href=\"#m951738df35\" x=\"154.789579\" y=\"75.762484\" style=\"fill: #1f77b4; stroke: #1f77b4\"/>\n     <use xlink:href=\"#m951738df35\" x=\"145.800987\" y=\"80.284508\" style=\"fill: #1f77b4; stroke: #1f77b4\"/>\n     <use xlink:href=\"#m951738df35\" x=\"151.832311\" y=\"78.29799\" style=\"fill: #1f77b4; stroke: #1f77b4\"/>\n     <use xlink:href=\"#m951738df35\" x=\"79.407148\" y=\"43.98344\" style=\"fill: #1f77b4; stroke: #1f77b4\"/>\n     <use xlink:href=\"#m951738df35\" x=\"168.960543\" y=\"97.026313\" style=\"fill: #1f77b4; stroke: #1f77b4\"/>\n     <use xlink:href=\"#m951738df35\" x=\"158.97989\" y=\"65.767133\" style=\"fill: #1f77b4; stroke: #1f77b4\"/>\n     <use xlink:href=\"#m951738df35\" x=\"152.864508\" y=\"59.951863\" style=\"fill: #1f77b4; stroke: #1f77b4\"/>\n     <use xlink:href=\"#m951738df35\" x=\"114.440925\" y=\"53.139234\" style=\"fill: #1f77b4; stroke: #1f77b4\"/>\n     <use xlink:href=\"#m951738df35\" x=\"185.981656\" y=\"104.68639\" style=\"fill: #1f77b4; stroke: #1f77b4\"/>\n     <use xlink:href=\"#m951738df35\" x=\"65.086821\" y=\"23.681055\" style=\"fill: #1f77b4; stroke: #1f77b4\"/>\n     <use xlink:href=\"#m951738df35\" x=\"87.493027\" y=\"39.900966\" style=\"fill: #1f77b4; stroke: #1f77b4\"/>\n     <use xlink:href=\"#m951738df35\" x=\"102.24934\" y=\"44.803226\" style=\"fill: #1f77b4; stroke: #1f77b4\"/>\n     <use xlink:href=\"#m951738df35\" x=\"183.889456\" y=\"132.638727\" style=\"fill: #1f77b4; stroke: #1f77b4\"/>\n     <use xlink:href=\"#m951738df35\" x=\"147.183854\" y=\"97.572863\" style=\"fill: #1f77b4; stroke: #1f77b4\"/>\n     <use xlink:href=\"#m951738df35\" x=\"151.466334\" y=\"78.030255\" style=\"fill: #1f77b4; stroke: #1f77b4\"/>\n     <use xlink:href=\"#m951738df35\" x=\"120.355299\" y=\"60.341845\" style=\"fill: #1f77b4; stroke: #1f77b4\"/>\n     <use xlink:href=\"#m951738df35\" x=\"158.449377\" y=\"96.478406\" style=\"fill: #1f77b4; stroke: #1f77b4\"/>\n     <use xlink:href=\"#m951738df35\" x=\"170.406814\" y=\"88.113665\" style=\"fill: #1f77b4; stroke: #1f77b4\"/>\n     <use xlink:href=\"#m951738df35\" x=\"135.624851\" y=\"77.498703\" style=\"fill: #1f77b4; stroke: #1f77b4\"/>\n     <use xlink:href=\"#m951738df35\" x=\"103.119113\" y=\"66.036517\" style=\"fill: #1f77b4; stroke: #1f77b4\"/>\n     <use xlink:href=\"#m951738df35\" x=\"139.950723\" y=\"54.078325\" style=\"fill: #1f77b4; stroke: #1f77b4\"/>\n     <use xlink:href=\"#m951738df35\" x=\"111.599645\" y=\"59.799172\" style=\"fill: #1f77b4; stroke: #1f77b4\"/>\n     <use xlink:href=\"#m951738df35\" x=\"106.848891\" y=\"50.716336\" style=\"fill: #1f77b4; stroke: #1f77b4\"/>\n     <use xlink:href=\"#m951738df35\" x=\"90.432159\" y=\"60.334045\" style=\"fill: #1f77b4; stroke: #1f77b4\"/>\n     <use xlink:href=\"#m951738df35\" x=\"146.664124\" y=\"90.543592\" style=\"fill: #1f77b4; stroke: #1f77b4\"/>\n     <use xlink:href=\"#m951738df35\" x=\"85.000729\" y=\"40.906996\" style=\"fill: #1f77b4; stroke: #1f77b4\"/>\n     <use xlink:href=\"#m951738df35\" x=\"116.036272\" y=\"73.136872\" style=\"fill: #1f77b4; stroke: #1f77b4\"/>\n     <use xlink:href=\"#m951738df35\" x=\"164.839986\" y=\"107.562699\" style=\"fill: #1f77b4; stroke: #1f77b4\"/>\n     <use xlink:href=\"#m951738df35\" x=\"75.147466\" y=\"47.847551\" style=\"fill: #1f77b4; stroke: #1f77b4\"/>\n     <use xlink:href=\"#m951738df35\" x=\"114.534487\" y=\"54.066413\" style=\"fill: #1f77b4; stroke: #1f77b4\"/>\n     <use xlink:href=\"#m951738df35\" x=\"147.895026\" y=\"61.910197\" style=\"fill: #1f77b4; stroke: #1f77b4\"/>\n     <use xlink:href=\"#m951738df35\" x=\"110.838933\" y=\"78.804822\" style=\"fill: #1f77b4; stroke: #1f77b4\"/>\n     <use xlink:href=\"#m951738df35\" x=\"164.93368\" y=\"83.138084\" style=\"fill: #1f77b4; stroke: #1f77b4\"/>\n     <use xlink:href=\"#m951738df35\" x=\"157.524858\" y=\"97.155955\" style=\"fill: #1f77b4; stroke: #1f77b4\"/>\n     <use xlink:href=\"#m951738df35\" x=\"81.821106\" y=\"40.338165\" style=\"fill: #1f77b4; stroke: #1f77b4\"/>\n     <use xlink:href=\"#m951738df35\" x=\"105.78161\" y=\"59.477054\" style=\"fill: #1f77b4; stroke: #1f77b4\"/>\n     <use xlink:href=\"#m951738df35\" x=\"122.747185\" y=\"69.834656\" style=\"fill: #1f77b4; stroke: #1f77b4\"/>\n     <use xlink:href=\"#m951738df35\" x=\"154.252142\" y=\"59.081149\" style=\"fill: #1f77b4; stroke: #1f77b4\"/>\n     <use xlink:href=\"#m951738df35\" x=\"110.734787\" y=\"74.67822\" style=\"fill: #1f77b4; stroke: #1f77b4\"/>\n     <use xlink:href=\"#m951738df35\" x=\"80.864303\" y=\"51.309955\" style=\"fill: #1f77b4; stroke: #1f77b4\"/>\n     <use xlink:href=\"#m951738df35\" x=\"119.554237\" y=\"73.358642\" style=\"fill: #1f77b4; stroke: #1f77b4\"/>\n     <use xlink:href=\"#m951738df35\" x=\"118.460954\" y=\"59.044001\" style=\"fill: #1f77b4; stroke: #1f77b4\"/>\n     <use xlink:href=\"#m951738df35\" x=\"121.558186\" y=\"68.553843\" style=\"fill: #1f77b4; stroke: #1f77b4\"/>\n     <use xlink:href=\"#m951738df35\" x=\"127.945701\" y=\"58.625787\" style=\"fill: #1f77b4; stroke: #1f77b4\"/>\n     <use xlink:href=\"#m951738df35\" x=\"113.567158\" y=\"67.011165\" style=\"fill: #1f77b4; stroke: #1f77b4\"/>\n     <use xlink:href=\"#m951738df35\" x=\"119.104199\" y=\"56.131678\" style=\"fill: #1f77b4; stroke: #1f77b4\"/>\n     <use xlink:href=\"#m951738df35\" x=\"137.364883\" y=\"70.164158\" style=\"fill: #1f77b4; stroke: #1f77b4\"/>\n     <use xlink:href=\"#m951738df35\" x=\"127.303387\" y=\"62.383988\" style=\"fill: #1f77b4; stroke: #1f77b4\"/>\n     <use xlink:href=\"#m951738df35\" x=\"93.005923\" y=\"39.267383\" style=\"fill: #1f77b4; stroke: #1f77b4\"/>\n     <use xlink:href=\"#m951738df35\" x=\"186.126971\" y=\"106.859804\" style=\"fill: #1f77b4; stroke: #1f77b4\"/>\n     <use xlink:href=\"#m951738df35\" x=\"48.798623\" y=\"20.298789\" style=\"fill: #1f77b4; stroke: #1f77b4\"/>\n     <use xlink:href=\"#m951738df35\" x=\"160.092038\" y=\"72.237201\" style=\"fill: #1f77b4; stroke: #1f77b4\"/>\n     <use xlink:href=\"#m951738df35\" x=\"124.483198\" y=\"84.00737\" style=\"fill: #1f77b4; stroke: #1f77b4\"/>\n     <use xlink:href=\"#m951738df35\" x=\"134.784566\" y=\"54.295491\" style=\"fill: #1f77b4; stroke: #1f77b4\"/>\n     <use xlink:href=\"#m951738df35\" x=\"156.417294\" y=\"75.000495\" style=\"fill: #1f77b4; stroke: #1f77b4\"/>\n     <use xlink:href=\"#m951738df35\" x=\"144.44021\" y=\"65.253948\" style=\"fill: #1f77b4; stroke: #1f77b4\"/>\n     <use xlink:href=\"#m951738df35\" x=\"121.43756\" y=\"71.291665\" style=\"fill: #1f77b4; stroke: #1f77b4\"/>\n     <use xlink:href=\"#m951738df35\" x=\"127.054557\" y=\"82.554913\" style=\"fill: #1f77b4; stroke: #1f77b4\"/>\n     <use xlink:href=\"#m951738df35\" x=\"140.180815\" y=\"87.345674\" style=\"fill: #1f77b4; stroke: #1f77b4\"/>\n     <use xlink:href=\"#m951738df35\" x=\"103.169555\" y=\"33.122071\" style=\"fill: #1f77b4; stroke: #1f77b4\"/>\n     <use xlink:href=\"#m951738df35\" x=\"126.530335\" y=\"78.415871\" style=\"fill: #1f77b4; stroke: #1f77b4\"/>\n     <use xlink:href=\"#m951738df35\" x=\"139.656696\" y=\"63.523667\" style=\"fill: #1f77b4; stroke: #1f77b4\"/>\n     <use xlink:href=\"#m951738df35\" x=\"112.870039\" y=\"66.568783\" style=\"fill: #1f77b4; stroke: #1f77b4\"/>\n     <use xlink:href=\"#m951738df35\" x=\"62.593114\" y=\"28.236906\" style=\"fill: #1f77b4; stroke: #1f77b4\"/>\n     <use xlink:href=\"#m951738df35\" x=\"137.366746\" y=\"75.201093\" style=\"fill: #1f77b4; stroke: #1f77b4\"/>\n     <use xlink:href=\"#m951738df35\" x=\"117.698021\" y=\"64.174172\" style=\"fill: #1f77b4; stroke: #1f77b4\"/>\n     <use xlink:href=\"#m951738df35\" x=\"194.81451\" y=\"105.696474\" style=\"fill: #1f77b4; stroke: #1f77b4\"/>\n     <use xlink:href=\"#m951738df35\" x=\"111.798855\" y=\"60.985997\" style=\"fill: #1f77b4; stroke: #1f77b4\"/>\n     <use xlink:href=\"#m951738df35\" x=\"106.134747\" y=\"59.899357\" style=\"fill: #1f77b4; stroke: #1f77b4\"/>\n     <use xlink:href=\"#m951738df35\" x=\"123.324141\" y=\"55.53411\" style=\"fill: #1f77b4; stroke: #1f77b4\"/>\n     <use xlink:href=\"#m951738df35\" x=\"91.515989\" y=\"50.02306\" style=\"fill: #1f77b4; stroke: #1f77b4\"/>\n     <use xlink:href=\"#m951738df35\" x=\"77.941916\" y=\"34.509218\" style=\"fill: #1f77b4; stroke: #1f77b4\"/>\n     <use xlink:href=\"#m951738df35\" x=\"156.202143\" y=\"85.292026\" style=\"fill: #1f77b4; stroke: #1f77b4\"/>\n     <use xlink:href=\"#m951738df35\" x=\"136.536077\" y=\"73.997261\" style=\"fill: #1f77b4; stroke: #1f77b4\"/>\n     <use xlink:href=\"#m951738df35\" x=\"180.05644\" y=\"98.184519\" style=\"fill: #1f77b4; stroke: #1f77b4\"/>\n     <use xlink:href=\"#m951738df35\" x=\"158.875446\" y=\"81.765632\" style=\"fill: #1f77b4; stroke: #1f77b4\"/>\n     <use xlink:href=\"#m951738df35\" x=\"80.753933\" y=\"34.502826\" style=\"fill: #1f77b4; stroke: #1f77b4\"/>\n     <use xlink:href=\"#m951738df35\" x=\"161.734053\" y=\"99.2157\" style=\"fill: #1f77b4; stroke: #1f77b4\"/>\n     <use xlink:href=\"#m951738df35\" x=\"111.86239\" y=\"82.406124\" style=\"fill: #1f77b4; stroke: #1f77b4\"/>\n     <use xlink:href=\"#m951738df35\" x=\"140.515472\" y=\"83.593721\" style=\"fill: #1f77b4; stroke: #1f77b4\"/>\n     <use xlink:href=\"#m951738df35\" x=\"162.366175\" y=\"82.18793\" style=\"fill: #1f77b4; stroke: #1f77b4\"/>\n     <use xlink:href=\"#m951738df35\" x=\"98.038515\" y=\"51.303764\" style=\"fill: #1f77b4; stroke: #1f77b4\"/>\n     <use xlink:href=\"#m951738df35\" x=\"55.573676\" y=\"29.948067\" style=\"fill: #1f77b4; stroke: #1f77b4\"/>\n     <use xlink:href=\"#m951738df35\" x=\"149.576907\" y=\"90.261473\" style=\"fill: #1f77b4; stroke: #1f77b4\"/>\n     <use xlink:href=\"#m951738df35\" x=\"147.321083\" y=\"90.408052\" style=\"fill: #1f77b4; stroke: #1f77b4\"/>\n     <use xlink:href=\"#m951738df35\" x=\"120.335589\" y=\"63.956583\" style=\"fill: #1f77b4; stroke: #1f77b4\"/>\n     <use xlink:href=\"#m951738df35\" x=\"81.730769\" y=\"42.104569\" style=\"fill: #1f77b4; stroke: #1f77b4\"/>\n     <use xlink:href=\"#m951738df35\" x=\"137.42638\" y=\"79.768799\" style=\"fill: #1f77b4; stroke: #1f77b4\"/>\n     <use xlink:href=\"#m951738df35\" x=\"136.864171\" y=\"79.784322\" style=\"fill: #1f77b4; stroke: #1f77b4\"/>\n     <use xlink:href=\"#m951738df35\" x=\"177.622094\" y=\"95.160611\" style=\"fill: #1f77b4; stroke: #1f77b4\"/>\n     <use xlink:href=\"#m951738df35\" x=\"119.40653\" y=\"75.631673\" style=\"fill: #1f77b4; stroke: #1f77b4\"/>\n     <use xlink:href=\"#m951738df35\" x=\"130.916685\" y=\"72.880845\" style=\"fill: #1f77b4; stroke: #1f77b4\"/>\n     <use xlink:href=\"#m951738df35\" x=\"104.5876\" y=\"37.257691\" style=\"fill: #1f77b4; stroke: #1f77b4\"/>\n     <use xlink:href=\"#m951738df35\" x=\"215.364915\" y=\"122.788425\" style=\"fill: #1f77b4; stroke: #1f77b4\"/>\n     <use xlink:href=\"#m951738df35\" x=\"126.081367\" y=\"97.175499\" style=\"fill: #1f77b4; stroke: #1f77b4\"/>\n     <use xlink:href=\"#m951738df35\" x=\"87.939799\" y=\"44.765123\" style=\"fill: #1f77b4; stroke: #1f77b4\"/>\n     <use xlink:href=\"#m951738df35\" x=\"146.391821\" y=\"68.318284\" style=\"fill: #1f77b4; stroke: #1f77b4\"/>\n     <use xlink:href=\"#m951738df35\" x=\"129.562734\" y=\"78.61296\" style=\"fill: #1f77b4; stroke: #1f77b4\"/>\n     <use xlink:href=\"#m951738df35\" x=\"167.245486\" y=\"108.20913\" style=\"fill: #1f77b4; stroke: #1f77b4\"/>\n     <use xlink:href=\"#m951738df35\" x=\"136.870766\" y=\"64.146216\" style=\"fill: #1f77b4; stroke: #1f77b4\"/>\n     <use xlink:href=\"#m951738df35\" x=\"138.950161\" y=\"76.084111\" style=\"fill: #1f77b4; stroke: #1f77b4\"/>\n     <use xlink:href=\"#m951738df35\" x=\"83.348304\" y=\"53.777205\" style=\"fill: #1f77b4; stroke: #1f77b4\"/>\n     <use xlink:href=\"#m951738df35\" x=\"135.642013\" y=\"82.623567\" style=\"fill: #1f77b4; stroke: #1f77b4\"/>\n     <use xlink:href=\"#m951738df35\" x=\"114.383894\" y=\"62.720415\" style=\"fill: #1f77b4; stroke: #1f77b4\"/>\n     <use xlink:href=\"#m951738df35\" x=\"116.342154\" y=\"42.743417\" style=\"fill: #1f77b4; stroke: #1f77b4\"/>\n     <use xlink:href=\"#m951738df35\" x=\"67.085333\" y=\"24.750607\" style=\"fill: #1f77b4; stroke: #1f77b4\"/>\n     <use xlink:href=\"#m951738df35\" x=\"160.995423\" y=\"77.356641\" style=\"fill: #1f77b4; stroke: #1f77b4\"/>\n     <use xlink:href=\"#m951738df35\" x=\"159.217209\" y=\"110.39736\" style=\"fill: #1f77b4; stroke: #1f77b4\"/>\n     <use xlink:href=\"#m951738df35\" x=\"131.957853\" y=\"58.925392\" style=\"fill: #1f77b4; stroke: #1f77b4\"/>\n     <use xlink:href=\"#m951738df35\" x=\"120.016694\" y=\"58.371044\" style=\"fill: #1f77b4; stroke: #1f77b4\"/>\n     <use xlink:href=\"#m951738df35\" x=\"139.367994\" y=\"59.064973\" style=\"fill: #1f77b4; stroke: #1f77b4\"/>\n     <use xlink:href=\"#m951738df35\" x=\"65.555669\" y=\"33.768699\" style=\"fill: #1f77b4; stroke: #1f77b4\"/>\n     <use xlink:href=\"#m951738df35\" x=\"105.176101\" y=\"58.465503\" style=\"fill: #1f77b4; stroke: #1f77b4\"/>\n     <use xlink:href=\"#m951738df35\" x=\"121.398713\" y=\"58.076128\" style=\"fill: #1f77b4; stroke: #1f77b4\"/>\n     <use xlink:href=\"#m951738df35\" x=\"152.484694\" y=\"89.283076\" style=\"fill: #1f77b4; stroke: #1f77b4\"/>\n     <use xlink:href=\"#m951738df35\" x=\"119.259982\" y=\"69.482861\" style=\"fill: #1f77b4; stroke: #1f77b4\"/>\n     <use xlink:href=\"#m951738df35\" x=\"107.63263\" y=\"78.115284\" style=\"fill: #1f77b4; stroke: #1f77b4\"/>\n     <use xlink:href=\"#m951738df35\" x=\"89.728825\" y=\"31.952815\" style=\"fill: #1f77b4; stroke: #1f77b4\"/>\n     <use xlink:href=\"#m951738df35\" x=\"79.925883\" y=\"47.106261\" style=\"fill: #1f77b4; stroke: #1f77b4\"/>\n     <use xlink:href=\"#m951738df35\" x=\"84.855305\" y=\"31.359222\" style=\"fill: #1f77b4; stroke: #1f77b4\"/>\n     <use xlink:href=\"#m951738df35\" x=\"125.206411\" y=\"62.195898\" style=\"fill: #1f77b4; stroke: #1f77b4\"/>\n     <use xlink:href=\"#m951738df35\" x=\"186.411995\" y=\"116.893302\" style=\"fill: #1f77b4; stroke: #1f77b4\"/>\n     <use xlink:href=\"#m951738df35\" x=\"98.50048\" y=\"40.300588\" style=\"fill: #1f77b4; stroke: #1f77b4\"/>\n     <use xlink:href=\"#m951738df35\" x=\"100.188357\" y=\"38.52748\" style=\"fill: #1f77b4; stroke: #1f77b4\"/>\n     <use xlink:href=\"#m951738df35\" x=\"101.467622\" y=\"45.389616\" style=\"fill: #1f77b4; stroke: #1f77b4\"/>\n     <use xlink:href=\"#m951738df35\" x=\"157.084381\" y=\"95.903207\" style=\"fill: #1f77b4; stroke: #1f77b4\"/>\n     <use xlink:href=\"#m951738df35\" x=\"126.519838\" y=\"68.419234\" style=\"fill: #1f77b4; stroke: #1f77b4\"/>\n     <use xlink:href=\"#m951738df35\" x=\"167.955354\" y=\"101.697104\" style=\"fill: #1f77b4; stroke: #1f77b4\"/>\n     <use xlink:href=\"#m951738df35\" x=\"105.806372\" y=\"55.712503\" style=\"fill: #1f77b4; stroke: #1f77b4\"/>\n     <use xlink:href=\"#m951738df35\" x=\"163.401564\" y=\"105.166594\" style=\"fill: #1f77b4; stroke: #1f77b4\"/>\n     <use xlink:href=\"#m951738df35\" x=\"104.88613\" y=\"57.66551\" style=\"fill: #1f77b4; stroke: #1f77b4\"/>\n     <use xlink:href=\"#m951738df35\" x=\"133.522754\" y=\"65.114845\" style=\"fill: #1f77b4; stroke: #1f77b4\"/>\n     <use xlink:href=\"#m951738df35\" x=\"113.683768\" y=\"46.680959\" style=\"fill: #1f77b4; stroke: #1f77b4\"/>\n     <use xlink:href=\"#m951738df35\" x=\"87.231543\" y=\"37.921842\" style=\"fill: #1f77b4; stroke: #1f77b4\"/>\n     <use xlink:href=\"#m951738df35\" x=\"151.411774\" y=\"85.282843\" style=\"fill: #1f77b4; stroke: #1f77b4\"/>\n     <use xlink:href=\"#m951738df35\" x=\"119.136276\" y=\"70.984663\" style=\"fill: #1f77b4; stroke: #1f77b4\"/>\n     <use xlink:href=\"#m951738df35\" x=\"128.954872\" y=\"77.744862\" style=\"fill: #1f77b4; stroke: #1f77b4\"/>\n     <use xlink:href=\"#m951738df35\" x=\"119.336256\" y=\"70.934254\" style=\"fill: #1f77b4; stroke: #1f77b4\"/>\n     <use xlink:href=\"#m951738df35\" x=\"92.583448\" y=\"38.787046\" style=\"fill: #1f77b4; stroke: #1f77b4\"/>\n     <use xlink:href=\"#m951738df35\" x=\"111.461968\" y=\"62.260931\" style=\"fill: #1f77b4; stroke: #1f77b4\"/>\n     <use xlink:href=\"#m951738df35\" x=\"129.875665\" y=\"57.214094\" style=\"fill: #1f77b4; stroke: #1f77b4\"/>\n     <use xlink:href=\"#m951738df35\" x=\"152.026531\" y=\"92.281393\" style=\"fill: #1f77b4; stroke: #1f77b4\"/>\n     <use xlink:href=\"#m951738df35\" x=\"42.989497\" y=\"22.961221\" style=\"fill: #1f77b4; stroke: #1f77b4\"/>\n     <use xlink:href=\"#m951738df35\" x=\"120.148866\" y=\"77.12055\" style=\"fill: #1f77b4; stroke: #1f77b4\"/>\n     <use xlink:href=\"#m951738df35\" x=\"96.31917\" y=\"39.165441\" style=\"fill: #1f77b4; stroke: #1f77b4\"/>\n     <use xlink:href=\"#m951738df35\" x=\"132.020446\" y=\"75.187076\" style=\"fill: #1f77b4; stroke: #1f77b4\"/>\n     <use xlink:href=\"#m951738df35\" x=\"141.402334\" y=\"83.549202\" style=\"fill: #1f77b4; stroke: #1f77b4\"/>\n     <use xlink:href=\"#m951738df35\" x=\"119.62632\" y=\"62.198313\" style=\"fill: #1f77b4; stroke: #1f77b4\"/>\n     <use xlink:href=\"#m951738df35\" x=\"116.576338\" y=\"78.314233\" style=\"fill: #1f77b4; stroke: #1f77b4\"/>\n     <use xlink:href=\"#m951738df35\" x=\"100.12738\" y=\"53.794797\" style=\"fill: #1f77b4; stroke: #1f77b4\"/>\n     <use xlink:href=\"#m951738df35\" x=\"98.076146\" y=\"53.365616\" style=\"fill: #1f77b4; stroke: #1f77b4\"/>\n     <use xlink:href=\"#m951738df35\" x=\"113.004252\" y=\"43.577993\" style=\"fill: #1f77b4; stroke: #1f77b4\"/>\n     <use xlink:href=\"#m951738df35\" x=\"120.120725\" y=\"55.759551\" style=\"fill: #1f77b4; stroke: #1f77b4\"/>\n     <use xlink:href=\"#m951738df35\" x=\"178.617612\" y=\"98.444366\" style=\"fill: #1f77b4; stroke: #1f77b4\"/>\n     <use xlink:href=\"#m951738df35\" x=\"156.264592\" y=\"90.644906\" style=\"fill: #1f77b4; stroke: #1f77b4\"/>\n     <use xlink:href=\"#m951738df35\" x=\"142.672472\" y=\"91.70574\" style=\"fill: #1f77b4; stroke: #1f77b4\"/>\n     <use xlink:href=\"#m951738df35\" x=\"149.060535\" y=\"77.600219\" style=\"fill: #1f77b4; stroke: #1f77b4\"/>\n     <use xlink:href=\"#m951738df35\" x=\"127.142115\" y=\"79.192972\" style=\"fill: #1f77b4; stroke: #1f77b4\"/>\n     <use xlink:href=\"#m951738df35\" x=\"121.38904\" y=\"62.743185\" style=\"fill: #1f77b4; stroke: #1f77b4\"/>\n     <use xlink:href=\"#m951738df35\" x=\"86.709382\" y=\"15.998729\" style=\"fill: #1f77b4; stroke: #1f77b4\"/>\n     <use xlink:href=\"#m951738df35\" x=\"186.855768\" y=\"131.549317\" style=\"fill: #1f77b4; stroke: #1f77b4\"/>\n     <use xlink:href=\"#m951738df35\" x=\"94.485296\" y=\"55.574432\" style=\"fill: #1f77b4; stroke: #1f77b4\"/>\n     <use xlink:href=\"#m951738df35\" x=\"121.594173\" y=\"84.21757\" style=\"fill: #1f77b4; stroke: #1f77b4\"/>\n     <use xlink:href=\"#m951738df35\" x=\"158.856836\" y=\"114.403424\" style=\"fill: #1f77b4; stroke: #1f77b4\"/>\n     <use xlink:href=\"#m951738df35\" x=\"133.806965\" y=\"63.983509\" style=\"fill: #1f77b4; stroke: #1f77b4\"/>\n     <use xlink:href=\"#m951738df35\" x=\"124.208229\" y=\"73.126612\" style=\"fill: #1f77b4; stroke: #1f77b4\"/>\n     <use xlink:href=\"#m951738df35\" x=\"104.372417\" y=\"61.28125\" style=\"fill: #1f77b4; stroke: #1f77b4\"/>\n     <use xlink:href=\"#m951738df35\" x=\"51.555752\" y=\"24.690742\" style=\"fill: #1f77b4; stroke: #1f77b4\"/>\n     <use xlink:href=\"#m951738df35\" x=\"91.906323\" y=\"43.958387\" style=\"fill: #1f77b4; stroke: #1f77b4\"/>\n     <use xlink:href=\"#m951738df35\" x=\"133.538649\" y=\"54.751789\" style=\"fill: #1f77b4; stroke: #1f77b4\"/>\n     <use xlink:href=\"#m951738df35\" x=\"126.852634\" y=\"66.388215\" style=\"fill: #1f77b4; stroke: #1f77b4\"/>\n     <use xlink:href=\"#m951738df35\" x=\"124.891969\" y=\"72.836785\" style=\"fill: #1f77b4; stroke: #1f77b4\"/>\n     <use xlink:href=\"#m951738df35\" x=\"155.607531\" y=\"85.490441\" style=\"fill: #1f77b4; stroke: #1f77b4\"/>\n     <use xlink:href=\"#m951738df35\" x=\"146.963502\" y=\"84.041731\" style=\"fill: #1f77b4; stroke: #1f77b4\"/>\n     <use xlink:href=\"#m951738df35\" x=\"131.434765\" y=\"73.079102\" style=\"fill: #1f77b4; stroke: #1f77b4\"/>\n     <use xlink:href=\"#m951738df35\" x=\"91.260536\" y=\"57.065655\" style=\"fill: #1f77b4; stroke: #1f77b4\"/>\n     <use xlink:href=\"#m951738df35\" x=\"188.77114\" y=\"110.297918\" style=\"fill: #1f77b4; stroke: #1f77b4\"/>\n     <use xlink:href=\"#m951738df35\" x=\"130.533611\" y=\"75.943594\" style=\"fill: #1f77b4; stroke: #1f77b4\"/>\n     <use xlink:href=\"#m951738df35\" x=\"162.396886\" y=\"105.600271\" style=\"fill: #1f77b4; stroke: #1f77b4\"/>\n     <use xlink:href=\"#m951738df35\" x=\"127.055922\" y=\"56.535176\" style=\"fill: #1f77b4; stroke: #1f77b4\"/>\n     <use xlink:href=\"#m951738df35\" x=\"131.930188\" y=\"67.46959\" style=\"fill: #1f77b4; stroke: #1f77b4\"/>\n     <use xlink:href=\"#m951738df35\" x=\"135.947533\" y=\"56.261811\" style=\"fill: #1f77b4; stroke: #1f77b4\"/>\n     <use xlink:href=\"#m951738df35\" x=\"155.141403\" y=\"79.944966\" style=\"fill: #1f77b4; stroke: #1f77b4\"/>\n     <use xlink:href=\"#m951738df35\" x=\"118.803545\" y=\"75.767313\" style=\"fill: #1f77b4; stroke: #1f77b4\"/>\n     <use xlink:href=\"#m951738df35\" x=\"147.935845\" y=\"76.245316\" style=\"fill: #1f77b4; stroke: #1f77b4\"/>\n     <use xlink:href=\"#m951738df35\" x=\"119.508665\" y=\"66.624009\" style=\"fill: #1f77b4; stroke: #1f77b4\"/>\n     <use xlink:href=\"#m951738df35\" x=\"148.145353\" y=\"85.5822\" style=\"fill: #1f77b4; stroke: #1f77b4\"/>\n     <use xlink:href=\"#m951738df35\" x=\"121.042289\" y=\"74.888152\" style=\"fill: #1f77b4; stroke: #1f77b4\"/>\n     <use xlink:href=\"#m951738df35\" x=\"120.381174\" y=\"67.276093\" style=\"fill: #1f77b4; stroke: #1f77b4\"/>\n     <use xlink:href=\"#m951738df35\" x=\"188.739549\" y=\"110.510709\" style=\"fill: #1f77b4; stroke: #1f77b4\"/>\n     <use xlink:href=\"#m951738df35\" x=\"141.259492\" y=\"91.428522\" style=\"fill: #1f77b4; stroke: #1f77b4\"/>\n     <use xlink:href=\"#m951738df35\" x=\"81.585961\" y=\"41.861715\" style=\"fill: #1f77b4; stroke: #1f77b4\"/>\n     <use xlink:href=\"#m951738df35\" x=\"100.978386\" y=\"71.611517\" style=\"fill: #1f77b4; stroke: #1f77b4\"/>\n     <use xlink:href=\"#m951738df35\" x=\"149.133868\" y=\"70.040127\" style=\"fill: #1f77b4; stroke: #1f77b4\"/>\n     <use xlink:href=\"#m951738df35\" x=\"107.698449\" y=\"39.667438\" style=\"fill: #1f77b4; stroke: #1f77b4\"/>\n     <use xlink:href=\"#m951738df35\" x=\"169.006862\" y=\"106.389785\" style=\"fill: #1f77b4; stroke: #1f77b4\"/>\n     <use xlink:href=\"#m951738df35\" x=\"154.228027\" y=\"88.606629\" style=\"fill: #1f77b4; stroke: #1f77b4\"/>\n     <use xlink:href=\"#m951738df35\" x=\"74.100033\" y=\"37.624525\" style=\"fill: #1f77b4; stroke: #1f77b4\"/>\n     <use xlink:href=\"#m951738df35\" x=\"149.902063\" y=\"74.56826\" style=\"fill: #1f77b4; stroke: #1f77b4\"/>\n     <use xlink:href=\"#m951738df35\" x=\"117.607917\" y=\"43.72572\" style=\"fill: #1f77b4; stroke: #1f77b4\"/>\n     <use xlink:href=\"#m951738df35\" x=\"145.390643\" y=\"101.934166\" style=\"fill: #1f77b4; stroke: #1f77b4\"/>\n     <use xlink:href=\"#m951738df35\" x=\"141.262755\" y=\"95.230596\" style=\"fill: #1f77b4; stroke: #1f77b4\"/>\n     <use xlink:href=\"#m951738df35\" x=\"151.456542\" y=\"86.05146\" style=\"fill: #1f77b4; stroke: #1f77b4\"/>\n     <use xlink:href=\"#m951738df35\" x=\"147.123003\" y=\"74.718103\" style=\"fill: #1f77b4; stroke: #1f77b4\"/>\n     <use xlink:href=\"#m951738df35\" x=\"132.215322\" y=\"68.294705\" style=\"fill: #1f77b4; stroke: #1f77b4\"/>\n     <use xlink:href=\"#m951738df35\" x=\"124.478998\" y=\"80.411032\" style=\"fill: #1f77b4; stroke: #1f77b4\"/>\n     <use xlink:href=\"#m951738df35\" x=\"173.969023\" y=\"95.220961\" style=\"fill: #1f77b4; stroke: #1f77b4\"/>\n     <use xlink:href=\"#m951738df35\" x=\"138.206145\" y=\"81.024553\" style=\"fill: #1f77b4; stroke: #1f77b4\"/>\n     <use xlink:href=\"#m951738df35\" x=\"166.59055\" y=\"101.322194\" style=\"fill: #1f77b4; stroke: #1f77b4\"/>\n     <use xlink:href=\"#m951738df35\" x=\"101.462354\" y=\"46.948376\" style=\"fill: #1f77b4; stroke: #1f77b4\"/>\n     <use xlink:href=\"#m951738df35\" x=\"161.757245\" y=\"78.627971\" style=\"fill: #1f77b4; stroke: #1f77b4\"/>\n     <use xlink:href=\"#m951738df35\" x=\"122.841553\" y=\"57.468148\" style=\"fill: #1f77b4; stroke: #1f77b4\"/>\n     <use xlink:href=\"#m951738df35\" x=\"164.374629\" y=\"112.633888\" style=\"fill: #1f77b4; stroke: #1f77b4\"/>\n     <use xlink:href=\"#m951738df35\" x=\"172.937227\" y=\"99.417189\" style=\"fill: #1f77b4; stroke: #1f77b4\"/>\n     <use xlink:href=\"#m951738df35\" x=\"105.818239\" y=\"54.440953\" style=\"fill: #1f77b4; stroke: #1f77b4\"/>\n     <use xlink:href=\"#m951738df35\" x=\"151.98239\" y=\"93.169456\" style=\"fill: #1f77b4; stroke: #1f77b4\"/>\n     <use xlink:href=\"#m951738df35\" x=\"136.565354\" y=\"82.536475\" style=\"fill: #1f77b4; stroke: #1f77b4\"/>\n     <use xlink:href=\"#m951738df35\" x=\"96.301313\" y=\"35.958359\" style=\"fill: #1f77b4; stroke: #1f77b4\"/>\n     <use xlink:href=\"#m951738df35\" x=\"150.687405\" y=\"92.404861\" style=\"fill: #1f77b4; stroke: #1f77b4\"/>\n     <use xlink:href=\"#m951738df35\" x=\"146.664396\" y=\"69.279196\" style=\"fill: #1f77b4; stroke: #1f77b4\"/>\n     <use xlink:href=\"#m951738df35\" x=\"126.628829\" y=\"73.286407\" style=\"fill: #1f77b4; stroke: #1f77b4\"/>\n     <use xlink:href=\"#m951738df35\" x=\"104.448286\" y=\"56.671693\" style=\"fill: #1f77b4; stroke: #1f77b4\"/>\n     <use xlink:href=\"#m951738df35\" x=\"124.647112\" y=\"75.603056\" style=\"fill: #1f77b4; stroke: #1f77b4\"/>\n     <use xlink:href=\"#m951738df35\" x=\"101.81332\" y=\"59.985597\" style=\"fill: #1f77b4; stroke: #1f77b4\"/>\n     <use xlink:href=\"#m951738df35\" x=\"84.063253\" y=\"43.936083\" style=\"fill: #1f77b4; stroke: #1f77b4\"/>\n     <use xlink:href=\"#m951738df35\" x=\"128.841874\" y=\"69.986241\" style=\"fill: #1f77b4; stroke: #1f77b4\"/>\n     <use xlink:href=\"#m951738df35\" x=\"114.218418\" y=\"72.854432\" style=\"fill: #1f77b4; stroke: #1f77b4\"/>\n     <use xlink:href=\"#m951738df35\" x=\"68.095209\" y=\"31.421888\" style=\"fill: #1f77b4; stroke: #1f77b4\"/>\n     <use xlink:href=\"#m951738df35\" x=\"129.077635\" y=\"57.316281\" style=\"fill: #1f77b4; stroke: #1f77b4\"/>\n     <use xlink:href=\"#m951738df35\" x=\"114.118345\" y=\"62.705529\" style=\"fill: #1f77b4; stroke: #1f77b4\"/>\n     <use xlink:href=\"#m951738df35\" x=\"127.015108\" y=\"58.562091\" style=\"fill: #1f77b4; stroke: #1f77b4\"/>\n     <use xlink:href=\"#m951738df35\" x=\"87.458607\" y=\"64.957409\" style=\"fill: #1f77b4; stroke: #1f77b4\"/>\n     <use xlink:href=\"#m951738df35\" x=\"153.441571\" y=\"81.649101\" style=\"fill: #1f77b4; stroke: #1f77b4\"/>\n     <use xlink:href=\"#m951738df35\" x=\"108.064441\" y=\"67.597114\" style=\"fill: #1f77b4; stroke: #1f77b4\"/>\n     <use xlink:href=\"#m951738df35\" x=\"138.956249\" y=\"85.276464\" style=\"fill: #1f77b4; stroke: #1f77b4\"/>\n     <use xlink:href=\"#m951738df35\" x=\"141.31407\" y=\"87.520119\" style=\"fill: #1f77b4; stroke: #1f77b4\"/>\n     <use xlink:href=\"#m951738df35\" x=\"122.844246\" y=\"40.286645\" style=\"fill: #1f77b4; stroke: #1f77b4\"/>\n     <use xlink:href=\"#m951738df35\" x=\"115.846807\" y=\"51.196165\" style=\"fill: #1f77b4; stroke: #1f77b4\"/>\n     <use xlink:href=\"#m951738df35\" x=\"196.952716\" y=\"119.809915\" style=\"fill: #1f77b4; stroke: #1f77b4\"/>\n     <use xlink:href=\"#m951738df35\" x=\"105.586963\" y=\"60.322417\" style=\"fill: #1f77b4; stroke: #1f77b4\"/>\n     <use xlink:href=\"#m951738df35\" x=\"119.467052\" y=\"80.748434\" style=\"fill: #1f77b4; stroke: #1f77b4\"/>\n     <use xlink:href=\"#m951738df35\" x=\"111.838341\" y=\"50.55032\" style=\"fill: #1f77b4; stroke: #1f77b4\"/>\n     <use xlink:href=\"#m951738df35\" x=\"94.099316\" y=\"44.615687\" style=\"fill: #1f77b4; stroke: #1f77b4\"/>\n     <use xlink:href=\"#m951738df35\" x=\"142.123851\" y=\"51.910866\" style=\"fill: #1f77b4; stroke: #1f77b4\"/>\n     <use xlink:href=\"#m951738df35\" x=\"74.22943\" y=\"44.371552\" style=\"fill: #1f77b4; stroke: #1f77b4\"/>\n     <use xlink:href=\"#m951738df35\" x=\"141.84796\" y=\"75.004071\" style=\"fill: #1f77b4; stroke: #1f77b4\"/>\n     <use xlink:href=\"#m951738df35\" x=\"154.118879\" y=\"70.634649\" style=\"fill: #1f77b4; stroke: #1f77b4\"/>\n     <use xlink:href=\"#m951738df35\" x=\"138.155929\" y=\"78.571366\" style=\"fill: #1f77b4; stroke: #1f77b4\"/>\n     <use xlink:href=\"#m951738df35\" x=\"83.352382\" y=\"48.657619\" style=\"fill: #1f77b4; stroke: #1f77b4\"/>\n     <use xlink:href=\"#m951738df35\" x=\"163.221112\" y=\"81.893139\" style=\"fill: #1f77b4; stroke: #1f77b4\"/>\n     <use xlink:href=\"#m951738df35\" x=\"142.969847\" y=\"91.267258\" style=\"fill: #1f77b4; stroke: #1f77b4\"/>\n     <use xlink:href=\"#m951738df35\" x=\"120.27468\" y=\"62.586392\" style=\"fill: #1f77b4; stroke: #1f77b4\"/>\n     <use xlink:href=\"#m951738df35\" x=\"158.915498\" y=\"70.13846\" style=\"fill: #1f77b4; stroke: #1f77b4\"/>\n     <use xlink:href=\"#m951738df35\" x=\"142.695543\" y=\"76.621565\" style=\"fill: #1f77b4; stroke: #1f77b4\"/>\n     <use xlink:href=\"#m951738df35\" x=\"126.203399\" y=\"76.257873\" style=\"fill: #1f77b4; stroke: #1f77b4\"/>\n     <use xlink:href=\"#m951738df35\" x=\"83.372321\" y=\"48.183705\" style=\"fill: #1f77b4; stroke: #1f77b4\"/>\n     <use xlink:href=\"#m951738df35\" x=\"115.111239\" y=\"53.467721\" style=\"fill: #1f77b4; stroke: #1f77b4\"/>\n     <use xlink:href=\"#m951738df35\" x=\"142.90834\" y=\"60.497141\" style=\"fill: #1f77b4; stroke: #1f77b4\"/>\n     <use xlink:href=\"#m951738df35\" x=\"99.421368\" y=\"53.048171\" style=\"fill: #1f77b4; stroke: #1f77b4\"/>\n     <use xlink:href=\"#m951738df35\" x=\"157.132836\" y=\"99.384482\" style=\"fill: #1f77b4; stroke: #1f77b4\"/>\n     <use xlink:href=\"#m951738df35\" x=\"132.242817\" y=\"71.760419\" style=\"fill: #1f77b4; stroke: #1f77b4\"/>\n     <use xlink:href=\"#m951738df35\" x=\"114.936715\" y=\"58.772324\" style=\"fill: #1f77b4; stroke: #1f77b4\"/>\n     <use xlink:href=\"#m951738df35\" x=\"166.495696\" y=\"107.434929\" style=\"fill: #1f77b4; stroke: #1f77b4\"/>\n     <use xlink:href=\"#m951738df35\" x=\"140.395597\" y=\"82.923342\" style=\"fill: #1f77b4; stroke: #1f77b4\"/>\n     <use xlink:href=\"#m951738df35\" x=\"173.865318\" y=\"104.062374\" style=\"fill: #1f77b4; stroke: #1f77b4\"/>\n     <use xlink:href=\"#m951738df35\" x=\"126.155212\" y=\"50.969176\" style=\"fill: #1f77b4; stroke: #1f77b4\"/>\n     <use xlink:href=\"#m951738df35\" x=\"130.855283\" y=\"78.362362\" style=\"fill: #1f77b4; stroke: #1f77b4\"/>\n     <use xlink:href=\"#m951738df35\" x=\"135.788624\" y=\"66.27478\" style=\"fill: #1f77b4; stroke: #1f77b4\"/>\n     <use xlink:href=\"#m951738df35\" x=\"148.087957\" y=\"78.45727\" style=\"fill: #1f77b4; stroke: #1f77b4\"/>\n     <use xlink:href=\"#m951738df35\" x=\"105.579249\" y=\"55.279969\" style=\"fill: #1f77b4; stroke: #1f77b4\"/>\n     <use xlink:href=\"#m951738df35\" x=\"161.628431\" y=\"83.473012\" style=\"fill: #1f77b4; stroke: #1f77b4\"/>\n     <use xlink:href=\"#m951738df35\" x=\"140.783004\" y=\"61.418089\" style=\"fill: #1f77b4; stroke: #1f77b4\"/>\n     <use xlink:href=\"#m951738df35\" x=\"120.144933\" y=\"74.659551\" style=\"fill: #1f77b4; stroke: #1f77b4\"/>\n     <use xlink:href=\"#m951738df35\" x=\"100.771757\" y=\"48.383866\" style=\"fill: #1f77b4; stroke: #1f77b4\"/>\n     <use xlink:href=\"#m951738df35\" x=\"105.901086\" y=\"64.314253\" style=\"fill: #1f77b4; stroke: #1f77b4\"/>\n     <use xlink:href=\"#m951738df35\" x=\"158.994904\" y=\"95.167295\" style=\"fill: #1f77b4; stroke: #1f77b4\"/>\n     <use xlink:href=\"#m951738df35\" x=\"175.93781\" y=\"91.082719\" style=\"fill: #1f77b4; stroke: #1f77b4\"/>\n     <use xlink:href=\"#m951738df35\" x=\"169.903032\" y=\"89.575082\" style=\"fill: #1f77b4; stroke: #1f77b4\"/>\n     <use xlink:href=\"#m951738df35\" x=\"76.37195\" y=\"57.252225\" style=\"fill: #1f77b4; stroke: #1f77b4\"/>\n     <use xlink:href=\"#m951738df35\" x=\"101.317696\" y=\"56.320395\" style=\"fill: #1f77b4; stroke: #1f77b4\"/>\n     <use xlink:href=\"#m951738df35\" x=\"143.238211\" y=\"92.500487\" style=\"fill: #1f77b4; stroke: #1f77b4\"/>\n     <use xlink:href=\"#m951738df35\" x=\"136.57455\" y=\"57.451255\" style=\"fill: #1f77b4; stroke: #1f77b4\"/>\n     <use xlink:href=\"#m951738df35\" x=\"82.143752\" y=\"26.352929\" style=\"fill: #1f77b4; stroke: #1f77b4\"/>\n     <use xlink:href=\"#m951738df35\" x=\"88.751315\" y=\"70.546236\" style=\"fill: #1f77b4; stroke: #1f77b4\"/>\n     <use xlink:href=\"#m951738df35\" x=\"137.86793\" y=\"76.748017\" style=\"fill: #1f77b4; stroke: #1f77b4\"/>\n     <use xlink:href=\"#m951738df35\" x=\"187.579168\" y=\"101.849995\" style=\"fill: #1f77b4; stroke: #1f77b4\"/>\n     <use xlink:href=\"#m951738df35\" x=\"151.965674\" y=\"89.308781\" style=\"fill: #1f77b4; stroke: #1f77b4\"/>\n     <use xlink:href=\"#m951738df35\" x=\"133.527052\" y=\"66.918099\" style=\"fill: #1f77b4; stroke: #1f77b4\"/>\n     <use xlink:href=\"#m951738df35\" x=\"61.171769\" y=\"20.536593\" style=\"fill: #1f77b4; stroke: #1f77b4\"/>\n     <use xlink:href=\"#m951738df35\" x=\"174.500905\" y=\"97.702727\" style=\"fill: #1f77b4; stroke: #1f77b4\"/>\n     <use xlink:href=\"#m951738df35\" x=\"179.021199\" y=\"101.097969\" style=\"fill: #1f77b4; stroke: #1f77b4\"/>\n     <use xlink:href=\"#m951738df35\" x=\"101.342313\" y=\"43.189248\" style=\"fill: #1f77b4; stroke: #1f77b4\"/>\n     <use xlink:href=\"#m951738df35\" x=\"144.906693\" y=\"95.683348\" style=\"fill: #1f77b4; stroke: #1f77b4\"/>\n     <use xlink:href=\"#m951738df35\" x=\"137.601159\" y=\"85.707851\" style=\"fill: #1f77b4; stroke: #1f77b4\"/>\n     <use xlink:href=\"#m951738df35\" x=\"108.664885\" y=\"69.111925\" style=\"fill: #1f77b4; stroke: #1f77b4\"/>\n     <use xlink:href=\"#m951738df35\" x=\"117.163013\" y=\"49.356833\" style=\"fill: #1f77b4; stroke: #1f77b4\"/>\n     <use xlink:href=\"#m951738df35\" x=\"69.412163\" y=\"13.377273\" style=\"fill: #1f77b4; stroke: #1f77b4\"/>\n     <use xlink:href=\"#m951738df35\" x=\"157.737322\" y=\"81.387867\" style=\"fill: #1f77b4; stroke: #1f77b4\"/>\n     <use xlink:href=\"#m951738df35\" x=\"132.860747\" y=\"84.159418\" style=\"fill: #1f77b4; stroke: #1f77b4\"/>\n     <use xlink:href=\"#m951738df35\" x=\"127.471062\" y=\"64.318852\" style=\"fill: #1f77b4; stroke: #1f77b4\"/>\n     <use xlink:href=\"#m951738df35\" x=\"96.572591\" y=\"74.253532\" style=\"fill: #1f77b4; stroke: #1f77b4\"/>\n     <use xlink:href=\"#m951738df35\" x=\"77.303301\" y=\"44.326491\" style=\"fill: #1f77b4; stroke: #1f77b4\"/>\n     <use xlink:href=\"#m951738df35\" x=\"115.04019\" y=\"43.362549\" style=\"fill: #1f77b4; stroke: #1f77b4\"/>\n     <use xlink:href=\"#m951738df35\" x=\"115.641021\" y=\"62.137101\" style=\"fill: #1f77b4; stroke: #1f77b4\"/>\n     <use xlink:href=\"#m951738df35\" x=\"109.686885\" y=\"62.607089\" style=\"fill: #1f77b4; stroke: #1f77b4\"/>\n     <use xlink:href=\"#m951738df35\" x=\"113.561812\" y=\"45.671644\" style=\"fill: #1f77b4; stroke: #1f77b4\"/>\n     <use xlink:href=\"#m951738df35\" x=\"211.983176\" y=\"126.636102\" style=\"fill: #1f77b4; stroke: #1f77b4\"/>\n     <use xlink:href=\"#m951738df35\" x=\"192.982422\" y=\"103.541215\" style=\"fill: #1f77b4; stroke: #1f77b4\"/>\n     <use xlink:href=\"#m951738df35\" x=\"122.889593\" y=\"59.564095\" style=\"fill: #1f77b4; stroke: #1f77b4\"/>\n     <use xlink:href=\"#m951738df35\" x=\"125.740816\" y=\"67.731261\" style=\"fill: #1f77b4; stroke: #1f77b4\"/>\n     <use xlink:href=\"#m951738df35\" x=\"160.30469\" y=\"89.949737\" style=\"fill: #1f77b4; stroke: #1f77b4\"/>\n     <use xlink:href=\"#m951738df35\" x=\"143.685005\" y=\"96.919439\" style=\"fill: #1f77b4; stroke: #1f77b4\"/>\n     <use xlink:href=\"#m951738df35\" x=\"128.186434\" y=\"54.085776\" style=\"fill: #1f77b4; stroke: #1f77b4\"/>\n     <use xlink:href=\"#m951738df35\" x=\"111.883829\" y=\"69.882477\" style=\"fill: #1f77b4; stroke: #1f77b4\"/>\n     <use xlink:href=\"#m951738df35\" x=\"74.438953\" y=\"44.320012\" style=\"fill: #1f77b4; stroke: #1f77b4\"/>\n     <use xlink:href=\"#m951738df35\" x=\"123.929736\" y=\"71.098147\" style=\"fill: #1f77b4; stroke: #1f77b4\"/>\n     <use xlink:href=\"#m951738df35\" x=\"116.456641\" y=\"71.477332\" style=\"fill: #1f77b4; stroke: #1f77b4\"/>\n     <use xlink:href=\"#m951738df35\" x=\"181.82143\" y=\"87.160428\" style=\"fill: #1f77b4; stroke: #1f77b4\"/>\n     <use xlink:href=\"#m951738df35\" x=\"157.658163\" y=\"102.417684\" style=\"fill: #1f77b4; stroke: #1f77b4\"/>\n     <use xlink:href=\"#m951738df35\" x=\"121.145248\" y=\"75.275413\" style=\"fill: #1f77b4; stroke: #1f77b4\"/>\n     <use xlink:href=\"#m951738df35\" x=\"73.861306\" y=\"48.426611\" style=\"fill: #1f77b4; stroke: #1f77b4\"/>\n     <use xlink:href=\"#m951738df35\" x=\"93.997863\" y=\"47.486721\" style=\"fill: #1f77b4; stroke: #1f77b4\"/>\n     <use xlink:href=\"#m951738df35\" x=\"154.256744\" y=\"96.430146\" style=\"fill: #1f77b4; stroke: #1f77b4\"/>\n     <use xlink:href=\"#m951738df35\" x=\"137.40538\" y=\"47.418367\" style=\"fill: #1f77b4; stroke: #1f77b4\"/>\n     <use xlink:href=\"#m951738df35\" x=\"105.991301\" y=\"70.120914\" style=\"fill: #1f77b4; stroke: #1f77b4\"/>\n     <use xlink:href=\"#m951738df35\" x=\"133.403861\" y=\"63.56188\" style=\"fill: #1f77b4; stroke: #1f77b4\"/>\n     <use xlink:href=\"#m951738df35\" x=\"102.661517\" y=\"60.214001\" style=\"fill: #1f77b4; stroke: #1f77b4\"/>\n     <use xlink:href=\"#m951738df35\" x=\"143.690201\" y=\"80.028155\" style=\"fill: #1f77b4; stroke: #1f77b4\"/>\n     <use xlink:href=\"#m951738df35\" x=\"145.587951\" y=\"75.698906\" style=\"fill: #1f77b4; stroke: #1f77b4\"/>\n     <use xlink:href=\"#m951738df35\" x=\"137.811333\" y=\"89.265709\" style=\"fill: #1f77b4; stroke: #1f77b4\"/>\n     <use xlink:href=\"#m951738df35\" x=\"63.255392\" y=\"42.705886\" style=\"fill: #1f77b4; stroke: #1f77b4\"/>\n     <use xlink:href=\"#m951738df35\" x=\"152.864653\" y=\"95.252693\" style=\"fill: #1f77b4; stroke: #1f77b4\"/>\n     <use xlink:href=\"#m951738df35\" x=\"100.371729\" y=\"75.664056\" style=\"fill: #1f77b4; stroke: #1f77b4\"/>\n     <use xlink:href=\"#m951738df35\" x=\"98.862937\" y=\"38.297344\" style=\"fill: #1f77b4; stroke: #1f77b4\"/>\n     <use xlink:href=\"#m951738df35\" x=\"123.649671\" y=\"81.136627\" style=\"fill: #1f77b4; stroke: #1f77b4\"/>\n     <use xlink:href=\"#m951738df35\" x=\"98.680901\" y=\"34.842016\" style=\"fill: #1f77b4; stroke: #1f77b4\"/>\n     <use xlink:href=\"#m951738df35\" x=\"55.59761\" y=\"28.648306\" style=\"fill: #1f77b4; stroke: #1f77b4\"/>\n     <use xlink:href=\"#m951738df35\" x=\"86.445884\" y=\"33.100236\" style=\"fill: #1f77b4; stroke: #1f77b4\"/>\n     <use xlink:href=\"#m951738df35\" x=\"112.235769\" y=\"81.297313\" style=\"fill: #1f77b4; stroke: #1f77b4\"/>\n     <use xlink:href=\"#m951738df35\" x=\"147.888132\" y=\"73.930312\" style=\"fill: #1f77b4; stroke: #1f77b4\"/>\n     <use xlink:href=\"#m951738df35\" x=\"142.321981\" y=\"75.974247\" style=\"fill: #1f77b4; stroke: #1f77b4\"/>\n     <use xlink:href=\"#m951738df35\" x=\"76.181827\" y=\"73.0191\" style=\"fill: #1f77b4; stroke: #1f77b4\"/>\n     <use xlink:href=\"#m951738df35\" x=\"88.482717\" y=\"40.26926\" style=\"fill: #1f77b4; stroke: #1f77b4\"/>\n     <use xlink:href=\"#m951738df35\" x=\"173.099479\" y=\"86.806969\" style=\"fill: #1f77b4; stroke: #1f77b4\"/>\n     <use xlink:href=\"#m951738df35\" x=\"159.686988\" y=\"87.568732\" style=\"fill: #1f77b4; stroke: #1f77b4\"/>\n     <use xlink:href=\"#m951738df35\" x=\"62.904868\" y=\"29.4011\" style=\"fill: #1f77b4; stroke: #1f77b4\"/>\n     <use xlink:href=\"#m951738df35\" x=\"115.278186\" y=\"60.587503\" style=\"fill: #1f77b4; stroke: #1f77b4\"/>\n     <use xlink:href=\"#m951738df35\" x=\"123.877406\" y=\"77.790003\" style=\"fill: #1f77b4; stroke: #1f77b4\"/>\n     <use xlink:href=\"#m951738df35\" x=\"136.844103\" y=\"71.745241\" style=\"fill: #1f77b4; stroke: #1f77b4\"/>\n     <use xlink:href=\"#m951738df35\" x=\"136.825456\" y=\"78.665211\" style=\"fill: #1f77b4; stroke: #1f77b4\"/>\n     <use xlink:href=\"#m951738df35\" x=\"146.635325\" y=\"89.796927\" style=\"fill: #1f77b4; stroke: #1f77b4\"/>\n     <use xlink:href=\"#m951738df35\" x=\"137.090832\" y=\"82.341479\" style=\"fill: #1f77b4; stroke: #1f77b4\"/>\n     <use xlink:href=\"#m951738df35\" x=\"145.142178\" y=\"62.16082\" style=\"fill: #1f77b4; stroke: #1f77b4\"/>\n     <use xlink:href=\"#m951738df35\" x=\"143.521038\" y=\"51.174659\" style=\"fill: #1f77b4; stroke: #1f77b4\"/>\n     <use xlink:href=\"#m951738df35\" x=\"147.54634\" y=\"90.15233\" style=\"fill: #1f77b4; stroke: #1f77b4\"/>\n     <use xlink:href=\"#m951738df35\" x=\"103.218409\" y=\"35.74794\" style=\"fill: #1f77b4; stroke: #1f77b4\"/>\n     <use xlink:href=\"#m951738df35\" x=\"189.031672\" y=\"95.151783\" style=\"fill: #1f77b4; stroke: #1f77b4\"/>\n     <use xlink:href=\"#m951738df35\" x=\"127.691307\" y=\"70.375799\" style=\"fill: #1f77b4; stroke: #1f77b4\"/>\n     <use xlink:href=\"#m951738df35\" x=\"119.090636\" y=\"72.977979\" style=\"fill: #1f77b4; stroke: #1f77b4\"/>\n     <use xlink:href=\"#m951738df35\" x=\"163.551349\" y=\"74.297442\" style=\"fill: #1f77b4; stroke: #1f77b4\"/>\n     <use xlink:href=\"#m951738df35\" x=\"127.74938\" y=\"78.827978\" style=\"fill: #1f77b4; stroke: #1f77b4\"/>\n     <use xlink:href=\"#m951738df35\" x=\"117.29787\" y=\"62.598914\" style=\"fill: #1f77b4; stroke: #1f77b4\"/>\n     <use xlink:href=\"#m951738df35\" x=\"151.968668\" y=\"76.510259\" style=\"fill: #1f77b4; stroke: #1f77b4\"/>\n     <use xlink:href=\"#m951738df35\" x=\"94.719934\" y=\"58.426568\" style=\"fill: #1f77b4; stroke: #1f77b4\"/>\n     <use xlink:href=\"#m951738df35\" x=\"155.495249\" y=\"62.741915\" style=\"fill: #1f77b4; stroke: #1f77b4\"/>\n     <use xlink:href=\"#m951738df35\" x=\"159.910448\" y=\"105.027664\" style=\"fill: #1f77b4; stroke: #1f77b4\"/>\n     <use xlink:href=\"#m951738df35\" x=\"124.380019\" y=\"64.329947\" style=\"fill: #1f77b4; stroke: #1f77b4\"/>\n     <use xlink:href=\"#m951738df35\" x=\"144.020902\" y=\"78.754048\" style=\"fill: #1f77b4; stroke: #1f77b4\"/>\n     <use xlink:href=\"#m951738df35\" x=\"98.644125\" y=\"57.33448\" style=\"fill: #1f77b4; stroke: #1f77b4\"/>\n     <use xlink:href=\"#m951738df35\" x=\"105.809054\" y=\"55.644756\" style=\"fill: #1f77b4; stroke: #1f77b4\"/>\n     <use xlink:href=\"#m951738df35\" x=\"173.828105\" y=\"81.971726\" style=\"fill: #1f77b4; stroke: #1f77b4\"/>\n     <use xlink:href=\"#m951738df35\" x=\"84.848014\" y=\"46.483181\" style=\"fill: #1f77b4; stroke: #1f77b4\"/>\n     <use xlink:href=\"#m951738df35\" x=\"105.092851\" y=\"59.819494\" style=\"fill: #1f77b4; stroke: #1f77b4\"/>\n     <use xlink:href=\"#m951738df35\" x=\"118.580337\" y=\"81.408871\" style=\"fill: #1f77b4; stroke: #1f77b4\"/>\n     <use xlink:href=\"#m951738df35\" x=\"106.633676\" y=\"54.085159\" style=\"fill: #1f77b4; stroke: #1f77b4\"/>\n     <use xlink:href=\"#m951738df35\" x=\"124.957193\" y=\"64.276293\" style=\"fill: #1f77b4; stroke: #1f77b4\"/>\n     <use xlink:href=\"#m951738df35\" x=\"144.864055\" y=\"86.677991\" style=\"fill: #1f77b4; stroke: #1f77b4\"/>\n     <use xlink:href=\"#m951738df35\" x=\"150.915235\" y=\"70.498162\" style=\"fill: #1f77b4; stroke: #1f77b4\"/>\n     <use xlink:href=\"#m951738df35\" x=\"142.678152\" y=\"87.499006\" style=\"fill: #1f77b4; stroke: #1f77b4\"/>\n     <use xlink:href=\"#m951738df35\" x=\"107.631994\" y=\"68.013708\" style=\"fill: #1f77b4; stroke: #1f77b4\"/>\n     <use xlink:href=\"#m951738df35\" x=\"106.743568\" y=\"44.04306\" style=\"fill: #1f77b4; stroke: #1f77b4\"/>\n     <use xlink:href=\"#m951738df35\" x=\"148.62695\" y=\"66.414653\" style=\"fill: #1f77b4; stroke: #1f77b4\"/>\n     <use xlink:href=\"#m951738df35\" x=\"198.781088\" y=\"118.988499\" style=\"fill: #1f77b4; stroke: #1f77b4\"/>\n     <use xlink:href=\"#m951738df35\" x=\"138.514819\" y=\"75.031974\" style=\"fill: #1f77b4; stroke: #1f77b4\"/>\n     <use xlink:href=\"#m951738df35\" x=\"152.915539\" y=\"103.293687\" style=\"fill: #1f77b4; stroke: #1f77b4\"/>\n     <use xlink:href=\"#m951738df35\" x=\"113.189159\" y=\"77.842002\" style=\"fill: #1f77b4; stroke: #1f77b4\"/>\n     <use xlink:href=\"#m951738df35\" x=\"96.279244\" y=\"54.566439\" style=\"fill: #1f77b4; stroke: #1f77b4\"/>\n     <use xlink:href=\"#m951738df35\" x=\"85.243683\" y=\"50.377876\" style=\"fill: #1f77b4; stroke: #1f77b4\"/>\n     <use xlink:href=\"#m951738df35\" x=\"163.307229\" y=\"99.657384\" style=\"fill: #1f77b4; stroke: #1f77b4\"/>\n     <use xlink:href=\"#m951738df35\" x=\"136.012532\" y=\"79.379144\" style=\"fill: #1f77b4; stroke: #1f77b4\"/>\n     <use xlink:href=\"#m951738df35\" x=\"120.930869\" y=\"53.962788\" style=\"fill: #1f77b4; stroke: #1f77b4\"/>\n     <use xlink:href=\"#m951738df35\" x=\"137.412862\" y=\"54.400275\" style=\"fill: #1f77b4; stroke: #1f77b4\"/>\n     <use xlink:href=\"#m951738df35\" x=\"137.856679\" y=\"65.078038\" style=\"fill: #1f77b4; stroke: #1f77b4\"/>\n     <use xlink:href=\"#m951738df35\" x=\"132.66254\" y=\"77.351907\" style=\"fill: #1f77b4; stroke: #1f77b4\"/>\n     <use xlink:href=\"#m951738df35\" x=\"130.170395\" y=\"68.664363\" style=\"fill: #1f77b4; stroke: #1f77b4\"/>\n     <use xlink:href=\"#m951738df35\" x=\"101.585222\" y=\"51.490418\" style=\"fill: #1f77b4; stroke: #1f77b4\"/>\n     <use xlink:href=\"#m951738df35\" x=\"92.073312\" y=\"38.898885\" style=\"fill: #1f77b4; stroke: #1f77b4\"/>\n     <use xlink:href=\"#m951738df35\" x=\"106.881216\" y=\"48.358047\" style=\"fill: #1f77b4; stroke: #1f77b4\"/>\n     <use xlink:href=\"#m951738df35\" x=\"118.751151\" y=\"51.568628\" style=\"fill: #1f77b4; stroke: #1f77b4\"/>\n     <use xlink:href=\"#m951738df35\" x=\"147.014934\" y=\"86.706973\" style=\"fill: #1f77b4; stroke: #1f77b4\"/>\n     <use xlink:href=\"#m951738df35\" x=\"164.604109\" y=\"78.793091\" style=\"fill: #1f77b4; stroke: #1f77b4\"/>\n     <use xlink:href=\"#m951738df35\" x=\"150.344092\" y=\"72.498691\" style=\"fill: #1f77b4; stroke: #1f77b4\"/>\n     <use xlink:href=\"#m951738df35\" x=\"75.37198\" y=\"43.037347\" style=\"fill: #1f77b4; stroke: #1f77b4\"/>\n     <use xlink:href=\"#m951738df35\" x=\"94.60805\" y=\"53.469989\" style=\"fill: #1f77b4; stroke: #1f77b4\"/>\n     <use xlink:href=\"#m951738df35\" x=\"112.278718\" y=\"53.960951\" style=\"fill: #1f77b4; stroke: #1f77b4\"/>\n     <use xlink:href=\"#m951738df35\" x=\"149.629561\" y=\"77.4632\" style=\"fill: #1f77b4; stroke: #1f77b4\"/>\n     <use xlink:href=\"#m951738df35\" x=\"118.307724\" y=\"68.615007\" style=\"fill: #1f77b4; stroke: #1f77b4\"/>\n     <use xlink:href=\"#m951738df35\" x=\"125.084271\" y=\"84.372895\" style=\"fill: #1f77b4; stroke: #1f77b4\"/>\n     <use xlink:href=\"#m951738df35\" x=\"147.591128\" y=\"100.787677\" style=\"fill: #1f77b4; stroke: #1f77b4\"/>\n     <use xlink:href=\"#m951738df35\" x=\"107.937089\" y=\"57.541553\" style=\"fill: #1f77b4; stroke: #1f77b4\"/>\n     <use xlink:href=\"#m951738df35\" x=\"129.290881\" y=\"71.932638\" style=\"fill: #1f77b4; stroke: #1f77b4\"/>\n     <use xlink:href=\"#m951738df35\" x=\"37.81946\" y=\"19.362742\" style=\"fill: #1f77b4; stroke: #1f77b4\"/>\n     <use xlink:href=\"#m951738df35\" x=\"107.800181\" y=\"55.243129\" style=\"fill: #1f77b4; stroke: #1f77b4\"/>\n     <use xlink:href=\"#m951738df35\" x=\"124.822565\" y=\"80.154992\" style=\"fill: #1f77b4; stroke: #1f77b4\"/>\n     <use xlink:href=\"#m951738df35\" x=\"138.780684\" y=\"87.539966\" style=\"fill: #1f77b4; stroke: #1f77b4\"/>\n     <use xlink:href=\"#m951738df35\" x=\"146.248114\" y=\"89.183912\" style=\"fill: #1f77b4; stroke: #1f77b4\"/>\n     <use xlink:href=\"#m951738df35\" x=\"136.64854\" y=\"85.958407\" style=\"fill: #1f77b4; stroke: #1f77b4\"/>\n     <use xlink:href=\"#m951738df35\" x=\"164.433512\" y=\"87.866386\" style=\"fill: #1f77b4; stroke: #1f77b4\"/>\n     <use xlink:href=\"#m951738df35\" x=\"155.479301\" y=\"100.721048\" style=\"fill: #1f77b4; stroke: #1f77b4\"/>\n     <use xlink:href=\"#m951738df35\" x=\"81.32096\" y=\"33.778738\" style=\"fill: #1f77b4; stroke: #1f77b4\"/>\n     <use xlink:href=\"#m951738df35\" x=\"117.349575\" y=\"65.299201\" style=\"fill: #1f77b4; stroke: #1f77b4\"/>\n     <use xlink:href=\"#m951738df35\" x=\"105.860533\" y=\"41.315295\" style=\"fill: #1f77b4; stroke: #1f77b4\"/>\n     <use xlink:href=\"#m951738df35\" x=\"139.700276\" y=\"103.752134\" style=\"fill: #1f77b4; stroke: #1f77b4\"/>\n     <use xlink:href=\"#m951738df35\" x=\"144.843893\" y=\"72.611323\" style=\"fill: #1f77b4; stroke: #1f77b4\"/>\n     <use xlink:href=\"#m951738df35\" x=\"150.328773\" y=\"82.19807\" style=\"fill: #1f77b4; stroke: #1f77b4\"/>\n     <use xlink:href=\"#m951738df35\" x=\"135.188922\" y=\"76.081352\" style=\"fill: #1f77b4; stroke: #1f77b4\"/>\n     <use xlink:href=\"#m951738df35\" x=\"110.768812\" y=\"61.633492\" style=\"fill: #1f77b4; stroke: #1f77b4\"/>\n     <use xlink:href=\"#m951738df35\" x=\"173.499653\" y=\"92.053124\" style=\"fill: #1f77b4; stroke: #1f77b4\"/>\n     <use xlink:href=\"#m951738df35\" x=\"135.662612\" y=\"76.083085\" style=\"fill: #1f77b4; stroke: #1f77b4\"/>\n     <use xlink:href=\"#m951738df35\" x=\"95.084569\" y=\"49.900649\" style=\"fill: #1f77b4; stroke: #1f77b4\"/>\n     <use xlink:href=\"#m951738df35\" x=\"121.323027\" y=\"48.30663\" style=\"fill: #1f77b4; stroke: #1f77b4\"/>\n     <use xlink:href=\"#m951738df35\" x=\"111.714022\" y=\"49.584196\" style=\"fill: #1f77b4; stroke: #1f77b4\"/>\n     <use xlink:href=\"#m951738df35\" x=\"97.571121\" y=\"60.533231\" style=\"fill: #1f77b4; stroke: #1f77b4\"/>\n     <use xlink:href=\"#m951738df35\" x=\"97.416872\" y=\"70.088157\" style=\"fill: #1f77b4; stroke: #1f77b4\"/>\n     <use xlink:href=\"#m951738df35\" x=\"121.896774\" y=\"50.353463\" style=\"fill: #1f77b4; stroke: #1f77b4\"/>\n     <use xlink:href=\"#m951738df35\" x=\"131.794224\" y=\"72.415693\" style=\"fill: #1f77b4; stroke: #1f77b4\"/>\n     <use xlink:href=\"#m951738df35\" x=\"168.979979\" y=\"100.211857\" style=\"fill: #1f77b4; stroke: #1f77b4\"/>\n     <use xlink:href=\"#m951738df35\" x=\"138.457626\" y=\"73.447069\" style=\"fill: #1f77b4; stroke: #1f77b4\"/>\n     <use xlink:href=\"#m951738df35\" x=\"189.283953\" y=\"136.922727\" style=\"fill: #1f77b4; stroke: #1f77b4\"/>\n     <use xlink:href=\"#m951738df35\" x=\"124.58718\" y=\"69.12499\" style=\"fill: #1f77b4; stroke: #1f77b4\"/>\n     <use xlink:href=\"#m951738df35\" x=\"132.435792\" y=\"49.673237\" style=\"fill: #1f77b4; stroke: #1f77b4\"/>\n     <use xlink:href=\"#m951738df35\" x=\"105.192054\" y=\"56.926811\" style=\"fill: #1f77b4; stroke: #1f77b4\"/>\n     <use xlink:href=\"#m951738df35\" x=\"148.213391\" y=\"76.199964\" style=\"fill: #1f77b4; stroke: #1f77b4\"/>\n     <use xlink:href=\"#m951738df35\" x=\"175.245331\" y=\"94.324657\" style=\"fill: #1f77b4; stroke: #1f77b4\"/>\n     <use xlink:href=\"#m951738df35\" x=\"94.696423\" y=\"39.380645\" style=\"fill: #1f77b4; stroke: #1f77b4\"/>\n     <use xlink:href=\"#m951738df35\" x=\"133.951411\" y=\"70.971016\" style=\"fill: #1f77b4; stroke: #1f77b4\"/>\n     <use xlink:href=\"#m951738df35\" x=\"126.998606\" y=\"56.135596\" style=\"fill: #1f77b4; stroke: #1f77b4\"/>\n     <use xlink:href=\"#m951738df35\" x=\"105.112768\" y=\"33.521972\" style=\"fill: #1f77b4; stroke: #1f77b4\"/>\n     <use xlink:href=\"#m951738df35\" x=\"132.473202\" y=\"82.993394\" style=\"fill: #1f77b4; stroke: #1f77b4\"/>\n     <use xlink:href=\"#m951738df35\" x=\"165.122768\" y=\"82.148691\" style=\"fill: #1f77b4; stroke: #1f77b4\"/>\n     <use xlink:href=\"#m951738df35\" x=\"147.418128\" y=\"87.200924\" style=\"fill: #1f77b4; stroke: #1f77b4\"/>\n     <use xlink:href=\"#m951738df35\" x=\"62.714364\" y=\"32.410435\" style=\"fill: #1f77b4; stroke: #1f77b4\"/>\n     <use xlink:href=\"#m951738df35\" x=\"81.492644\" y=\"44.123734\" style=\"fill: #1f77b4; stroke: #1f77b4\"/>\n     <use xlink:href=\"#m951738df35\" x=\"212.283383\" y=\"114.658042\" style=\"fill: #1f77b4; stroke: #1f77b4\"/>\n     <use xlink:href=\"#m951738df35\" x=\"156.745909\" y=\"97.83715\" style=\"fill: #1f77b4; stroke: #1f77b4\"/>\n     <use xlink:href=\"#m951738df35\" x=\"132.4849\" y=\"81.871936\" style=\"fill: #1f77b4; stroke: #1f77b4\"/>\n     <use xlink:href=\"#m951738df35\" x=\"149.58869\" y=\"71.278622\" style=\"fill: #1f77b4; stroke: #1f77b4\"/>\n     <use xlink:href=\"#m951738df35\" x=\"116.377035\" y=\"57.667538\" style=\"fill: #1f77b4; stroke: #1f77b4\"/>\n     <use xlink:href=\"#m951738df35\" x=\"71.834455\" y=\"30.037459\" style=\"fill: #1f77b4; stroke: #1f77b4\"/>\n     <use xlink:href=\"#m951738df35\" x=\"81.892108\" y=\"49.84211\" style=\"fill: #1f77b4; stroke: #1f77b4\"/>\n     <use xlink:href=\"#m951738df35\" x=\"116.785506\" y=\"50.714994\" style=\"fill: #1f77b4; stroke: #1f77b4\"/>\n     <use xlink:href=\"#m951738df35\" x=\"122.843946\" y=\"64.450647\" style=\"fill: #1f77b4; stroke: #1f77b4\"/>\n     <use xlink:href=\"#m951738df35\" x=\"89.111713\" y=\"42.587293\" style=\"fill: #1f77b4; stroke: #1f77b4\"/>\n     <use xlink:href=\"#m951738df35\" x=\"140.030978\" y=\"65.042483\" style=\"fill: #1f77b4; stroke: #1f77b4\"/>\n     <use xlink:href=\"#m951738df35\" x=\"163.41515\" y=\"84.396717\" style=\"fill: #1f77b4; stroke: #1f77b4\"/>\n     <use xlink:href=\"#m951738df35\" x=\"125.814946\" y=\"69.240071\" style=\"fill: #1f77b4; stroke: #1f77b4\"/>\n     <use xlink:href=\"#m951738df35\" x=\"101.965854\" y=\"61.940859\" style=\"fill: #1f77b4; stroke: #1f77b4\"/>\n     <use xlink:href=\"#m951738df35\" x=\"155.691808\" y=\"79.017346\" style=\"fill: #1f77b4; stroke: #1f77b4\"/>\n     <use xlink:href=\"#m951738df35\" x=\"133.71617\" y=\"63.602441\" style=\"fill: #1f77b4; stroke: #1f77b4\"/>\n     <use xlink:href=\"#m951738df35\" x=\"125.117534\" y=\"54.832308\" style=\"fill: #1f77b4; stroke: #1f77b4\"/>\n     <use xlink:href=\"#m951738df35\" x=\"116.040318\" y=\"66.040374\" style=\"fill: #1f77b4; stroke: #1f77b4\"/>\n     <use xlink:href=\"#m951738df35\" x=\"169.677079\" y=\"83.6294\" style=\"fill: #1f77b4; stroke: #1f77b4\"/>\n     <use xlink:href=\"#m951738df35\" x=\"126.102399\" y=\"53.266548\" style=\"fill: #1f77b4; stroke: #1f77b4\"/>\n     <use xlink:href=\"#m951738df35\" x=\"146.395249\" y=\"83.99488\" style=\"fill: #1f77b4; stroke: #1f77b4\"/>\n     <use xlink:href=\"#m951738df35\" x=\"111.358509\" y=\"69.003744\" style=\"fill: #1f77b4; stroke: #1f77b4\"/>\n     <use xlink:href=\"#m951738df35\" x=\"121.992196\" y=\"45.810214\" style=\"fill: #1f77b4; stroke: #1f77b4\"/>\n     <use xlink:href=\"#m951738df35\" x=\"139.006585\" y=\"92.862372\" style=\"fill: #1f77b4; stroke: #1f77b4\"/>\n     <use xlink:href=\"#m951738df35\" x=\"107.518221\" y=\"86.776146\" style=\"fill: #1f77b4; stroke: #1f77b4\"/>\n     <use xlink:href=\"#m951738df35\" x=\"130.01146\" y=\"85.472928\" style=\"fill: #1f77b4; stroke: #1f77b4\"/>\n     <use xlink:href=\"#m951738df35\" x=\"169.513879\" y=\"90.206994\" style=\"fill: #1f77b4; stroke: #1f77b4\"/>\n     <use xlink:href=\"#m951738df35\" x=\"105.653175\" y=\"49.307022\" style=\"fill: #1f77b4; stroke: #1f77b4\"/>\n     <use xlink:href=\"#m951738df35\" x=\"116.357218\" y=\"59.025087\" style=\"fill: #1f77b4; stroke: #1f77b4\"/>\n     <use xlink:href=\"#m951738df35\" x=\"87.65935\" y=\"28.602618\" style=\"fill: #1f77b4; stroke: #1f77b4\"/>\n     <use xlink:href=\"#m951738df35\" x=\"139.043109\" y=\"70.060456\" style=\"fill: #1f77b4; stroke: #1f77b4\"/>\n     <use xlink:href=\"#m951738df35\" x=\"69.90504\" y=\"32.235899\" style=\"fill: #1f77b4; stroke: #1f77b4\"/>\n     <use xlink:href=\"#m951738df35\" x=\"103.252456\" y=\"60.58093\" style=\"fill: #1f77b4; stroke: #1f77b4\"/>\n     <use xlink:href=\"#m951738df35\" x=\"128.683792\" y=\"73.278169\" style=\"fill: #1f77b4; stroke: #1f77b4\"/>\n     <use xlink:href=\"#m951738df35\" x=\"82.389571\" y=\"45.018665\" style=\"fill: #1f77b4; stroke: #1f77b4\"/>\n     <use xlink:href=\"#m951738df35\" x=\"125.065359\" y=\"58.895097\" style=\"fill: #1f77b4; stroke: #1f77b4\"/>\n     <use xlink:href=\"#m951738df35\" x=\"108.86104\" y=\"68.407307\" style=\"fill: #1f77b4; stroke: #1f77b4\"/>\n     <use xlink:href=\"#m951738df35\" x=\"96.603219\" y=\"69.580398\" style=\"fill: #1f77b4; stroke: #1f77b4\"/>\n     <use xlink:href=\"#m951738df35\" x=\"119.031077\" y=\"55.438451\" style=\"fill: #1f77b4; stroke: #1f77b4\"/>\n     <use xlink:href=\"#m951738df35\" x=\"131.653933\" y=\"65.411488\" style=\"fill: #1f77b4; stroke: #1f77b4\"/>\n     <use xlink:href=\"#m951738df35\" x=\"180.324658\" y=\"120.53396\" style=\"fill: #1f77b4; stroke: #1f77b4\"/>\n     <use xlink:href=\"#m951738df35\" x=\"134.236273\" y=\"78.696826\" style=\"fill: #1f77b4; stroke: #1f77b4\"/>\n     <use xlink:href=\"#m951738df35\" x=\"149.860899\" y=\"84.01263\" style=\"fill: #1f77b4; stroke: #1f77b4\"/>\n     <use xlink:href=\"#m951738df35\" x=\"152.263913\" y=\"69.305877\" style=\"fill: #1f77b4; stroke: #1f77b4\"/>\n     <use xlink:href=\"#m951738df35\" x=\"127.72578\" y=\"80.929965\" style=\"fill: #1f77b4; stroke: #1f77b4\"/>\n     <use xlink:href=\"#m951738df35\" x=\"102.170911\" y=\"59.997952\" style=\"fill: #1f77b4; stroke: #1f77b4\"/>\n     <use xlink:href=\"#m951738df35\" x=\"89.746489\" y=\"63.960453\" style=\"fill: #1f77b4; stroke: #1f77b4\"/>\n     <use xlink:href=\"#m951738df35\" x=\"147.742903\" y=\"73.047148\" style=\"fill: #1f77b4; stroke: #1f77b4\"/>\n     <use xlink:href=\"#m951738df35\" x=\"108.81623\" y=\"76.087095\" style=\"fill: #1f77b4; stroke: #1f77b4\"/>\n     <use xlink:href=\"#m951738df35\" x=\"152.630336\" y=\"66.126927\" style=\"fill: #1f77b4; stroke: #1f77b4\"/>\n     <use xlink:href=\"#m951738df35\" x=\"155.836328\" y=\"82.288507\" style=\"fill: #1f77b4; stroke: #1f77b4\"/>\n     <use xlink:href=\"#m951738df35\" x=\"105.009394\" y=\"66.177008\" style=\"fill: #1f77b4; stroke: #1f77b4\"/>\n     <use xlink:href=\"#m951738df35\" x=\"154.410578\" y=\"80.002424\" style=\"fill: #1f77b4; stroke: #1f77b4\"/>\n     <use xlink:href=\"#m951738df35\" x=\"72.231243\" y=\"22.779059\" style=\"fill: #1f77b4; stroke: #1f77b4\"/>\n     <use xlink:href=\"#m951738df35\" x=\"130.792524\" y=\"71.196807\" style=\"fill: #1f77b4; stroke: #1f77b4\"/>\n     <use xlink:href=\"#m951738df35\" x=\"95.202846\" y=\"41.378828\" style=\"fill: #1f77b4; stroke: #1f77b4\"/>\n     <use xlink:href=\"#m951738df35\" x=\"100.199058\" y=\"58.506903\" style=\"fill: #1f77b4; stroke: #1f77b4\"/>\n     <use xlink:href=\"#m951738df35\" x=\"132.367267\" y=\"90.175595\" style=\"fill: #1f77b4; stroke: #1f77b4\"/>\n     <use xlink:href=\"#m951738df35\" x=\"96.622484\" y=\"65.533219\" style=\"fill: #1f77b4; stroke: #1f77b4\"/>\n     <use xlink:href=\"#m951738df35\" x=\"198.670776\" y=\"95.41446\" style=\"fill: #1f77b4; stroke: #1f77b4\"/>\n     <use xlink:href=\"#m951738df35\" x=\"122.447664\" y=\"67.330979\" style=\"fill: #1f77b4; stroke: #1f77b4\"/>\n     <use xlink:href=\"#m951738df35\" x=\"175.414595\" y=\"81.441424\" style=\"fill: #1f77b4; stroke: #1f77b4\"/>\n     <use xlink:href=\"#m951738df35\" x=\"160.813119\" y=\"76.962437\" style=\"fill: #1f77b4; stroke: #1f77b4\"/>\n     <use xlink:href=\"#m951738df35\" x=\"160.4724\" y=\"100.861073\" style=\"fill: #1f77b4; stroke: #1f77b4\"/>\n     <use xlink:href=\"#m951738df35\" x=\"137.665691\" y=\"72.703718\" style=\"fill: #1f77b4; stroke: #1f77b4\"/>\n     <use xlink:href=\"#m951738df35\" x=\"139.108513\" y=\"50.058908\" style=\"fill: #1f77b4; stroke: #1f77b4\"/>\n     <use xlink:href=\"#m951738df35\" x=\"90.190654\" y=\"45.478402\" style=\"fill: #1f77b4; stroke: #1f77b4\"/>\n     <use xlink:href=\"#m951738df35\" x=\"127.080055\" y=\"62.303507\" style=\"fill: #1f77b4; stroke: #1f77b4\"/>\n     <use xlink:href=\"#m951738df35\" x=\"155.333995\" y=\"80.916155\" style=\"fill: #1f77b4; stroke: #1f77b4\"/>\n     <use xlink:href=\"#m951738df35\" x=\"122.822486\" y=\"67.614908\" style=\"fill: #1f77b4; stroke: #1f77b4\"/>\n     <use xlink:href=\"#m951738df35\" x=\"71.059898\" y=\"26.439413\" style=\"fill: #1f77b4; stroke: #1f77b4\"/>\n     <use xlink:href=\"#m951738df35\" x=\"133.751769\" y=\"65.43847\" style=\"fill: #1f77b4; stroke: #1f77b4\"/>\n     <use xlink:href=\"#m951738df35\" x=\"104.242885\" y=\"59.050536\" style=\"fill: #1f77b4; stroke: #1f77b4\"/>\n     <use xlink:href=\"#m951738df35\" x=\"140.180092\" y=\"63.329047\" style=\"fill: #1f77b4; stroke: #1f77b4\"/>\n     <use xlink:href=\"#m951738df35\" x=\"182.079709\" y=\"98.287895\" style=\"fill: #1f77b4; stroke: #1f77b4\"/>\n     <use xlink:href=\"#m951738df35\" x=\"158.223617\" y=\"107.693035\" style=\"fill: #1f77b4; stroke: #1f77b4\"/>\n     <use xlink:href=\"#m951738df35\" x=\"109.5652\" y=\"69.051065\" style=\"fill: #1f77b4; stroke: #1f77b4\"/>\n     <use xlink:href=\"#m951738df35\" x=\"137.932395\" y=\"89.847298\" style=\"fill: #1f77b4; stroke: #1f77b4\"/>\n     <use xlink:href=\"#m951738df35\" x=\"140.157505\" y=\"75.675358\" style=\"fill: #1f77b4; stroke: #1f77b4\"/>\n     <use xlink:href=\"#m951738df35\" x=\"142.721692\" y=\"67.063796\" style=\"fill: #1f77b4; stroke: #1f77b4\"/>\n     <use xlink:href=\"#m951738df35\" x=\"102.939267\" y=\"55.134981\" style=\"fill: #1f77b4; stroke: #1f77b4\"/>\n     <use xlink:href=\"#m951738df35\" x=\"181.81151\" y=\"100.895639\" style=\"fill: #1f77b4; stroke: #1f77b4\"/>\n     <use xlink:href=\"#m951738df35\" x=\"144.222172\" y=\"71.608755\" style=\"fill: #1f77b4; stroke: #1f77b4\"/>\n     <use xlink:href=\"#m951738df35\" x=\"67.111549\" y=\"33.845266\" style=\"fill: #1f77b4; stroke: #1f77b4\"/>\n     <use xlink:href=\"#m951738df35\" x=\"117.574122\" y=\"56.374014\" style=\"fill: #1f77b4; stroke: #1f77b4\"/>\n     <use xlink:href=\"#m951738df35\" x=\"112.228119\" y=\"59.750311\" style=\"fill: #1f77b4; stroke: #1f77b4\"/>\n     <use xlink:href=\"#m951738df35\" x=\"109.786282\" y=\"58.023328\" style=\"fill: #1f77b4; stroke: #1f77b4\"/>\n     <use xlink:href=\"#m951738df35\" x=\"105.376321\" y=\"53.218169\" style=\"fill: #1f77b4; stroke: #1f77b4\"/>\n     <use xlink:href=\"#m951738df35\" x=\"152.760679\" y=\"92.059861\" style=\"fill: #1f77b4; stroke: #1f77b4\"/>\n     <use xlink:href=\"#m951738df35\" x=\"148.404921\" y=\"87.607361\" style=\"fill: #1f77b4; stroke: #1f77b4\"/>\n     <use xlink:href=\"#m951738df35\" x=\"122.753107\" y=\"58.734917\" style=\"fill: #1f77b4; stroke: #1f77b4\"/>\n     <use xlink:href=\"#m951738df35\" x=\"201.02518\" y=\"107.426909\" style=\"fill: #1f77b4; stroke: #1f77b4\"/>\n     <use xlink:href=\"#m951738df35\" x=\"85.738975\" y=\"44.63898\" style=\"fill: #1f77b4; stroke: #1f77b4\"/>\n     <use xlink:href=\"#m951738df35\" x=\"136.184547\" y=\"86.738209\" style=\"fill: #1f77b4; stroke: #1f77b4\"/>\n     <use xlink:href=\"#m951738df35\" x=\"105.473918\" y=\"61.925508\" style=\"fill: #1f77b4; stroke: #1f77b4\"/>\n     <use xlink:href=\"#m951738df35\" x=\"153.34982\" y=\"77.819554\" style=\"fill: #1f77b4; stroke: #1f77b4\"/>\n     <use xlink:href=\"#m951738df35\" x=\"114.872462\" y=\"56.744363\" style=\"fill: #1f77b4; stroke: #1f77b4\"/>\n     <use xlink:href=\"#m951738df35\" x=\"208.263417\" y=\"121.5054\" style=\"fill: #1f77b4; stroke: #1f77b4\"/>\n     <use xlink:href=\"#m951738df35\" x=\"112.465421\" y=\"56.491656\" style=\"fill: #1f77b4; stroke: #1f77b4\"/>\n     <use xlink:href=\"#m951738df35\" x=\"97.064771\" y=\"58.882224\" style=\"fill: #1f77b4; stroke: #1f77b4\"/>\n     <use xlink:href=\"#m951738df35\" x=\"98.991855\" y=\"57.532689\" style=\"fill: #1f77b4; stroke: #1f77b4\"/>\n     <use xlink:href=\"#m951738df35\" x=\"65.680216\" y=\"20.647167\" style=\"fill: #1f77b4; stroke: #1f77b4\"/>\n     <use xlink:href=\"#m951738df35\" x=\"117.467494\" y=\"77.03999\" style=\"fill: #1f77b4; stroke: #1f77b4\"/>\n     <use xlink:href=\"#m951738df35\" x=\"120.387741\" y=\"93.317123\" style=\"fill: #1f77b4; stroke: #1f77b4\"/>\n     <use xlink:href=\"#m951738df35\" x=\"84.558013\" y=\"39.170389\" style=\"fill: #1f77b4; stroke: #1f77b4\"/>\n     <use xlink:href=\"#m951738df35\" x=\"104.189274\" y=\"62.736025\" style=\"fill: #1f77b4; stroke: #1f77b4\"/>\n     <use xlink:href=\"#m951738df35\" x=\"127.091786\" y=\"69.362998\" style=\"fill: #1f77b4; stroke: #1f77b4\"/>\n     <use xlink:href=\"#m951738df35\" x=\"142.409911\" y=\"67.906613\" style=\"fill: #1f77b4; stroke: #1f77b4\"/>\n     <use xlink:href=\"#m951738df35\" x=\"87.931106\" y=\"37.669826\" style=\"fill: #1f77b4; stroke: #1f77b4\"/>\n     <use xlink:href=\"#m951738df35\" x=\"130.492718\" y=\"45.636704\" style=\"fill: #1f77b4; stroke: #1f77b4\"/>\n     <use xlink:href=\"#m951738df35\" x=\"104.180246\" y=\"82.354931\" style=\"fill: #1f77b4; stroke: #1f77b4\"/>\n     <use xlink:href=\"#m951738df35\" x=\"128.529411\" y=\"72.240405\" style=\"fill: #1f77b4; stroke: #1f77b4\"/>\n     <use xlink:href=\"#m951738df35\" x=\"150.225623\" y=\"97.256547\" style=\"fill: #1f77b4; stroke: #1f77b4\"/>\n     <use xlink:href=\"#m951738df35\" x=\"129.970805\" y=\"76.760138\" style=\"fill: #1f77b4; stroke: #1f77b4\"/>\n     <use xlink:href=\"#m951738df35\" x=\"159.713204\" y=\"107.284727\" style=\"fill: #1f77b4; stroke: #1f77b4\"/>\n     <use xlink:href=\"#m951738df35\" x=\"88.718308\" y=\"66.949397\" style=\"fill: #1f77b4; stroke: #1f77b4\"/>\n     <use xlink:href=\"#m951738df35\" x=\"154.394953\" y=\"83.788686\" style=\"fill: #1f77b4; stroke: #1f77b4\"/>\n     <use xlink:href=\"#m951738df35\" x=\"79.916375\" y=\"17.036444\" style=\"fill: #1f77b4; stroke: #1f77b4\"/>\n     <use xlink:href=\"#m951738df35\" x=\"99.485492\" y=\"63.010274\" style=\"fill: #1f77b4; stroke: #1f77b4\"/>\n     <use xlink:href=\"#m951738df35\" x=\"148.477117\" y=\"74.192154\" style=\"fill: #1f77b4; stroke: #1f77b4\"/>\n     <use xlink:href=\"#m951738df35\" x=\"145.789532\" y=\"85.622647\" style=\"fill: #1f77b4; stroke: #1f77b4\"/>\n     <use xlink:href=\"#m951738df35\" x=\"152.061364\" y=\"74.714547\" style=\"fill: #1f77b4; stroke: #1f77b4\"/>\n     <use xlink:href=\"#m951738df35\" x=\"104.124076\" y=\"44.908662\" style=\"fill: #1f77b4; stroke: #1f77b4\"/>\n     <use xlink:href=\"#m951738df35\" x=\"66.134185\" y=\"37.316082\" style=\"fill: #1f77b4; stroke: #1f77b4\"/>\n     <use xlink:href=\"#m951738df35\" x=\"108.708707\" y=\"56.507322\" style=\"fill: #1f77b4; stroke: #1f77b4\"/>\n     <use xlink:href=\"#m951738df35\" x=\"138.552249\" y=\"75.465337\" style=\"fill: #1f77b4; stroke: #1f77b4\"/>\n     <use xlink:href=\"#m951738df35\" x=\"159.485466\" y=\"102.073842\" style=\"fill: #1f77b4; stroke: #1f77b4\"/>\n     <use xlink:href=\"#m951738df35\" x=\"72.031424\" y=\"41.686521\" style=\"fill: #1f77b4; stroke: #1f77b4\"/>\n     <use xlink:href=\"#m951738df35\" x=\"174.211365\" y=\"99.117838\" style=\"fill: #1f77b4; stroke: #1f77b4\"/>\n     <use xlink:href=\"#m951738df35\" x=\"100.335867\" y=\"38.893024\" style=\"fill: #1f77b4; stroke: #1f77b4\"/>\n     <use xlink:href=\"#m951738df35\" x=\"93.419844\" y=\"40.184392\" style=\"fill: #1f77b4; stroke: #1f77b4\"/>\n     <use xlink:href=\"#m951738df35\" x=\"109.575945\" y=\"63.680034\" style=\"fill: #1f77b4; stroke: #1f77b4\"/>\n     <use xlink:href=\"#m951738df35\" x=\"81.934797\" y=\"52.487706\" style=\"fill: #1f77b4; stroke: #1f77b4\"/>\n     <use xlink:href=\"#m951738df35\" x=\"113.650746\" y=\"63.149818\" style=\"fill: #1f77b4; stroke: #1f77b4\"/>\n     <use xlink:href=\"#m951738df35\" x=\"105.706672\" y=\"62.830945\" style=\"fill: #1f77b4; stroke: #1f77b4\"/>\n     <use xlink:href=\"#m951738df35\" x=\"97.345681\" y=\"58.471851\" style=\"fill: #1f77b4; stroke: #1f77b4\"/>\n     <use xlink:href=\"#m951738df35\" x=\"97.580555\" y=\"63.168235\" style=\"fill: #1f77b4; stroke: #1f77b4\"/>\n     <use xlink:href=\"#m951738df35\" x=\"165.113039\" y=\"92.584136\" style=\"fill: #1f77b4; stroke: #1f77b4\"/>\n     <use xlink:href=\"#m951738df35\" x=\"73.124911\" y=\"46.605208\" style=\"fill: #1f77b4; stroke: #1f77b4\"/>\n    </g>\n   </g>\n   <g id=\"matplotlib.axis_1\">\n    <g id=\"xtick_1\">\n     <g id=\"line2d_1\">\n      <defs>\n       <path id=\"mdf385ecdf7\" d=\"M 0 0 \nL 0 3.5 \n\" style=\"stroke: #000000; stroke-width: 0.8\"/>\n      </defs>\n      <g>\n       <use xlink:href=\"#mdf385ecdf7\" x=\"66.263512\" y=\"143.1\" style=\"stroke: #000000; stroke-width: 0.8\"/>\n      </g>\n     </g>\n     <g id=\"text_1\">\n      <!-- −2 -->\n      <g transform=\"translate(58.892419 157.698438)scale(0.1 -0.1)\">\n       <defs>\n        <path id=\"DejaVuSans-2212\" d=\"M 678 2272 \nL 4684 2272 \nL 4684 1741 \nL 678 1741 \nL 678 2272 \nz\n\" transform=\"scale(0.015625)\"/>\n        <path id=\"DejaVuSans-32\" d=\"M 1228 531 \nL 3431 531 \nL 3431 0 \nL 469 0 \nL 469 531 \nQ 828 903 1448 1529 \nQ 2069 2156 2228 2338 \nQ 2531 2678 2651 2914 \nQ 2772 3150 2772 3378 \nQ 2772 3750 2511 3984 \nQ 2250 4219 1831 4219 \nQ 1534 4219 1204 4116 \nQ 875 4013 500 3803 \nL 500 4441 \nQ 881 4594 1212 4672 \nQ 1544 4750 1819 4750 \nQ 2544 4750 2975 4387 \nQ 3406 4025 3406 3419 \nQ 3406 3131 3298 2873 \nQ 3191 2616 2906 2266 \nQ 2828 2175 2409 1742 \nQ 1991 1309 1228 531 \nz\n\" transform=\"scale(0.015625)\"/>\n       </defs>\n       <use xlink:href=\"#DejaVuSans-2212\"/>\n       <use xlink:href=\"#DejaVuSans-32\" x=\"83.789062\"/>\n      </g>\n     </g>\n    </g>\n    <g id=\"xtick_2\">\n     <g id=\"line2d_2\">\n      <g>\n       <use xlink:href=\"#mdf385ecdf7\" x=\"127.030853\" y=\"143.1\" style=\"stroke: #000000; stroke-width: 0.8\"/>\n      </g>\n     </g>\n     <g id=\"text_2\">\n      <!-- 0 -->\n      <g transform=\"translate(123.849603 157.698438)scale(0.1 -0.1)\">\n       <defs>\n        <path id=\"DejaVuSans-30\" d=\"M 2034 4250 \nQ 1547 4250 1301 3770 \nQ 1056 3291 1056 2328 \nQ 1056 1369 1301 889 \nQ 1547 409 2034 409 \nQ 2525 409 2770 889 \nQ 3016 1369 3016 2328 \nQ 3016 3291 2770 3770 \nQ 2525 4250 2034 4250 \nz\nM 2034 4750 \nQ 2819 4750 3233 4129 \nQ 3647 3509 3647 2328 \nQ 3647 1150 3233 529 \nQ 2819 -91 2034 -91 \nQ 1250 -91 836 529 \nQ 422 1150 422 2328 \nQ 422 3509 836 4129 \nQ 1250 4750 2034 4750 \nz\n\" transform=\"scale(0.015625)\"/>\n       </defs>\n       <use xlink:href=\"#DejaVuSans-30\"/>\n      </g>\n     </g>\n    </g>\n    <g id=\"xtick_3\">\n     <g id=\"line2d_3\">\n      <g>\n       <use xlink:href=\"#mdf385ecdf7\" x=\"187.798195\" y=\"143.1\" style=\"stroke: #000000; stroke-width: 0.8\"/>\n      </g>\n     </g>\n     <g id=\"text_3\">\n      <!-- 2 -->\n      <g transform=\"translate(184.616945 157.698438)scale(0.1 -0.1)\">\n       <use xlink:href=\"#DejaVuSans-32\"/>\n      </g>\n     </g>\n    </g>\n   </g>\n   <g id=\"matplotlib.axis_2\">\n    <g id=\"ytick_1\">\n     <g id=\"line2d_4\">\n      <defs>\n       <path id=\"mda72bf7cb7\" d=\"M 0 0 \nL -3.5 0 \n\" style=\"stroke: #000000; stroke-width: 0.8\"/>\n      </defs>\n      <g>\n       <use xlink:href=\"#mda72bf7cb7\" x=\"28.942188\" y=\"118.664295\" style=\"stroke: #000000; stroke-width: 0.8\"/>\n      </g>\n     </g>\n     <g id=\"text_4\">\n      <!-- −5 -->\n      <g transform=\"translate(7.2 122.463514)scale(0.1 -0.1)\">\n       <defs>\n        <path id=\"DejaVuSans-35\" d=\"M 691 4666 \nL 3169 4666 \nL 3169 4134 \nL 1269 4134 \nL 1269 2991 \nQ 1406 3038 1543 3061 \nQ 1681 3084 1819 3084 \nQ 2600 3084 3056 2656 \nQ 3513 2228 3513 1497 \nQ 3513 744 3044 326 \nQ 2575 -91 1722 -91 \nQ 1428 -91 1123 -41 \nQ 819 9 494 109 \nL 494 744 \nQ 775 591 1075 516 \nQ 1375 441 1709 441 \nQ 2250 441 2565 725 \nQ 2881 1009 2881 1497 \nQ 2881 1984 2565 2268 \nQ 2250 2553 1709 2553 \nQ 1456 2553 1204 2497 \nQ 953 2441 691 2322 \nL 691 4666 \nz\n\" transform=\"scale(0.015625)\"/>\n       </defs>\n       <use xlink:href=\"#DejaVuSans-2212\"/>\n       <use xlink:href=\"#DejaVuSans-35\" x=\"83.789062\"/>\n      </g>\n     </g>\n    </g>\n    <g id=\"ytick_2\">\n     <g id=\"line2d_5\">\n      <g>\n       <use xlink:href=\"#mda72bf7cb7\" x=\"28.942188\" y=\"91.918056\" style=\"stroke: #000000; stroke-width: 0.8\"/>\n      </g>\n     </g>\n     <g id=\"text_5\">\n      <!-- 0 -->\n      <g transform=\"translate(15.579688 95.717275)scale(0.1 -0.1)\">\n       <use xlink:href=\"#DejaVuSans-30\"/>\n      </g>\n     </g>\n    </g>\n    <g id=\"ytick_3\">\n     <g id=\"line2d_6\">\n      <g>\n       <use xlink:href=\"#mda72bf7cb7\" x=\"28.942188\" y=\"65.171818\" style=\"stroke: #000000; stroke-width: 0.8\"/>\n      </g>\n     </g>\n     <g id=\"text_6\">\n      <!-- 5 -->\n      <g transform=\"translate(15.579688 68.971036)scale(0.1 -0.1)\">\n       <use xlink:href=\"#DejaVuSans-35\"/>\n      </g>\n     </g>\n    </g>\n    <g id=\"ytick_4\">\n     <g id=\"line2d_7\">\n      <g>\n       <use xlink:href=\"#mda72bf7cb7\" x=\"28.942188\" y=\"38.425579\" style=\"stroke: #000000; stroke-width: 0.8\"/>\n      </g>\n     </g>\n     <g id=\"text_7\">\n      <!-- 10 -->\n      <g transform=\"translate(9.217188 42.224798)scale(0.1 -0.1)\">\n       <defs>\n        <path id=\"DejaVuSans-31\" d=\"M 794 531 \nL 1825 531 \nL 1825 4091 \nL 703 3866 \nL 703 4441 \nL 1819 4666 \nL 2450 4666 \nL 2450 531 \nL 3481 531 \nL 3481 0 \nL 794 0 \nL 794 531 \nz\n\" transform=\"scale(0.015625)\"/>\n       </defs>\n       <use xlink:href=\"#DejaVuSans-31\"/>\n       <use xlink:href=\"#DejaVuSans-30\" x=\"63.623047\"/>\n      </g>\n     </g>\n    </g>\n    <g id=\"ytick_5\">\n     <g id=\"line2d_8\">\n      <g>\n       <use xlink:href=\"#mda72bf7cb7\" x=\"28.942188\" y=\"11.67934\" style=\"stroke: #000000; stroke-width: 0.8\"/>\n      </g>\n     </g>\n     <g id=\"text_8\">\n      <!-- 15 -->\n      <g transform=\"translate(9.217188 15.478559)scale(0.1 -0.1)\">\n       <use xlink:href=\"#DejaVuSans-31\"/>\n       <use xlink:href=\"#DejaVuSans-35\" x=\"63.623047\"/>\n      </g>\n     </g>\n    </g>\n   </g>\n   <g id=\"patch_3\">\n    <path d=\"M 28.942188 143.1 \nL 28.942188 7.2 \n\" style=\"fill: none; stroke: #000000; stroke-width: 0.8; stroke-linejoin: miter; stroke-linecap: square\"/>\n   </g>\n   <g id=\"patch_4\">\n    <path d=\"M 224.242188 143.1 \nL 224.242188 7.2 \n\" style=\"fill: none; stroke: #000000; stroke-width: 0.8; stroke-linejoin: miter; stroke-linecap: square\"/>\n   </g>\n   <g id=\"patch_5\">\n    <path d=\"M 28.942187 143.1 \nL 224.242188 143.1 \n\" style=\"fill: none; stroke: #000000; stroke-width: 0.8; stroke-linejoin: miter; stroke-linecap: square\"/>\n   </g>\n   <g id=\"patch_6\">\n    <path d=\"M 28.942187 7.2 \nL 224.242188 7.2 \n\" style=\"fill: none; stroke: #000000; stroke-width: 0.8; stroke-linejoin: miter; stroke-linecap: square\"/>\n   </g>\n  </g>\n </g>\n <defs>\n  <clipPath id=\"p6ba253dfef\">\n   <rect x=\"28.942188\" y=\"7.2\" width=\"195.3\" height=\"135.9\"/>\n  </clipPath>\n </defs>\n</svg>\n",
      "text/plain": [
       "<Figure size 252x180 with 1 Axes>"
      ]
     },
     "metadata": {
      "needs_background": "light"
     },
     "output_type": "display_data"
    }
   ],
   "source": [
    "d2l.set_figsize()\n",
    "\n",
    "# scatter(x,y,point_size)\n",
    "d2l.plt.scatter(features[:, 1].detach().numpy(), labels.detach().numpy(), 3);"
   ]
  },
  {
   "cell_type": "markdown",
   "metadata": {
    "origin_pos": 12
   },
   "source": [
    "## 读取数据集\n",
    "\n",
    "回想一下，训练模型时要对数据集进行遍历，每次抽取一小批量样本，并使用它们来更新我们的模型。\n",
    "由于这个过程是训练机器学习算法的基础，所以有必要定义一个函数，\n",
    "该函数能打乱数据集中的样本并以小批量方式获取数据。\n",
    "\n",
    "在下面的代码中，我们[**定义一个`data_iter`函数，\n",
    "该函数接收批量大小、特征矩阵和标签向量作为输入，生成大小为`batch_size`的小批量**]。\n",
    "每个小批量包含一组特征和标签。\n"
   ]
  },
  {
   "cell_type": "code",
   "execution_count": 105,
   "metadata": {
    "origin_pos": 13,
    "tab": [
     "pytorch"
    ]
   },
   "outputs": [],
   "source": [
    "def data_iter(batch_size, features, labels):\n",
    "    # num_examples=1000\n",
    "    num_examples = len(features)\n",
    "\n",
    "    # 转换成1000数组\n",
    "    indices = list(range(num_examples))\n",
    "\n",
    "    # 打散数组\n",
    "    random.shuffle(indices)\n",
    "\n",
    "    for i in range(0, num_examples, batch_size):\n",
    "        \n",
    "        # min(i + batch_size, num_examples) 有可能batch 叠加之后超出num_examples\n",
    "        batch_indices = torch.tensor(indices[i: min(i + batch_size, num_examples)])\n",
    "\n",
    "        yield features[batch_indices], labels[batch_indices]"
   ]
  },
  {
   "cell_type": "markdown",
   "metadata": {
    "origin_pos": 15
   },
   "source": [
    "通常，我们利用GPU并行运算的优势，处理合理大小的“小批量”。\n",
    "每个样本都可以并行地进行模型计算，且每个样本损失函数的梯度也可以被并行计算。\n",
    "GPU可以在处理几百个样本时，所花费的时间不比处理一个样本时多太多。\n",
    "\n",
    "我们直观感受一下小批量运算：读取第一个小批量数据样本并打印。\n",
    "每个批量的特征维度显示批量大小和输入特征数。\n",
    "同样的，批量的标签形状与`batch_size`相等。\n"
   ]
  },
  {
   "cell_type": "code",
   "execution_count": 106,
   "metadata": {
    "origin_pos": 16,
    "tab": [
     "pytorch"
    ]
   },
   "outputs": [
    {
     "name": "stdout",
     "output_type": "stream",
     "text": [
      "tensor([[-0.5922, -1.7309],\n",
      "        [-0.6153,  2.3615],\n",
      "        [ 2.0939,  0.6285],\n",
      "        [-1.2516,  0.5334],\n",
      "        [-0.6806,  0.7420],\n",
      "        [ 2.0515, -0.7853],\n",
      "        [-0.4262, -1.7002],\n",
      "        [ 0.5972,  0.9252],\n",
      "        [-1.6914, -1.6673],\n",
      "        [ 0.8626, -0.5027]]) \n",
      " tensor([[ 8.8981],\n",
      "        [-5.0606],\n",
      "        [ 6.2520],\n",
      "        [-0.1089],\n",
      "        [ 0.3097],\n",
      "        [10.9914],\n",
      "        [ 9.1379],\n",
      "        [ 2.2383],\n",
      "        [ 6.4805],\n",
      "        [ 7.6369]])\n"
     ]
    }
   ],
   "source": [
    "batch_size = 10\n",
    "\n",
    "for X, y in data_iter(batch_size, features, labels):\n",
    "    print(X, '\\n', y)\n",
    "    break"
   ]
  },
  {
   "cell_type": "markdown",
   "metadata": {
    "origin_pos": 17
   },
   "source": [
    "当我们运行迭代时，我们会连续地获得不同的小批量，直至遍历完整个数据集。\n",
    "上面实现的迭代对于教学来说很好，但它的执行效率很低，可能会在实际问题上陷入麻烦。\n",
    "例如，它要求我们将所有数据加载到内存中，并执行大量的随机内存访问。\n",
    "在深度学习框架中实现的内置迭代器效率要高得多，\n",
    "它可以处理存储在文件中的数据和数据流提供的数据。\n",
    "\n",
    "## 初始化模型参数\n",
    "\n",
    "[**在我们开始用小批量随机梯度下降优化我们的模型参数之前**]，\n",
    "(**我们需要先有一些参数**)。\n",
    "在下面的代码中，我们通过从均值为0、标准差为0.01的正态分布中采样随机数来初始化权重，\n",
    "并将偏置初始化为0。\n"
   ]
  },
  {
   "cell_type": "code",
   "execution_count": 107,
   "metadata": {
    "origin_pos": 19,
    "tab": [
     "pytorch"
    ]
   },
   "outputs": [],
   "source": [
    "w = torch.normal(0, 0.01, size=(2,1), requires_grad=True)\n",
    "b = torch.zeros(1, requires_grad=True)"
   ]
  },
  {
   "cell_type": "markdown",
   "metadata": {
    "origin_pos": 21
   },
   "source": [
    "在初始化参数之后，我们的任务是更新这些参数，直到这些参数足够拟合我们的数据。\n",
    "每次更新都需要计算损失函数关于模型参数的梯度。\n",
    "有了这个梯度，我们就可以向减小损失的方向更新每个参数。\n",
    "因为手动计算梯度很枯燥而且容易出错，所以没有人会手动计算梯度。\n",
    "我们使用 :numref:`sec_autograd`中引入的自动微分来计算梯度。\n",
    "\n",
    "## 定义模型\n",
    "\n",
    "接下来，我们必须[**定义模型，将模型的输入和参数同模型的输出关联起来。**]\n",
    "回想一下，要计算线性模型的输出，\n",
    "我们只需计算输入特征$\\mathbf{X}$和模型权重$\\mathbf{w}$的矩阵-向量乘法后加上偏置$b$。\n",
    "注意，上面的$\\mathbf{Xw}$是一个向量，而$b$是一个标量。\n",
    "回想一下 :numref:`subsec_broadcasting`中描述的广播机制：\n",
    "当我们用一个向量加一个标量时，标量会被加到向量的每个分量上。\n"
   ]
  },
  {
   "cell_type": "code",
   "execution_count": 108,
   "metadata": {
    "origin_pos": 22,
    "tab": [
     "pytorch"
    ]
   },
   "outputs": [],
   "source": [
    "def linreg(X, w, b):  #@save\n",
    "    \"\"\"线性回归模型\"\"\"\n",
    "    return torch.matmul(X, w) + b"
   ]
  },
  {
   "cell_type": "markdown",
   "metadata": {
    "origin_pos": 23
   },
   "source": [
    "## [**定义损失函数**]\n",
    "\n",
    "因为需要计算损失函数的梯度，所以我们应该先定义损失函数。\n",
    "这里我们使用 :numref:`sec_linear_regression`中描述的平方损失函数。\n",
    "在实现中，我们需要将真实值`y`的形状转换为和预测值`y_hat`的形状相同。\n"
   ]
  },
  {
   "cell_type": "code",
   "execution_count": 109,
   "metadata": {
    "origin_pos": 24,
    "tab": [
     "pytorch"
    ]
   },
   "outputs": [],
   "source": [
    "def squared_loss(y_hat, y):  #@save\n",
    "    \"\"\"均方损失\"\"\"\n",
    "    return (y_hat - y.reshape(y_hat.shape)) ** 2 / 2"
   ]
  },
  {
   "cell_type": "markdown",
   "metadata": {
    "origin_pos": 25
   },
   "source": [
    "## (**定义优化算法**)\n",
    "\n",
    "正如我们在 :numref:`sec_linear_regression`中讨论的，线性回归有解析解。\n",
    "尽管线性回归有解析解，但本书中的其他模型却没有。\n",
    "这里我们介绍小批量随机梯度下降。\n",
    "\n",
    "在每一步中，使用从数据集中随机抽取的一个小批量，然后根据参数计算损失的梯度。\n",
    "接下来，朝着减少损失的方向更新我们的参数。\n",
    "下面的函数实现小批量随机梯度下降更新。\n",
    "该函数接受模型参数集合、学习速率和批量大小作为输入。每\n",
    "一步更新的大小由学习速率`lr`决定。\n",
    "因为我们计算的损失是一个批量样本的总和，所以我们用批量大小（`batch_size`）\n",
    "来规范化步长，这样步长大小就不会取决于我们对批量大小的选择。\n"
   ]
  },
  {
   "cell_type": "code",
   "execution_count": 110,
   "metadata": {
    "origin_pos": 27,
    "tab": [
     "pytorch"
    ]
   },
   "outputs": [],
   "source": [
    "def sgd(params, lr, batch_size):  #@save\n",
    "    \"\"\"小批量随机梯度下降\"\"\"\n",
    "    with torch.no_grad():\n",
    "        for param in params:\n",
    "            param -= lr * param.grad / batch_size\n",
    "            param.grad.zero_()"
   ]
  },
  {
   "cell_type": "markdown",
   "metadata": {
    "origin_pos": 29
   },
   "source": [
    "## 训练\n",
    "\n",
    "现在我们已经准备好了模型训练所有需要的要素，可以实现主要的[**训练过程**]部分了。\n",
    "理解这段代码至关重要，因为从事深度学习后，\n",
    "你会一遍又一遍地看到几乎相同的训练过程。\n",
    "在每次迭代中，我们读取一小批量训练样本，并通过我们的模型来获得一组预测。\n",
    "计算完损失后，我们开始反向传播，存储每个参数的梯度。\n",
    "最后，我们调用优化算法`sgd`来更新模型参数。\n",
    "\n",
    "概括一下，我们将执行以下循环：\n",
    "\n",
    "* 初始化参数\n",
    "* 重复以下训练，直到完成\n",
    "    * 计算梯度$\\mathbf{g} \\leftarrow \\partial_{(\\mathbf{w},b)} \\frac{1}{|\\mathcal{B}|} \\sum_{i \\in \\mathcal{B}} l(\\mathbf{x}^{(i)}, y^{(i)}, \\mathbf{w}, b)$\n",
    "    * 更新参数$(\\mathbf{w}, b) \\leftarrow (\\mathbf{w}, b) - \\eta \\mathbf{g}$\n",
    "\n",
    "在每个*迭代周期*（epoch）中，我们使用`data_iter`函数遍历整个数据集，\n",
    "并将训练数据集中所有样本都使用一次（假设样本数能够被批量大小整除）。\n",
    "这里的迭代周期个数`num_epochs`和学习率`lr`都是超参数，分别设为3和0.03。\n",
    "设置超参数很棘手，需要通过反复试验进行调整。\n",
    "我们现在忽略这些细节，以后会在 :numref:`chap_optimization`中详细介绍。\n"
   ]
  },
  {
   "cell_type": "code",
   "execution_count": 111,
   "metadata": {
    "origin_pos": 30,
    "tab": [
     "pytorch"
    ]
   },
   "outputs": [],
   "source": [
    "lr = 0.03\n",
    "num_epochs = 3\n",
    "\n",
    "# 通过方法复制，方便后续进行维护调整\n",
    "net = linreg\n",
    "loss = squared_loss"
   ]
  },
  {
   "cell_type": "code",
   "execution_count": 122,
   "metadata": {
    "origin_pos": 32,
    "tab": [
     "pytorch"
    ]
   },
   "outputs": [
    {
     "name": "stdout",
     "output_type": "stream",
     "text": [
      "w: tensor([[ 2.0005],\n",
      "        [-3.3994]]) b: tensor([4.1998])\n",
      "w: tensor([[ 2.0005],\n",
      "        [-3.3992]]) b: tensor([4.1999])\n",
      "w: tensor([[ 2.0005],\n",
      "        [-3.3992]]) b: tensor([4.2000])\n",
      "w: tensor([[ 2.0006],\n",
      "        [-3.3992]]) b: tensor([4.1999])\n",
      "w: tensor([[ 2.0005],\n",
      "        [-3.3993]]) b: tensor([4.2002])\n",
      "w: tensor([[ 2.0005],\n",
      "        [-3.3992]]) b: tensor([4.2000])\n",
      "w: tensor([[ 2.0003],\n",
      "        [-3.3991]]) b: tensor([4.1999])\n",
      "w: tensor([[ 2.0003],\n",
      "        [-3.3993]]) b: tensor([4.2001])\n",
      "w: tensor([[ 2.0004],\n",
      "        [-3.3993]]) b: tensor([4.2000])\n",
      "w: tensor([[ 2.0005],\n",
      "        [-3.3993]]) b: tensor([4.1999])\n",
      "w: tensor([[ 2.0004],\n",
      "        [-3.3994]]) b: tensor([4.2000])\n",
      "w: tensor([[ 2.0003],\n",
      "        [-3.3995]]) b: tensor([4.1998])\n",
      "w: tensor([[ 2.0002],\n",
      "        [-3.3995]]) b: tensor([4.2000])\n",
      "w: tensor([[ 2.0003],\n",
      "        [-3.3995]]) b: tensor([4.1998])\n",
      "w: tensor([[ 2.0005],\n",
      "        [-3.3994]]) b: tensor([4.1998])\n",
      "w: tensor([[ 2.0005],\n",
      "        [-3.3994]]) b: tensor([4.1998])\n",
      "w: tensor([[ 2.0006],\n",
      "        [-3.3995]]) b: tensor([4.1998])\n",
      "w: tensor([[ 2.0007],\n",
      "        [-3.3994]]) b: tensor([4.1998])\n",
      "w: tensor([[ 2.0007],\n",
      "        [-3.3994]]) b: tensor([4.1998])\n",
      "w: tensor([[ 2.0005],\n",
      "        [-3.3994]]) b: tensor([4.1998])\n",
      "w: tensor([[ 2.0006],\n",
      "        [-3.3994]]) b: tensor([4.1998])\n",
      "w: tensor([[ 2.0005],\n",
      "        [-3.3994]]) b: tensor([4.1998])\n",
      "w: tensor([[ 2.0004],\n",
      "        [-3.3993]]) b: tensor([4.1997])\n",
      "w: tensor([[ 2.0004],\n",
      "        [-3.3992]]) b: tensor([4.1996])\n",
      "w: tensor([[ 2.0004],\n",
      "        [-3.3992]]) b: tensor([4.1996])\n",
      "w: tensor([[ 2.0005],\n",
      "        [-3.3992]]) b: tensor([4.1997])\n",
      "w: tensor([[ 2.0004],\n",
      "        [-3.3992]]) b: tensor([4.1996])\n",
      "w: tensor([[ 2.0003],\n",
      "        [-3.3992]]) b: tensor([4.1998])\n",
      "w: tensor([[ 2.0004],\n",
      "        [-3.3992]]) b: tensor([4.1997])\n",
      "w: tensor([[ 2.0004],\n",
      "        [-3.3991]]) b: tensor([4.1998])\n",
      "w: tensor([[ 2.0000],\n",
      "        [-3.3991]]) b: tensor([4.2000])\n",
      "w: tensor([[ 2.0000],\n",
      "        [-3.3991]]) b: tensor([4.2000])\n",
      "w: tensor([[ 1.9999],\n",
      "        [-3.3990]]) b: tensor([4.2001])\n",
      "w: tensor([[ 1.9999],\n",
      "        [-3.3990]]) b: tensor([4.2002])\n",
      "w: tensor([[ 2.0000],\n",
      "        [-3.3990]]) b: tensor([4.2002])\n",
      "w: tensor([[ 1.9999],\n",
      "        [-3.3992]]) b: tensor([4.2002])\n",
      "w: tensor([[ 1.9999],\n",
      "        [-3.3993]]) b: tensor([4.2002])\n",
      "w: tensor([[ 2.0000],\n",
      "        [-3.3993]]) b: tensor([4.2002])\n",
      "w: tensor([[ 2.0001],\n",
      "        [-3.3994]]) b: tensor([4.2002])\n",
      "w: tensor([[ 2.0002],\n",
      "        [-3.3993]]) b: tensor([4.2000])\n",
      "w: tensor([[ 2.0003],\n",
      "        [-3.3994]]) b: tensor([4.2001])\n",
      "w: tensor([[ 2.0003],\n",
      "        [-3.3993]]) b: tensor([4.2001])\n",
      "w: tensor([[ 2.0001],\n",
      "        [-3.3993]]) b: tensor([4.2003])\n",
      "w: tensor([[ 2.0001],\n",
      "        [-3.3993]]) b: tensor([4.2002])\n",
      "w: tensor([[ 2.0000],\n",
      "        [-3.3991]]) b: tensor([4.2001])\n",
      "w: tensor([[ 2.0000],\n",
      "        [-3.3992]]) b: tensor([4.2000])\n",
      "w: tensor([[ 2.0000],\n",
      "        [-3.3992]]) b: tensor([4.2001])\n",
      "w: tensor([[ 2.0000],\n",
      "        [-3.3993]]) b: tensor([4.2001])\n",
      "w: tensor([[ 1.9999],\n",
      "        [-3.3993]]) b: tensor([4.2000])\n",
      "w: tensor([[ 1.9999],\n",
      "        [-3.3993]]) b: tensor([4.2000])\n",
      "w: tensor([[ 1.9999],\n",
      "        [-3.3993]]) b: tensor([4.2001])\n",
      "w: tensor([[ 1.9999],\n",
      "        [-3.3994]]) b: tensor([4.2000])\n",
      "w: tensor([[ 2.0000],\n",
      "        [-3.3994]]) b: tensor([4.1998])\n",
      "w: tensor([[ 2.0000],\n",
      "        [-3.3994]]) b: tensor([4.1997])\n",
      "w: tensor([[ 2.0001],\n",
      "        [-3.3993]]) b: tensor([4.1996])\n",
      "w: tensor([[ 2.0000],\n",
      "        [-3.3995]]) b: tensor([4.1998])\n",
      "w: tensor([[ 2.0001],\n",
      "        [-3.3994]]) b: tensor([4.2000])\n",
      "w: tensor([[ 2.0001],\n",
      "        [-3.3995]]) b: tensor([4.2000])\n",
      "w: tensor([[ 2.0002],\n",
      "        [-3.3996]]) b: tensor([4.1999])\n",
      "w: tensor([[ 2.0002],\n",
      "        [-3.3995]]) b: tensor([4.1999])\n",
      "w: tensor([[ 2.0003],\n",
      "        [-3.3995]]) b: tensor([4.1999])\n",
      "w: tensor([[ 2.0003],\n",
      "        [-3.3994]]) b: tensor([4.1997])\n",
      "w: tensor([[ 2.0003],\n",
      "        [-3.3993]]) b: tensor([4.1998])\n",
      "w: tensor([[ 2.0004],\n",
      "        [-3.3993]]) b: tensor([4.1999])\n",
      "w: tensor([[ 2.0005],\n",
      "        [-3.3994]]) b: tensor([4.2000])\n",
      "w: tensor([[ 2.0005],\n",
      "        [-3.3991]]) b: tensor([4.1999])\n",
      "w: tensor([[ 2.0004],\n",
      "        [-3.3992]]) b: tensor([4.1998])\n",
      "w: tensor([[ 2.0005],\n",
      "        [-3.3992]]) b: tensor([4.1997])\n",
      "w: tensor([[ 2.0005],\n",
      "        [-3.3992]]) b: tensor([4.1998])\n",
      "w: tensor([[ 2.0005],\n",
      "        [-3.3992]]) b: tensor([4.1997])\n",
      "w: tensor([[ 2.0005],\n",
      "        [-3.3993]]) b: tensor([4.1996])\n",
      "w: tensor([[ 2.0004],\n",
      "        [-3.3992]]) b: tensor([4.1996])\n",
      "w: tensor([[ 2.0005],\n",
      "        [-3.3992]]) b: tensor([4.1996])\n",
      "w: tensor([[ 2.0004],\n",
      "        [-3.3992]]) b: tensor([4.1995])\n",
      "w: tensor([[ 2.0004],\n",
      "        [-3.3993]]) b: tensor([4.1996])\n",
      "w: tensor([[ 2.0004],\n",
      "        [-3.3993]]) b: tensor([4.1997])\n",
      "w: tensor([[ 2.0004],\n",
      "        [-3.3994]]) b: tensor([4.1997])\n",
      "w: tensor([[ 2.0004],\n",
      "        [-3.3994]]) b: tensor([4.1997])\n",
      "w: tensor([[ 2.0006],\n",
      "        [-3.3994]]) b: tensor([4.1996])\n",
      "w: tensor([[ 2.0006],\n",
      "        [-3.3996]]) b: tensor([4.1998])\n",
      "w: tensor([[ 2.0004],\n",
      "        [-3.3995]]) b: tensor([4.1998])\n",
      "w: tensor([[ 2.0004],\n",
      "        [-3.3994]]) b: tensor([4.1998])\n",
      "w: tensor([[ 2.0003],\n",
      "        [-3.3995]]) b: tensor([4.1999])\n",
      "w: tensor([[ 2.0004],\n",
      "        [-3.3992]]) b: tensor([4.1999])\n",
      "w: tensor([[ 2.0007],\n",
      "        [-3.3991]]) b: tensor([4.2000])\n",
      "w: tensor([[ 2.0006],\n",
      "        [-3.3991]]) b: tensor([4.1999])\n",
      "w: tensor([[ 2.0005],\n",
      "        [-3.3990]]) b: tensor([4.2000])\n",
      "w: tensor([[ 2.0005],\n",
      "        [-3.3990]]) b: tensor([4.2000])\n",
      "w: tensor([[ 2.0006],\n",
      "        [-3.3990]]) b: tensor([4.2000])\n",
      "w: tensor([[ 2.0005],\n",
      "        [-3.3990]]) b: tensor([4.1998])\n",
      "w: tensor([[ 2.0003],\n",
      "        [-3.3991]]) b: tensor([4.1997])\n",
      "w: tensor([[ 2.0002],\n",
      "        [-3.3993]]) b: tensor([4.1998])\n",
      "w: tensor([[ 2.0001],\n",
      "        [-3.3994]]) b: tensor([4.1997])\n",
      "w: tensor([[ 2.0002],\n",
      "        [-3.3996]]) b: tensor([4.1999])\n",
      "w: tensor([[ 2.0003],\n",
      "        [-3.3996]]) b: tensor([4.1998])\n",
      "w: tensor([[ 2.0003],\n",
      "        [-3.3997]]) b: tensor([4.2000])\n",
      "w: tensor([[ 2.0002],\n",
      "        [-3.3998]]) b: tensor([4.2000])\n",
      "w: tensor([[ 2.0004],\n",
      "        [-3.3999]]) b: tensor([4.2002])\n",
      "w: tensor([[ 2.0004],\n",
      "        [-3.4000]]) b: tensor([4.2001])\n",
      "w: tensor([[ 2.0004],\n",
      "        [-3.4001]]) b: tensor([4.2003])\n",
      "w: tensor([[ 2.0004],\n",
      "        [-3.4001]]) b: tensor([4.2003])\n",
      "epoch 1, loss 0.000052\n",
      "w: tensor([[ 2.0004],\n",
      "        [-3.4000]]) b: tensor([4.2002])\n",
      "w: tensor([[ 2.0004],\n",
      "        [-3.4000]]) b: tensor([4.2002])\n",
      "w: tensor([[ 2.0004],\n",
      "        [-3.4000]]) b: tensor([4.2001])\n",
      "w: tensor([[ 2.0005],\n",
      "        [-3.3999]]) b: tensor([4.2001])\n",
      "w: tensor([[ 2.0007],\n",
      "        [-3.3998]]) b: tensor([4.2002])\n",
      "w: tensor([[ 2.0006],\n",
      "        [-3.3997]]) b: tensor([4.2002])\n",
      "w: tensor([[ 2.0005],\n",
      "        [-3.3997]]) b: tensor([4.2002])\n",
      "w: tensor([[ 2.0004],\n",
      "        [-3.3995]]) b: tensor([4.2003])\n",
      "w: tensor([[ 2.0004],\n",
      "        [-3.3994]]) b: tensor([4.2003])\n",
      "w: tensor([[ 2.0005],\n",
      "        [-3.3994]]) b: tensor([4.2002])\n",
      "w: tensor([[ 2.0006],\n",
      "        [-3.3995]]) b: tensor([4.2003])\n",
      "w: tensor([[ 2.0004],\n",
      "        [-3.3996]]) b: tensor([4.2004])\n",
      "w: tensor([[ 2.0004],\n",
      "        [-3.3997]]) b: tensor([4.2002])\n",
      "w: tensor([[ 2.0004],\n",
      "        [-3.3999]]) b: tensor([4.2001])\n",
      "w: tensor([[ 2.0003],\n",
      "        [-3.3999]]) b: tensor([4.2000])\n",
      "w: tensor([[ 2.0004],\n",
      "        [-3.4003]]) b: tensor([4.2001])\n",
      "w: tensor([[ 2.0003],\n",
      "        [-3.4003]]) b: tensor([4.2001])\n",
      "w: tensor([[ 2.0002],\n",
      "        [-3.4006]]) b: tensor([4.2004])\n",
      "w: tensor([[ 2.0005],\n",
      "        [-3.4005]]) b: tensor([4.2001])\n",
      "w: tensor([[ 2.0007],\n",
      "        [-3.4005]]) b: tensor([4.2000])\n",
      "w: tensor([[ 2.0006],\n",
      "        [-3.4003]]) b: tensor([4.2003])\n",
      "w: tensor([[ 2.0005],\n",
      "        [-3.4004]]) b: tensor([4.2001])\n",
      "w: tensor([[ 2.0005],\n",
      "        [-3.4002]]) b: tensor([4.2001])\n",
      "w: tensor([[ 2.0005],\n",
      "        [-3.4003]]) b: tensor([4.1999])\n",
      "w: tensor([[ 2.0003],\n",
      "        [-3.4003]]) b: tensor([4.2000])\n",
      "w: tensor([[ 2.0003],\n",
      "        [-3.4002]]) b: tensor([4.1999])\n",
      "w: tensor([[ 2.0004],\n",
      "        [-3.4003]]) b: tensor([4.2000])\n",
      "w: tensor([[ 2.0004],\n",
      "        [-3.4002]]) b: tensor([4.2000])\n",
      "w: tensor([[ 2.0004],\n",
      "        [-3.4002]]) b: tensor([4.1999])\n",
      "w: tensor([[ 2.0004],\n",
      "        [-3.4002]]) b: tensor([4.1999])\n",
      "w: tensor([[ 2.0003],\n",
      "        [-3.3999]]) b: tensor([4.2000])\n",
      "w: tensor([[ 2.0004],\n",
      "        [-3.3998]]) b: tensor([4.2000])\n",
      "w: tensor([[ 2.0004],\n",
      "        [-3.3998]]) b: tensor([4.2000])\n",
      "w: tensor([[ 2.0003],\n",
      "        [-3.3998]]) b: tensor([4.2000])\n",
      "w: tensor([[ 2.0004],\n",
      "        [-3.3998]]) b: tensor([4.1999])\n",
      "w: tensor([[ 2.0006],\n",
      "        [-3.3998]]) b: tensor([4.1999])\n",
      "w: tensor([[ 2.0005],\n",
      "        [-3.3997]]) b: tensor([4.2000])\n",
      "w: tensor([[ 2.0005],\n",
      "        [-3.3998]]) b: tensor([4.1999])\n",
      "w: tensor([[ 2.0004],\n",
      "        [-3.3997]]) b: tensor([4.1999])\n",
      "w: tensor([[ 2.0005],\n",
      "        [-3.3999]]) b: tensor([4.2000])\n",
      "w: tensor([[ 2.0005],\n",
      "        [-3.3999]]) b: tensor([4.2000])\n",
      "w: tensor([[ 2.0006],\n",
      "        [-3.3998]]) b: tensor([4.2000])\n",
      "w: tensor([[ 2.0005],\n",
      "        [-3.3998]]) b: tensor([4.2000])\n",
      "w: tensor([[ 2.0005],\n",
      "        [-3.3997]]) b: tensor([4.2001])\n",
      "w: tensor([[ 2.0005],\n",
      "        [-3.3995]]) b: tensor([4.2000])\n",
      "w: tensor([[ 2.0002],\n",
      "        [-3.3996]]) b: tensor([4.2000])\n",
      "w: tensor([[ 2.0002],\n",
      "        [-3.3995]]) b: tensor([4.2000])\n",
      "w: tensor([[ 2.0002],\n",
      "        [-3.3993]]) b: tensor([4.1999])\n",
      "w: tensor([[ 2.0003],\n",
      "        [-3.3993]]) b: tensor([4.1999])\n",
      "w: tensor([[ 2.0003],\n",
      "        [-3.3994]]) b: tensor([4.1999])\n",
      "w: tensor([[ 2.0003],\n",
      "        [-3.3994]]) b: tensor([4.1999])\n",
      "w: tensor([[ 2.0004],\n",
      "        [-3.3995]]) b: tensor([4.1999])\n",
      "w: tensor([[ 2.0005],\n",
      "        [-3.3996]]) b: tensor([4.2000])\n",
      "w: tensor([[ 2.0004],\n",
      "        [-3.3995]]) b: tensor([4.2000])\n",
      "w: tensor([[ 2.0004],\n",
      "        [-3.3994]]) b: tensor([4.2000])\n",
      "w: tensor([[ 2.0003],\n",
      "        [-3.3996]]) b: tensor([4.1998])\n",
      "w: tensor([[ 2.0003],\n",
      "        [-3.3995]]) b: tensor([4.1999])\n",
      "w: tensor([[ 2.0003],\n",
      "        [-3.3994]]) b: tensor([4.2000])\n",
      "w: tensor([[ 2.0004],\n",
      "        [-3.3995]]) b: tensor([4.1999])\n",
      "w: tensor([[ 2.0003],\n",
      "        [-3.3995]]) b: tensor([4.1999])\n",
      "w: tensor([[ 2.0003],\n",
      "        [-3.3994]]) b: tensor([4.2001])\n",
      "w: tensor([[ 2.0003],\n",
      "        [-3.3994]]) b: tensor([4.2002])\n",
      "w: tensor([[ 2.0003],\n",
      "        [-3.3994]]) b: tensor([4.2002])\n",
      "w: tensor([[ 2.0003],\n",
      "        [-3.3995]]) b: tensor([4.2004])\n",
      "w: tensor([[ 2.0003],\n",
      "        [-3.3994]]) b: tensor([4.2004])\n",
      "w: tensor([[ 2.0003],\n",
      "        [-3.3993]]) b: tensor([4.2001])\n",
      "w: tensor([[ 2.0002],\n",
      "        [-3.3995]]) b: tensor([4.2002])\n",
      "w: tensor([[ 2.0002],\n",
      "        [-3.3994]]) b: tensor([4.2002])\n",
      "w: tensor([[ 2.0002],\n",
      "        [-3.3994]]) b: tensor([4.2003])\n",
      "w: tensor([[ 2.0002],\n",
      "        [-3.3995]]) b: tensor([4.2002])\n",
      "w: tensor([[ 2.0001],\n",
      "        [-3.3993]]) b: tensor([4.2003])\n",
      "w: tensor([[ 2.0001],\n",
      "        [-3.3994]]) b: tensor([4.2001])\n",
      "w: tensor([[ 2.0001],\n",
      "        [-3.3996]]) b: tensor([4.2001])\n",
      "w: tensor([[ 2.0002],\n",
      "        [-3.3997]]) b: tensor([4.2002])\n",
      "w: tensor([[ 2.0003],\n",
      "        [-3.3998]]) b: tensor([4.2000])\n",
      "w: tensor([[ 2.0003],\n",
      "        [-3.3997]]) b: tensor([4.2000])\n",
      "w: tensor([[ 2.0003],\n",
      "        [-3.3998]]) b: tensor([4.1999])\n",
      "w: tensor([[ 2.0003],\n",
      "        [-3.3997]]) b: tensor([4.1998])\n",
      "w: tensor([[ 2.0003],\n",
      "        [-3.3996]]) b: tensor([4.1997])\n",
      "w: tensor([[ 2.0003],\n",
      "        [-3.3996]]) b: tensor([4.1997])\n",
      "w: tensor([[ 2.0000],\n",
      "        [-3.3996]]) b: tensor([4.1998])\n",
      "w: tensor([[ 2.0001],\n",
      "        [-3.3996]]) b: tensor([4.1998])\n",
      "w: tensor([[ 2.0002],\n",
      "        [-3.3997]]) b: tensor([4.1999])\n",
      "w: tensor([[ 2.0001],\n",
      "        [-3.3997]]) b: tensor([4.1999])\n",
      "w: tensor([[ 2.0002],\n",
      "        [-3.3996]]) b: tensor([4.2000])\n",
      "w: tensor([[ 2.0001],\n",
      "        [-3.3996]]) b: tensor([4.1999])\n",
      "w: tensor([[ 2.0001],\n",
      "        [-3.3997]]) b: tensor([4.2001])\n",
      "w: tensor([[ 2.0004],\n",
      "        [-3.3995]]) b: tensor([4.2000])\n",
      "w: tensor([[ 2.0002],\n",
      "        [-3.3996]]) b: tensor([4.2002])\n",
      "w: tensor([[ 2.0002],\n",
      "        [-3.3997]]) b: tensor([4.2002])\n",
      "w: tensor([[ 2.0003],\n",
      "        [-3.3998]]) b: tensor([4.2004])\n",
      "w: tensor([[ 2.0003],\n",
      "        [-3.3998]]) b: tensor([4.2004])\n",
      "w: tensor([[ 2.0002],\n",
      "        [-3.3997]]) b: tensor([4.2006])\n",
      "w: tensor([[ 2.0004],\n",
      "        [-3.3997]]) b: tensor([4.2006])\n",
      "w: tensor([[ 2.0003],\n",
      "        [-3.3995]]) b: tensor([4.2005])\n",
      "w: tensor([[ 2.0004],\n",
      "        [-3.3995]]) b: tensor([4.2005])\n",
      "w: tensor([[ 2.0004],\n",
      "        [-3.3996]]) b: tensor([4.2004])\n",
      "w: tensor([[ 2.0002],\n",
      "        [-3.3996]]) b: tensor([4.2002])\n",
      "w: tensor([[ 2.0002],\n",
      "        [-3.3995]]) b: tensor([4.2001])\n",
      "w: tensor([[ 2.0003],\n",
      "        [-3.3996]]) b: tensor([4.2001])\n",
      "w: tensor([[ 2.0003],\n",
      "        [-3.3996]]) b: tensor([4.2001])\n",
      "epoch 2, loss 0.000052\n",
      "w: tensor([[ 2.0002],\n",
      "        [-3.3996]]) b: tensor([4.2001])\n",
      "w: tensor([[ 2.0002],\n",
      "        [-3.3996]]) b: tensor([4.2000])\n",
      "w: tensor([[ 2.0003],\n",
      "        [-3.3997]]) b: tensor([4.2000])\n",
      "w: tensor([[ 2.0003],\n",
      "        [-3.3996]]) b: tensor([4.2001])\n",
      "w: tensor([[ 2.0005],\n",
      "        [-3.3995]]) b: tensor([4.2000])\n",
      "w: tensor([[ 2.0005],\n",
      "        [-3.3994]]) b: tensor([4.1999])\n",
      "w: tensor([[ 2.0002],\n",
      "        [-3.3993]]) b: tensor([4.1998])\n",
      "w: tensor([[ 2.0000],\n",
      "        [-3.3991]]) b: tensor([4.1999])\n",
      "w: tensor([[ 1.9997],\n",
      "        [-3.3990]]) b: tensor([4.2000])\n",
      "w: tensor([[ 1.9996],\n",
      "        [-3.3990]]) b: tensor([4.2001])\n",
      "w: tensor([[ 1.9996],\n",
      "        [-3.3993]]) b: tensor([4.2001])\n",
      "w: tensor([[ 1.9997],\n",
      "        [-3.3992]]) b: tensor([4.2000])\n",
      "w: tensor([[ 1.9998],\n",
      "        [-3.3992]]) b: tensor([4.2001])\n",
      "w: tensor([[ 1.9998],\n",
      "        [-3.3991]]) b: tensor([4.2001])\n",
      "w: tensor([[ 2.0001],\n",
      "        [-3.3992]]) b: tensor([4.2001])\n",
      "w: tensor([[ 2.0001],\n",
      "        [-3.3992]]) b: tensor([4.2001])\n",
      "w: tensor([[ 2.0002],\n",
      "        [-3.3993]]) b: tensor([4.1999])\n",
      "w: tensor([[ 2.0004],\n",
      "        [-3.3993]]) b: tensor([4.1998])\n",
      "w: tensor([[ 2.0003],\n",
      "        [-3.3992]]) b: tensor([4.2000])\n",
      "w: tensor([[ 2.0003],\n",
      "        [-3.3993]]) b: tensor([4.1999])\n",
      "w: tensor([[ 2.0003],\n",
      "        [-3.3994]]) b: tensor([4.1999])\n",
      "w: tensor([[ 2.0003],\n",
      "        [-3.3993]]) b: tensor([4.1998])\n",
      "w: tensor([[ 2.0004],\n",
      "        [-3.3992]]) b: tensor([4.1999])\n",
      "w: tensor([[ 2.0004],\n",
      "        [-3.3994]]) b: tensor([4.1999])\n",
      "w: tensor([[ 2.0004],\n",
      "        [-3.3993]]) b: tensor([4.2000])\n",
      "w: tensor([[ 2.0002],\n",
      "        [-3.3994]]) b: tensor([4.2001])\n",
      "w: tensor([[ 2.0002],\n",
      "        [-3.3995]]) b: tensor([4.2002])\n",
      "w: tensor([[ 2.0003],\n",
      "        [-3.3995]]) b: tensor([4.2001])\n",
      "w: tensor([[ 2.0004],\n",
      "        [-3.3994]]) b: tensor([4.2001])\n",
      "w: tensor([[ 2.0004],\n",
      "        [-3.3994]]) b: tensor([4.2001])\n",
      "w: tensor([[ 2.0004],\n",
      "        [-3.3994]]) b: tensor([4.2001])\n",
      "w: tensor([[ 2.0005],\n",
      "        [-3.3993]]) b: tensor([4.2001])\n",
      "w: tensor([[ 2.0006],\n",
      "        [-3.3992]]) b: tensor([4.2003])\n",
      "w: tensor([[ 2.0005],\n",
      "        [-3.3993]]) b: tensor([4.2001])\n",
      "w: tensor([[ 2.0004],\n",
      "        [-3.3996]]) b: tensor([4.2001])\n",
      "w: tensor([[ 2.0004],\n",
      "        [-3.3996]]) b: tensor([4.2002])\n",
      "w: tensor([[ 2.0003],\n",
      "        [-3.3994]]) b: tensor([4.2001])\n",
      "w: tensor([[ 2.0004],\n",
      "        [-3.3994]]) b: tensor([4.2004])\n",
      "w: tensor([[ 2.0006],\n",
      "        [-3.3994]]) b: tensor([4.2005])\n",
      "w: tensor([[ 2.0007],\n",
      "        [-3.3995]]) b: tensor([4.2004])\n",
      "w: tensor([[ 2.0009],\n",
      "        [-3.3995]]) b: tensor([4.2004])\n",
      "w: tensor([[ 2.0008],\n",
      "        [-3.3994]]) b: tensor([4.2004])\n",
      "w: tensor([[ 2.0007],\n",
      "        [-3.3994]]) b: tensor([4.2003])\n",
      "w: tensor([[ 2.0006],\n",
      "        [-3.3993]]) b: tensor([4.2003])\n",
      "w: tensor([[ 2.0005],\n",
      "        [-3.3992]]) b: tensor([4.2003])\n",
      "w: tensor([[ 2.0004],\n",
      "        [-3.3992]]) b: tensor([4.2004])\n",
      "w: tensor([[ 2.0004],\n",
      "        [-3.3994]]) b: tensor([4.2003])\n",
      "w: tensor([[ 2.0004],\n",
      "        [-3.3996]]) b: tensor([4.2004])\n",
      "w: tensor([[ 2.0004],\n",
      "        [-3.3995]]) b: tensor([4.2003])\n",
      "w: tensor([[ 2.0004],\n",
      "        [-3.3996]]) b: tensor([4.2004])\n",
      "w: tensor([[ 2.0004],\n",
      "        [-3.3997]]) b: tensor([4.2004])\n",
      "w: tensor([[ 2.0003],\n",
      "        [-3.3997]]) b: tensor([4.2004])\n",
      "w: tensor([[ 2.0004],\n",
      "        [-3.3997]]) b: tensor([4.2003])\n",
      "w: tensor([[ 2.0005],\n",
      "        [-3.3998]]) b: tensor([4.2003])\n",
      "w: tensor([[ 2.0004],\n",
      "        [-3.3998]]) b: tensor([4.2004])\n",
      "w: tensor([[ 2.0004],\n",
      "        [-3.3998]]) b: tensor([4.2003])\n",
      "w: tensor([[ 2.0004],\n",
      "        [-3.3998]]) b: tensor([4.2003])\n",
      "w: tensor([[ 2.0005],\n",
      "        [-3.3998]]) b: tensor([4.2004])\n",
      "w: tensor([[ 2.0005],\n",
      "        [-3.3999]]) b: tensor([4.2004])\n",
      "w: tensor([[ 2.0006],\n",
      "        [-3.3997]]) b: tensor([4.2001])\n",
      "w: tensor([[ 2.0007],\n",
      "        [-3.3996]]) b: tensor([4.2002])\n",
      "w: tensor([[ 2.0005],\n",
      "        [-3.3996]]) b: tensor([4.2001])\n",
      "w: tensor([[ 2.0006],\n",
      "        [-3.3995]]) b: tensor([4.1999])\n",
      "w: tensor([[ 2.0006],\n",
      "        [-3.3995]]) b: tensor([4.1999])\n",
      "w: tensor([[ 2.0006],\n",
      "        [-3.3995]]) b: tensor([4.2000])\n",
      "w: tensor([[ 2.0005],\n",
      "        [-3.3996]]) b: tensor([4.2000])\n",
      "w: tensor([[ 2.0005],\n",
      "        [-3.3996]]) b: tensor([4.2001])\n",
      "w: tensor([[ 2.0005],\n",
      "        [-3.3995]]) b: tensor([4.1999])\n",
      "w: tensor([[ 2.0004],\n",
      "        [-3.3996]]) b: tensor([4.1999])\n",
      "w: tensor([[ 2.0002],\n",
      "        [-3.3996]]) b: tensor([4.1998])\n",
      "w: tensor([[ 2.0003],\n",
      "        [-3.3997]]) b: tensor([4.1999])\n",
      "w: tensor([[ 2.0004],\n",
      "        [-3.3995]]) b: tensor([4.1999])\n",
      "w: tensor([[ 2.0004],\n",
      "        [-3.3995]]) b: tensor([4.2001])\n",
      "w: tensor([[ 2.0004],\n",
      "        [-3.3995]]) b: tensor([4.2001])\n",
      "w: tensor([[ 2.0002],\n",
      "        [-3.3996]]) b: tensor([4.2001])\n",
      "w: tensor([[ 2.0001],\n",
      "        [-3.3996]]) b: tensor([4.2000])\n",
      "w: tensor([[ 2.0000],\n",
      "        [-3.3994]]) b: tensor([4.2000])\n",
      "w: tensor([[ 2.0000],\n",
      "        [-3.3994]]) b: tensor([4.1999])\n",
      "w: tensor([[ 1.9998],\n",
      "        [-3.3994]]) b: tensor([4.1999])\n",
      "w: tensor([[ 1.9996],\n",
      "        [-3.3994]]) b: tensor([4.1999])\n",
      "w: tensor([[ 1.9997],\n",
      "        [-3.3993]]) b: tensor([4.1998])\n",
      "w: tensor([[ 1.9998],\n",
      "        [-3.3994]]) b: tensor([4.1998])\n",
      "w: tensor([[ 1.9998],\n",
      "        [-3.3993]]) b: tensor([4.1997])\n",
      "w: tensor([[ 1.9998],\n",
      "        [-3.3994]]) b: tensor([4.1998])\n",
      "w: tensor([[ 2.0000],\n",
      "        [-3.3994]]) b: tensor([4.1997])\n",
      "w: tensor([[ 2.0001],\n",
      "        [-3.3994]]) b: tensor([4.1998])\n",
      "w: tensor([[ 2.0001],\n",
      "        [-3.3993]]) b: tensor([4.1998])\n",
      "w: tensor([[ 2.0000],\n",
      "        [-3.3993]]) b: tensor([4.1999])\n",
      "w: tensor([[ 2.0001],\n",
      "        [-3.3993]]) b: tensor([4.2000])\n",
      "w: tensor([[ 2.0001],\n",
      "        [-3.3992]]) b: tensor([4.2001])\n",
      "w: tensor([[ 2.0002],\n",
      "        [-3.3994]]) b: tensor([4.2000])\n",
      "w: tensor([[ 2.0001],\n",
      "        [-3.3995]]) b: tensor([4.2000])\n",
      "w: tensor([[ 2.0000],\n",
      "        [-3.3996]]) b: tensor([4.2000])\n",
      "w: tensor([[ 2.0000],\n",
      "        [-3.3996]]) b: tensor([4.2001])\n",
      "w: tensor([[ 2.0000],\n",
      "        [-3.3996]]) b: tensor([4.2001])\n",
      "w: tensor([[ 2.0001],\n",
      "        [-3.3997]]) b: tensor([4.1999])\n",
      "w: tensor([[ 1.9999],\n",
      "        [-3.3997]]) b: tensor([4.1999])\n",
      "w: tensor([[ 2.0002],\n",
      "        [-3.3998]]) b: tensor([4.1999])\n",
      "w: tensor([[ 2.0002],\n",
      "        [-3.3998]]) b: tensor([4.2000])\n",
      "w: tensor([[ 2.0004],\n",
      "        [-3.3998]]) b: tensor([4.2001])\n",
      "w: tensor([[ 2.0004],\n",
      "        [-3.3998]]) b: tensor([4.2001])\n",
      "epoch 3, loss 0.000052\n"
     ]
    }
   ],
   "source": [
    "for epoch in range(num_epochs):\n",
    "    for X, y in data_iter(batch_size, features, labels):\n",
    "        l = loss(net(X, w, b), y)  # X和y的小批量损失\n",
    "        \n",
    "        # 因为l形状是(batch_size,1)，而不是一个标量。l中的所有元素被加到一起，\n",
    "        # 并以此计算关于[w,b]的梯度\n",
    "        l.sum().backward()\n",
    "        sgd([w, b], lr, batch_size)  # 使用参数的梯度更新参数\n",
    "        print(\"w:\",w.data,\"b:\",b.data )\n",
    "\n",
    "    # with 是在一个批次训练完成之后进行比较loss\n",
    "    with torch.no_grad():\n",
    "        print(\"w:\",w.data,\"b:\",b.data )\n",
    "        train_l = loss(net(features, w, b), labels)\n",
    "        print(f'epoch {epoch + 1}, loss {float(train_l.mean()):f}')"
   ]
  },
  {
   "cell_type": "markdown",
   "metadata": {
    "origin_pos": 34
   },
   "source": [
    "因为我们使用的是自己合成的数据集，所以我们知道真正的参数是什么。\n",
    "因此，我们可以通过[**比较真实参数和通过训练学到的参数来评估训练的成功程度**]。\n",
    "事实上，真实参数和通过训练学到的参数确实非常接近。\n"
   ]
  },
  {
   "cell_type": "code",
   "execution_count": null,
   "metadata": {
    "origin_pos": 35,
    "tab": [
     "pytorch"
    ]
   },
   "outputs": [
    {
     "name": "stdout",
     "output_type": "stream",
     "text": [
      "w的估计误差: tensor([-0.0004, -0.0002], grad_fn=<SubBackward0>)\n",
      "b的估计误差: tensor([3.1948e-05], grad_fn=<RsubBackward1>)\n"
     ]
    }
   ],
   "source": [
    "print(f'w的估计误差: {true_w - w.reshape(true_w.shape)}')\n",
    "print(f'b的估计误差: {true_b - b}')"
   ]
  },
  {
   "cell_type": "markdown",
   "metadata": {
    "origin_pos": 36
   },
   "source": [
    "注意，我们不应该想当然地认为我们能够完美地求解参数。\n",
    "在机器学习中，我们通常不太关心恢复真正的参数，而更关心如何高度准确预测参数。\n",
    "幸运的是，即使是在复杂的优化问题上，随机梯度下降通常也能找到非常好的解。\n",
    "其中一个原因是，在深度网络中存在许多参数组合能够实现高度精确的预测。\n",
    "\n",
    "## 小结\n",
    "\n",
    "* 我们学习了深度网络是如何实现和优化的。在这一过程中只使用张量和自动微分，不需要定义层或复杂的优化器。\n",
    "* 这一节只触及到了表面知识。在下面的部分中，我们将基于刚刚介绍的概念描述其他模型，并学习如何更简洁地实现其他模型。\n",
    "\n",
    "## 练习\n",
    "\n",
    "1. 如果我们将权重初始化为零，会发生什么。算法仍然有效吗？\n",
    "1. 假设你是[乔治·西蒙·欧姆](https://en.wikipedia.org/wiki/Georg_Ohm)，试图为电压和电流的关系建立一个模型。你能使用自动微分来学习模型的参数吗?\n",
    "1. 您能基于[普朗克定律](https://en.wikipedia.org/wiki/Planck%27s_law)使用光谱能量密度来确定物体的温度吗？\n",
    "1. 如果你想计算二阶导数可能会遇到什么问题？你会如何解决这些问题？\n",
    "1. 为什么在`squared_loss`函数中需要使用`reshape`函数？\n",
    "1. 尝试使用不同的学习率，观察损失函数值下降的快慢。\n",
    "1. 如果样本个数不能被批量大小整除，`data_iter`函数的行为会有什么变化？\n"
   ]
  },
  {
   "cell_type": "markdown",
   "metadata": {
    "origin_pos": 38,
    "tab": [
     "pytorch"
    ]
   },
   "source": [
    "[Discussions](https://discuss.d2l.ai/t/1778)\n"
   ]
  }
 ],
 "metadata": {
  "interpreter": {
   "hash": "ce539a29b37cbf6656fb94dad7e012f544b2b648a7f96b4739717121bbe2a2ab"
  },
  "kernelspec": {
   "display_name": "Python 3.9.7 64-bit ('pytorch': conda)",
   "language": "python",
   "name": "python3"
  },
  "language_info": {
   "codemirror_mode": {
    "name": "ipython",
    "version": 3
   },
   "file_extension": ".py",
   "mimetype": "text/x-python",
   "name": "python",
   "nbconvert_exporter": "python",
   "pygments_lexer": "ipython3",
   "version": "3.9.7"
  }
 },
 "nbformat": 4,
 "nbformat_minor": 4
}
